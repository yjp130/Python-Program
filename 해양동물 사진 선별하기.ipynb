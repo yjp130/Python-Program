{
 "cells": [
  {
   "cell_type": "code",
   "execution_count": 4,
   "metadata": {},
   "outputs": [],
   "source": [
    "from sklearn import model_selection\n",
    "from sklearn.model_selection import train_test_split\n",
    "from PIL import Image\n",
    "import os, glob\n",
    "import numpy as np"
   ]
  },
  {
   "cell_type": "code",
   "execution_count": 11,
   "metadata": {},
   "outputs": [],
   "source": [
    "root_dir=\"C:/Users/ktm/Desktop/marine animals/\""
   ]
  },
  {
   "cell_type": "code",
   "execution_count": 12,
   "metadata": {},
   "outputs": [],
   "source": [
    "categories=[\"seal\",\"polar bear\",\"penguin\"]"
   ]
  },
  {
   "cell_type": "code",
   "execution_count": 13,
   "metadata": {},
   "outputs": [],
   "source": [
    "nb_classes=len(categories)"
   ]
  },
  {
   "cell_type": "code",
   "execution_count": 14,
   "metadata": {},
   "outputs": [],
   "source": [
    "image_width=64\n",
    "image_height=64"
   ]
  },
  {
   "cell_type": "code",
   "execution_count": 24,
   "metadata": {},
   "outputs": [
    {
     "name": "stdout",
     "output_type": "stream",
     "text": [
      "C:/Users/ktm/Desktop/marine animals/seal/*.jpg\n",
      "C:/Users/ktm/Desktop/marine animals/seal/*.jpeg\n",
      "C:/Users/ktm/Desktop/marine animals/seal/*.png\n",
      "C:/Users/ktm/Desktop/marine animals/seal/*.gif\n",
      "C:/Users/ktm/Desktop/marine animals/polar bear/*.jpg\n",
      "C:/Users/ktm/Desktop/marine animals/polar bear/*.jpeg\n",
      "C:/Users/ktm/Desktop/marine animals/polar bear/*.png\n",
      "C:/Users/ktm/Desktop/marine animals/polar bear/*.gif\n",
      "C:/Users/ktm/Desktop/marine animals/penguin/*.jpg\n",
      "C:/Users/ktm/Desktop/marine animals/penguin/*.jpeg\n",
      "C:/Users/ktm/Desktop/marine animals/penguin/*.png\n",
      "C:/Users/ktm/Desktop/marine animals/penguin/*.gif\n",
      "(240, 64, 64, 3) (240,)\n"
     ]
    }
   ],
   "source": [
    "X=[]\n",
    "Y=[]\n",
    "\n",
    "for idx, category in enumerate(categories):\n",
    "    image_dir=root_dir+category\n",
    "    files=glob.glob(image_dir+\"/\"+\"*.jpg\") +glob.glob(image_dir+\"/\"+\"*.jpeg\")+glob.glob(image_dir+\"/\"+\"*.png\")+glob.glob(image_dir+\"/\"+\"*.gif\")\n",
    "                    \n",
    "    print(image_dir+\"/\"+\"*.jpg\")\n",
    "    print(image_dir+\"/\"+\"*.jpeg\")\n",
    "    print(image_dir+\"/\"+\"*.png\")        \n",
    "    print(image_dir+\"/\"+\"*.gif\")     \n",
    "                    \n",
    "    for i, f in enumerate(files):\n",
    "                    \n",
    "        img=Image.open(f)\n",
    "        img=img.convert(\"RGB\")\n",
    "        img=img.resize((image_width, image_height))\n",
    "        data=np.asarray(img)\n",
    "        X.append(data)\n",
    "        Y.append(idx)\n",
    "\n",
    "X=np.array(X)\n",
    "Y=np.array(Y)\n",
    "print(X.shape, Y.shape)\n",
    "    "
   ]
  },
  {
   "cell_type": "code",
   "execution_count": 26,
   "metadata": {},
   "outputs": [],
   "source": [
    "X_train, X_test, Y_train, Y_test=train_test_split(X,Y)\n",
    "xy=(X_train,X_test,Y_train,Y_test)"
   ]
  },
  {
   "cell_type": "code",
   "execution_count": 27,
   "metadata": {},
   "outputs": [],
   "source": [
    "np.save(root_dir+\"marine_animals.npy\",xy)"
   ]
  },
  {
   "cell_type": "code",
   "execution_count": 28,
   "metadata": {},
   "outputs": [
    {
     "name": "stdout",
     "output_type": "stream",
     "text": [
      " C 드라이브의 볼륨에는 이름이 없습니다.\n",
      " 볼륨 일련 번호: C021-92D8\n",
      "\n",
      " C:\\Users\\ktm 디렉터리\n",
      "\n",
      "2019-10-15  오후 04:53    <DIR>          .\n",
      "2019-10-15  오후 04:53    <DIR>          ..\n",
      "2019-09-02  오후 12:51    <DIR>          .anaconda\n",
      "2018-10-30  오후 02:18    <DIR>          .android\n",
      "2019-08-23  오후 06:17               414 .bash_history\n",
      "2019-09-02  오후 05:31    <DIR>          .conda\n",
      "2019-09-02  오후 01:12                60 .condarc\n",
      "2019-09-11  오후 04:23    <DIR>          .config\n",
      "2019-08-23  오후 05:06               198 .gitconfig\n",
      "2019-08-21  오전 10:01    <DIR>          .idlerc\n",
      "2019-10-15  오후 04:29    <DIR>          .ipynb_checkpoints\n",
      "2019-08-20  오전 09:23    <DIR>          .ipython\n",
      "2019-08-22  오전 09:03    <DIR>          .jupyter\n",
      "2019-09-23  오후 01:04    <DIR>          .keras\n",
      "2019-08-26  오전 09:39    <DIR>          .matplotlib\n",
      "2019-08-12  오후 02:59    <DIR>          .PyCharmCE2019.2\n",
      "2019-10-07  오후 02:13    <DIR>          .spyder-py3\n",
      "2018-12-21  오후 05:41    <DIR>          .thumbnails\n",
      "2019-08-23  오후 07:01             2,523 .viminfo\n",
      "2019-09-26  오후 03:14    <DIR>          Anaconda_src\n",
      "2019-09-24  오후 01:09    <DIR>          cache\n",
      "2019-08-16  오후 06:46    <DIR>          Contacts\n",
      "2019-04-23  오후 04:35    <DIR>          Creative Cloud Files\n",
      "2019-09-11  오후 04:23    <DIR>          data\n",
      "2019-09-02  오후 01:39            69,364 DB SQL.ipynb\n",
      "2019-10-15  오후 04:32    <DIR>          Desktop\n",
      "2019-09-25  오후 04:58    <DIR>          Documents\n",
      "2019-10-15  오후 04:25    <DIR>          Downloads\n",
      "2018-08-07  오후 06:46    <DIR>          Evernote\n",
      "2019-08-29  오후 04:40           411,488 Excel Data Handling & Visualization.ipynb\n",
      "2019-08-16  오후 06:46    <DIR>          Favorites\n",
      "2019-08-29  오후 03:46    <DIR>          figures\n",
      "2019-09-24  오전 10:22           297,043 First_KNN_modeling.ipynb\n",
      "2019-10-08  오후 12:42            10,740 GAN_example.ipynb\n",
      "2019-09-05  오후 07:38            40,164 HTML 실습과제.ipynb\n",
      "2019-08-28  오전 10:48       212,582,768 jdk-8u181-windows-x64.exe\n",
      "2019-10-01  오전 11:40            66,841 KMean Clustering Practice.ipynb\n",
      "2019-09-11  오후 03:55            24,461 Learning rate, Evaluation.ipynb\n",
      "2019-09-24  오후 04:49             8,299 Linear R_bike sharing.ipynb\n",
      "2019-08-16  오후 06:46    <DIR>          Links\n",
      "2019-09-03  오후 03:48            30,388 Map Handling.ipynb\n",
      "2019-08-23  오후 07:00            48,947 Map, Filter, Reduce.ipynb\n",
      "2019-08-29  오후 01:20         1,669,129 Matplotlib & Seaborn.ipynb\n",
      "2019-10-08  오전 10:24    <DIR>          mnist\n",
      "2019-09-11  오전 11:45            52,936 Multi-variable linear regression.ipynb\n",
      "2019-08-16  오후 06:46    <DIR>          Music\n",
      "2019-08-29  오전 09:41                31 my_data.txt\n",
      "2019-08-29  오전 09:41                52 my_data2.txt\n",
      "2019-10-03  오전 09:05    <DIR>          OneDrive\n",
      "2019-10-10  오전 10:55            33,663 Pandas 입문.ipynb\n",
      "2019-08-16  오후 06:46    <DIR>          Pictures\n",
      "2019-09-03  오전 09:37            65,519 practice.ipynb\n",
      "2019-08-28  오전 11:11       108,622,512 Rtools35.exe\n",
      "2019-08-26  오후 04:43           628,685 sample_emails.txt\n",
      "2019-08-16  오후 06:46    <DIR>          Saved Games\n",
      "2019-08-29  오전 11:38    <DIR>          seaborn-data\n",
      "2019-08-16  오후 06:46    <DIR>          Searches\n",
      "2019-09-06  오후 04:49           730,957 Selenium.ipynb\n",
      "2019-09-03  오후 06:32           187,209 seoul public demographic data analysis.ipynb\n",
      "2019-04-02  오후 04:12    <DIR>          source\n",
      "2019-08-23  오전 09:08                72 Untitled.ipynb\n",
      "2019-08-26  오전 09:18             2,107 Untitled1.ipynb\n",
      "2019-09-11  오후 03:09            25,602 Untitled10.ipynb\n",
      "2019-09-11  오후 03:27            22,978 Untitled11.ipynb\n",
      "2019-09-11  오후 04:30            23,041 Untitled12.ipynb\n",
      "2019-09-16  오후 05:23               555 Untitled13.ipynb\n",
      "2019-09-17  오전 09:10               555 Untitled14.ipynb\n",
      "2019-09-26  오전 09:09               555 Untitled15.ipynb\n",
      "2019-09-24  오후 03:21             3,325 Untitled16.ipynb\n",
      "2019-09-30  오전 09:07               555 Untitled17.ipynb\n",
      "2019-10-07  오후 01:32             2,327 Untitled18.ipynb\n",
      "2019-10-10  오후 03:28               555 Untitled19.ipynb\n",
      "2019-08-26  오전 10:38           146,933 Untitled2.ipynb\n",
      "2019-10-11  오전 09:06               555 Untitled20.ipynb\n",
      "2019-10-11  오전 10:27               555 Untitled21.ipynb\n",
      "2019-10-14  오후 05:03            72,630 Untitled22.ipynb\n",
      "2019-10-15  오전 11:08            13,610 Untitled23.ipynb\n",
      "2019-10-15  오후 02:30             4,989 Untitled24.ipynb\n",
      "2019-10-15  오후 04:23             3,978 Untitled25.ipynb\n",
      "2019-10-15  오후 04:53             3,568 Untitled26.ipynb\n",
      "2019-08-26  오후 04:55           127,679 Untitled3.ipynb\n",
      "2019-08-29  오후 04:46               555 Untitled4.ipynb\n",
      "2019-09-03  오후 03:07           101,850 Untitled5.ipynb\n",
      "2019-09-04  오전 09:16               555 Untitled6.ipynb\n",
      "2019-09-06  오전 09:11                72 Untitled7.ipynb\n",
      "2019-09-06  오후 03:00            92,839 Untitled8.ipynb\n",
      "2019-09-10  오후 01:26             1,858 Untitled9.ipynb\n",
      "2019-08-16  오후 06:46    <DIR>          Videos\n",
      "2019-08-27  오후 05:01         1,847,535 Visualizing Data.ipynb\n",
      "2019-09-06  오전 09:27            37,821 Web Crawling.ipynb\n",
      "2019-09-05  오전 11:24    <DIR>          webdocu\n",
      "2019-09-03  오전 10:40           285,712 노화빌딩 분석.ipynb\n",
      "2019-10-07  오후 04:20             2,246 데이콘 대회.ipynb\n",
      "2019-09-05  오후 06:22            10,067 랭킹정보 가져오기.ipynb\n",
      "2019-09-03  오후 12:41           165,066 범죄발생 분석.ipynb\n",
      "2019-09-05  오전 10:28           274,809 서울시 통계데이터 활용.ipynb\n",
      "2019-10-15  오전 09:34         1,175,349 서울지역+스타벅스+매장정보+크롤링+스타벅스지표+시각화.ipynb\n",
      "2019-09-24  오후 03:12            25,252 선형모델 -linear model.ipynb\n",
      "2019-09-06  오전 11:30           325,901 웹크롤링 part1.ipynb\n",
      "2019-09-06  오후 01:09            27,527 웹크롤링 part2.ipynb\n",
      "2019-09-05  오후 06:19           154,819 웹크롤링.ipynb\n",
      "2019-09-16  오후 05:21         3,279,420 제주도 지도 맵핑.ipynb\n",
      "2019-09-16  오후 07:28         1,451,664 최종프로젝트.ipynb\n",
      "2019-09-24  오후 02:05            88,176 타이타닉 생존자 예측(KNN모델링).ipynb\n",
      "2019-09-02  오후 05:16           112,687 타이타닉(쉬운 버젼).ipynb\n",
      "2019-09-02  오후 03:50            14,284 타이타닉.ipynb\n",
      "2019-09-03  오후 06:54           224,703 환경데이터(상계동 1281).ipynb\n",
      "              70개 파일         335,741,882 바이트\n",
      "              37개 디렉터리   1,801,658,368 바이트 남음\n"
     ]
    }
   ],
   "source": [
    "!dir"
   ]
  },
  {
   "cell_type": "code",
   "execution_count": 29,
   "metadata": {},
   "outputs": [
    {
     "name": "stderr",
     "output_type": "stream",
     "text": [
      "Using TensorFlow backend.\n"
     ]
    }
   ],
   "source": [
    "## 사용할 모델 라이브러리 import\n",
    "import sys, os\n",
    "from keras.models import Sequential\n",
    "from keras.layers import Convolution2D\n",
    "from keras.layers import MaxPooling2D\n",
    "from keras.layers import Activation\n",
    "from keras.layers import Dropout\n",
    "from keras.layers import Flatten\n",
    "from keras.layers import Dense\n",
    "from keras.utils import np_utils\n",
    "import numpy as np"
   ]
  },
  {
   "cell_type": "code",
   "execution_count": 30,
   "metadata": {},
   "outputs": [],
   "source": [
    "root_dir=\"C:/Users/ktm/Desktop/marine animals/\"\n",
    "categories=[\"seal\",\"polar bear\",\"penguin\"]\n",
    "nb_classes=len(categories)\n",
    "image_size=64"
   ]
  },
  {
   "cell_type": "code",
   "execution_count": 31,
   "metadata": {},
   "outputs": [],
   "source": [
    "def load_dataset():\n",
    "    x_train, x_test, y_train, y_test=np.load(root_dir+\"marine_animals.npy\")\n",
    "    x_train=x_train.astype(\"float\")/256\n",
    "    x_test=x_test.astype(\"float\")/256\n",
    "    y_train=np_utils.to_categorical(y_train, nb_classes)\n",
    "    y_test=np_utils.to_categorical(y_test,nb_classes)\n",
    "    return x_train, x_test, y_train, y_test"
   ]
  },
  {
   "cell_type": "code",
   "execution_count": 34,
   "metadata": {},
   "outputs": [],
   "source": [
    "# 모델 구성 (2)\n",
    "def build_model(in_shape):\n",
    "    model = Sequential()\n",
    "    model.add(Convolution2D(32, 3, 3, border_mode='Same',input_shape=in_shape))\n",
    "    model.add(Activation('sigmoid'))\n",
    "    model.add(MaxPooling2D(pool_size=(2,2)))\n",
    "    model.add(Dropout(0.25)) # dropout\n",
    "    model.add(Convolution2D(64, 3, 3, border_mode='same'))\n",
    "    model.add(Activation('sigmoid'))\n",
    "    model.add(Convolution2D(64, 3, 3))\n",
    "    model.add(MaxPooling2D(pool_size=(2,2)))\n",
    "    # dropout\n",
    "    model.add(Flatten())\n",
    "    model.add(Dense(512))\n",
    "    model.add(Activation('sigmoid'))\n",
    "    # dropout\n",
    "    model.add(Dense(nb_classes))\n",
    "    model.add(Activation('softmax'))\n",
    "    model.compile(loss='binary_crossentropy',\n",
    "    optimizer='rmsprop',\n",
    "    metrics=['accuracy'])\n",
    "    return model"
   ]
  },
  {
   "cell_type": "code",
   "execution_count": 36,
   "metadata": {},
   "outputs": [],
   "source": [
    "# 모델 학습을 수행하고 저장된 모델을 파일로 저장 (3)\n",
    "def model_train(x, y):\n",
    "    model = build_model(x.shape[1:])\n",
    "    model.fit(x, y, batch_size=32, epochs=20)\n",
    "    return model"
   ]
  },
  {
   "cell_type": "code",
   "execution_count": 38,
   "metadata": {},
   "outputs": [],
   "source": [
    "# 모델 평가하기 (4)\n",
    "def model_eval(model, x, y):\n",
    "    score = model.evaluate(x, y)\n",
    "    print('loss=', score[0])\n",
    "    print('accuracy=', score[1])"
   ]
  },
  {
   "cell_type": "code",
   "execution_count": 39,
   "metadata": {},
   "outputs": [
    {
     "name": "stderr",
     "output_type": "stream",
     "text": [
      "WARNING: Logging before flag parsing goes to stderr.\n",
      "W1015 16:58:55.770803 10936 deprecation_wrapper.py:119] From C:\\Python\\Anaconda3\\lib\\site-packages\\keras\\backend\\tensorflow_backend.py:66: The name tf.get_default_graph is deprecated. Please use tf.compat.v1.get_default_graph instead.\n",
      "\n",
      "C:\\Python\\Anaconda3\\lib\\site-packages\\ipykernel_launcher.py:4: UserWarning: Update your `Conv2D` call to the Keras 2 API: `Conv2D(32, (3, 3), input_shape=(64, 64, 3..., padding=\"Same\")`\n",
      "  after removing the cwd from sys.path.\n",
      "W1015 16:58:55.798149 10936 deprecation_wrapper.py:119] From C:\\Python\\Anaconda3\\lib\\site-packages\\keras\\backend\\tensorflow_backend.py:541: The name tf.placeholder is deprecated. Please use tf.compat.v1.placeholder instead.\n",
      "\n",
      "W1015 16:58:55.801078 10936 deprecation_wrapper.py:119] From C:\\Python\\Anaconda3\\lib\\site-packages\\keras\\backend\\tensorflow_backend.py:4432: The name tf.random_uniform is deprecated. Please use tf.random.uniform instead.\n",
      "\n",
      "W1015 16:58:55.821587 10936 deprecation_wrapper.py:119] From C:\\Python\\Anaconda3\\lib\\site-packages\\keras\\backend\\tensorflow_backend.py:4267: The name tf.nn.max_pool is deprecated. Please use tf.nn.max_pool2d instead.\n",
      "\n",
      "W1015 16:58:55.827449 10936 deprecation_wrapper.py:119] From C:\\Python\\Anaconda3\\lib\\site-packages\\keras\\backend\\tensorflow_backend.py:148: The name tf.placeholder_with_default is deprecated. Please use tf.compat.v1.placeholder_with_default instead.\n",
      "\n",
      "W1015 16:58:55.837214 10936 deprecation.py:506] From C:\\Python\\Anaconda3\\lib\\site-packages\\keras\\backend\\tensorflow_backend.py:3733: calling dropout (from tensorflow.python.ops.nn_ops) with keep_prob is deprecated and will be removed in a future version.\n",
      "Instructions for updating:\n",
      "Please use `rate` instead of `keep_prob`. Rate should be set to `rate = 1 - keep_prob`.\n",
      "C:\\Python\\Anaconda3\\lib\\site-packages\\ipykernel_launcher.py:8: UserWarning: Update your `Conv2D` call to the Keras 2 API: `Conv2D(64, (3, 3), padding=\"same\")`\n",
      "  \n",
      "C:\\Python\\Anaconda3\\lib\\site-packages\\ipykernel_launcher.py:10: UserWarning: Update your `Conv2D` call to the Keras 2 API: `Conv2D(64, (3, 3))`\n",
      "  # Remove the CWD from sys.path while we load stuff.\n",
      "W1015 16:58:55.926085 10936 deprecation_wrapper.py:119] From C:\\Python\\Anaconda3\\lib\\site-packages\\keras\\optimizers.py:793: The name tf.train.Optimizer is deprecated. Please use tf.compat.v1.train.Optimizer instead.\n",
      "\n",
      "W1015 16:58:55.947571 10936 deprecation_wrapper.py:119] From C:\\Python\\Anaconda3\\lib\\site-packages\\keras\\backend\\tensorflow_backend.py:3657: The name tf.log is deprecated. Please use tf.math.log instead.\n",
      "\n",
      "W1015 16:58:55.953431 10936 deprecation.py:323] From C:\\Python\\Anaconda3\\lib\\site-packages\\tensorflow\\python\\ops\\nn_impl.py:180: add_dispatch_support.<locals>.wrapper (from tensorflow.python.ops.array_ops) is deprecated and will be removed in a future version.\n",
      "Instructions for updating:\n",
      "Use tf.where in 2.0, which has the same broadcast rule as np.where\n"
     ]
    },
    {
     "name": "stdout",
     "output_type": "stream",
     "text": [
      "Epoch 1/20\n",
      "180/180 [==============================] - 12s 67ms/step - loss: 2.0721 - acc: 0.5685\n",
      "Epoch 2/20\n",
      "180/180 [==============================] - 11s 63ms/step - loss: 2.3529 - acc: 0.5630\n",
      "Epoch 3/20\n",
      "180/180 [==============================] - 12s 66ms/step - loss: 2.3491 - acc: 0.5444\n",
      "Epoch 4/20\n",
      "180/180 [==============================] - 12s 67ms/step - loss: 2.3489 - acc: 0.5296\n",
      "Epoch 5/20\n",
      "180/180 [==============================] - 12s 65ms/step - loss: 2.3657 - acc: 0.5259\n",
      "Epoch 6/20\n",
      "180/180 [==============================] - 11s 61ms/step - loss: 2.3583 - acc: 0.5185\n",
      "Epoch 7/20\n",
      "180/180 [==============================] - 11s 61ms/step - loss: 2.3497 - acc: 0.5667\n",
      "Epoch 8/20\n",
      "180/180 [==============================] - 11s 61ms/step - loss: 2.3423 - acc: 0.5630\n",
      "Epoch 9/20\n",
      "180/180 [==============================] - 11s 63ms/step - loss: 2.3670 - acc: 0.5185\n",
      "Epoch 10/20\n",
      "180/180 [==============================] - 11s 62ms/step - loss: 2.3464 - acc: 0.5481\n",
      "Epoch 11/20\n",
      "180/180 [==============================] - 11s 59ms/step - loss: 2.3535 - acc: 0.5481\n",
      "Epoch 12/20\n",
      "180/180 [==============================] - 11s 60ms/step - loss: 2.3541 - acc: 0.5407\n",
      "Epoch 13/20\n",
      "180/180 [==============================] - 10s 57ms/step - loss: 2.3482 - acc: 0.5593\n",
      "Epoch 14/20\n",
      "180/180 [==============================] - 10s 55ms/step - loss: 2.3636 - acc: 0.5370\n",
      "Epoch 15/20\n",
      "180/180 [==============================] - 11s 59ms/step - loss: 2.3642 - acc: 0.5296\n",
      "Epoch 16/20\n",
      "180/180 [==============================] - 11s 62ms/step - loss: 2.3429 - acc: 0.5593\n",
      "Epoch 17/20\n",
      "180/180 [==============================] - 11s 61ms/step - loss: 2.3614 - acc: 0.5667\n",
      "Epoch 18/20\n",
      "180/180 [==============================] - 11s 62ms/step - loss: 2.3558 - acc: 0.5370\n",
      "Epoch 19/20\n",
      "180/180 [==============================] - 11s 62ms/step - loss: 2.3596 - acc: 0.5407\n",
      "Epoch 20/20\n",
      "180/180 [==============================] - 11s 60ms/step - loss: 2.3537 - acc: 0.5185\n",
      "60/60 [==============================] - 1s 16ms/step\n",
      "loss= 1.9824729998906454\n",
      "accuracy= 0.5999999721844991\n"
     ]
    }
   ],
   "source": [
    "# 모델 학습 및 평가\n",
    "x_train, x_test, y_train, y_test = load_dataset()\n",
    "model = model_train(x_train, y_train)\n",
    "model_eval(model, x_test, y_test)"
   ]
  },
  {
   "cell_type": "code",
   "execution_count": 40,
   "metadata": {},
   "outputs": [],
   "source": [
    "# # 모델 저장\n",
    "model.save(root_dir + \"marine_animals.h5\")"
   ]
  }
 ],
 "metadata": {
  "kernelspec": {
   "display_name": "Python 3",
   "language": "python",
   "name": "python3"
  },
  "language_info": {
   "codemirror_mode": {
    "name": "ipython",
    "version": 3
   },
   "file_extension": ".py",
   "mimetype": "text/x-python",
   "name": "python",
   "nbconvert_exporter": "python",
   "pygments_lexer": "ipython3",
   "version": "3.7.3"
  }
 },
 "nbformat": 4,
 "nbformat_minor": 2
}
