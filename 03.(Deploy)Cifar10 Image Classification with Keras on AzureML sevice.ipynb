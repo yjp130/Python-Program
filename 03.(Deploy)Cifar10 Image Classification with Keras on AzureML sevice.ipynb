{
 "cells": [
  {
   "cell_type": "markdown",
   "metadata": {},
   "source": [
    "# SBA 빅데이터 사이언스 실무연계 프로젝트 🏫\n",
    "\n",
    "## Machine Learning sevice on DSVM ☁️ - 세 번째\n",
    "---\n",
    "### 03. Cifar10 Image Classification Model Deploy\n",
    "* [Azure Machine Learning를 사용하여 모델 배포](https://docs.microsoft.com/ko-kr/azure/machine-learning/service/how-to-deploy-and-where/?WT.mc_id=AI-MVP-5003262)  \n",
    "* [Azure Machine Learning에서 기존 모델 사용\n",
    "](https://docs.microsoft.com/ko-kr/azure/machine-learning/service/how-to-deploy-existing-model/?WT.mc_id=AI-MVP-5003262)"
   ]
  },
  {
   "cell_type": "markdown",
   "metadata": {},
   "source": [
    "---\n",
    "\n",
    "## Part1. 배포 환경 설정\n",
    "\n",
    "1. Workspace 연결\n",
    "2. datastore 객체 가져오기\n",
    "3. 생성된 모델확인"
   ]
  },
  {
   "cell_type": "markdown",
   "metadata": {},
   "source": [
    "### 1-1. Workspace 연결"
   ]
  },
  {
   "cell_type": "code",
   "execution_count": null,
   "metadata": {},
   "outputs": [],
   "source": [
    "import azureml\n",
    "from azureml.core import Workspace\n",
    "\n",
    "# Azure core SDK version 확인\n",
    "print(\"Azure ML SDK Version: \", azureml.core.VERSION)"
   ]
  },
  {
   "cell_type": "code",
   "execution_count": null,
   "metadata": {},
   "outputs": [],
   "source": [
    "ws = Workspace.from_config()\n",
    "print('Workspace name: ' + ws.name, \n",
    "      'Azure region: ' + ws.location, \n",
    "      'Subscription id: ' + ws.subscription_id, \n",
    "      'Resource group: ' + ws.resource_group, sep='\\n')"
   ]
  },
  {
   "cell_type": "markdown",
   "metadata": {},
   "source": [
    "### 1-2. datastore 객체 연결"
   ]
  },
  {
   "cell_type": "code",
   "execution_count": null,
   "metadata": {},
   "outputs": [],
   "source": [
    "ds = ws.get_default_datastore()\n",
    "print(ds)"
   ]
  },
  {
   "cell_type": "markdown",
   "metadata": {},
   "source": [
    "### 1-3. 모델 객체 연결"
   ]
  },
  {
   "cell_type": "code",
   "execution_count": null,
   "metadata": {},
   "outputs": [],
   "source": [
    "from azureml.core.model import Model\n",
    "\n",
    "model = Model(ws, 'keras_cifar10_gpu')"
   ]
  },
  {
   "cell_type": "code",
   "execution_count": null,
   "metadata": {},
   "outputs": [],
   "source": [
    "print(model.id)"
   ]
  },
  {
   "cell_type": "markdown",
   "metadata": {},
   "source": [
    "---\n",
    "## Part2. 이미지 등록 및 배포하기\n",
    "\n",
    "1. 모델 동작 코드 확인(score.py)\n",
    "2. Container 이미지 환경 파일 생성(myenv.yml)\n",
    "3. Azure Container Instance 생성\n",
    "4. Container Image 설정\n",
    "5. 이미지 Build 및 Instance Deploy\n",
    "\n",
    "**참고자료**  \n",
    "[Azure Container Instance에서 이미지 분류 모델 배포](https://docs.microsoft.com/ko-kr/azure/machine-learning/service/tutorial-deploy-models-with-aml/?WT.mc_id=AI-MVP-5003262)"
   ]
  },
  {
   "cell_type": "markdown",
   "metadata": {},
   "source": [
    "### 2-1. score.py 내용 확인"
   ]
  },
  {
   "cell_type": "code",
   "execution_count": null,
   "metadata": {},
   "outputs": [],
   "source": [
    "# 모델 동작 코드 확인\n",
    "import os\n",
    "\n",
    "with open('./score.py', 'r') as f:\n",
    "    print(f.read())"
   ]
  },
  {
   "cell_type": "markdown",
   "metadata": {},
   "source": [
    "### 2-2. Container 이미지 환경 파일 생성"
   ]
  },
  {
   "cell_type": "code",
   "execution_count": null,
   "metadata": {},
   "outputs": [],
   "source": [
    "# Container 이미지 동작 환경 설정 파일을 생성\n",
    "from azureml.core.runconfig import CondaDependencies\n",
    "\n",
    "cd = CondaDependencies.create()\n",
    "cd.add_conda_package('tensorflow')\n",
    "cd.add_conda_package('keras')\n",
    "cd.add_conda_package('scikit-learn')\n",
    "cd.save_to_file(base_directory='./', conda_file_path='myenv.yml')\n",
    "\n",
    "print(cd.serialize_to_string())"
   ]
  },
  {
   "cell_type": "markdown",
   "metadata": {},
   "source": [
    "### 2-3. Azure Container Instance 배포 내용 설정"
   ]
  },
  {
   "cell_type": "code",
   "execution_count": null,
   "metadata": {},
   "outputs": [],
   "source": [
    "# 인스턴스 동작 환경을 설정\n",
    "from azureml.core.webservice import AciWebservice\n",
    "\n",
    "aciconfig = AciWebservice.deploy_configuration(cpu_cores=1, \n",
    "                                               auth_enabled=True, # this flag generates API keys to secure access\n",
    "                                               memory_gb=2, \n",
    "                                               tags={'name':'cifar10', 'framework': 'Keras'},\n",
    "                                               description='Keras MLP on cifar10')"
   ]
  },
  {
   "cell_type": "markdown",
   "metadata": {},
   "source": [
    "### 2-4. Container Image 설정"
   ]
  },
  {
   "cell_type": "code",
   "execution_count": null,
   "metadata": {},
   "outputs": [],
   "source": [
    "# Container 이미지 동작 환경을 저장\n",
    "from azureml.core.image import ContainerImage\n",
    "\n",
    "imgconfig = ContainerImage.image_configuration(execution_script=\"score.py\", \n",
    "                                               runtime=\"python\", \n",
    "                                               conda_file=\"myenv.yml\")"
   ]
  },
  {
   "cell_type": "markdown",
   "metadata": {},
   "source": [
    "### 2-5. 이미지 Build 및 Instance Deploy"
   ]
  },
  {
   "cell_type": "code",
   "execution_count": null,
   "metadata": {},
   "outputs": [],
   "source": [
    "%%time\n",
    "from azureml.core.webservice import Webservice\n",
    "\n",
    "service = Webservice.deploy_from_model(workspace=ws,\n",
    "                                       name='keras-cifar10-svc',\n",
    "                                       deployment_config=aciconfig,\n",
    "                                       models=[model],\n",
    "                                       image_config=imgconfig)\n",
    "\n",
    "service.wait_for_deployment(show_output=True)"
   ]
  },
  {
   "cell_type": "markdown",
   "metadata": {},
   "source": [
    "---\n",
    "## Part3. 배포된 Instance 사용하기\n",
    "\n",
    "1. 배포된 Instnace 의 접속 url 확인\n",
    "2. 배포된 Instnace 사용하기"
   ]
  },
  {
   "cell_type": "markdown",
   "metadata": {},
   "source": [
    "### 3-1. 배포된 Instance 의 접속 url 확인"
   ]
  },
  {
   "cell_type": "code",
   "execution_count": null,
   "metadata": {},
   "outputs": [],
   "source": [
    "print(service.scoring_uri)"
   ]
  },
  {
   "cell_type": "markdown",
   "metadata": {},
   "source": [
    "### 3-2. 배포된 Instance 사용하기"
   ]
  },
  {
   "cell_type": "code",
   "execution_count": null,
   "metadata": {},
   "outputs": [],
   "source": [
    "# 이미지와 라벨 데이터를 가져오기\n",
    "from sklearn.model_selection import train_test_split\n",
    "import numpy as np\n",
    "\n",
    "cifar10_label = [\"airplane\", \"automobile\", \"bird\", \"cat\", \"deer\", \"dog\", \"frog\", \"horse\", \"ship\", \"truck\"]\n",
    "\n",
    "images = np.load('./data/images.npy')\n",
    "label = np.load('./data/label.npy')\n",
    "\n",
    "X_train, X_test, y_train, y_test = train_test_split(images, label, test_size = 0.2)\n",
    "\n",
    "print(\"Total Images:\", images.shape)\n",
    "print(\"Total Label:\", label.shape)\n",
    "print(X_train.shape, y_train.shape, X_test.shape, y_test.shape, sep='\\n')"
   ]
  },
  {
   "cell_type": "code",
   "execution_count": null,
   "metadata": {},
   "outputs": [],
   "source": [
    "import json\n",
    "\n",
    "# 테스트 셋 중 랜덤으로 10개 선별\n",
    "n = 10\n",
    "sample_indices = np.random.permutation(X_test.shape[0])[0:n]\n",
    "\n",
    "test_samples = json.dumps({\"data\": X_test[sample_indices].tolist()})\n",
    "test_samples = bytes(test_samples, encoding='utf8')\n",
    "\n",
    "# 실제 배포된 서비스로 예측 동작 확인\n",
    "result = service.run(input_data=test_samples)"
   ]
  },
  {
   "cell_type": "code",
   "execution_count": null,
   "metadata": {},
   "outputs": [],
   "source": [
    "# 예측 결과 시각화\n",
    "%matplotlib inline\n",
    "\n",
    "import matplotlib.pyplot as plt\n",
    "\n",
    "i = 0\n",
    "plt.figure(figsize = (20, 1))\n",
    "\n",
    "for s in sample_indices:\n",
    "    plt.subplot(1, n, i + 1)\n",
    "    plt.axhline('')\n",
    "    plt.axvline('')\n",
    "    \n",
    "    # use different color for misclassified sample\n",
    "    font_color = 'red' if y_test[s] != result[i] else 'black'\n",
    "    clr_map = plt.cm.gray if y_test[s] != result[i] else plt.cm.Greys\n",
    "    \n",
    "    plt.text(x=10, y=-10, s=cifar10_label[i], fontsize=18, color=font_color)\n",
    "    plt.imshow(X_test[s], cmap=clr_map)\n",
    "    \n",
    "    i = i + 1\n",
    "plt.show()"
   ]
  },
  {
   "cell_type": "code",
   "execution_count": null,
   "metadata": {},
   "outputs": [],
   "source": [
    "# local 이미지 예측\n",
    "from PIL import Image\n",
    "local_image = 'local_image.jpg'\n",
    "image = Image.open(local_image)\n",
    "\n",
    "# resize\n",
    "resized_image = image.resize((32, 32))\n",
    "images = np.array(resized_image)\n",
    "\n",
    "data = np.zeros((1, 32, 32, 3), dtype=np.uint8)\n",
    "data[0] = images\n",
    "\n",
    "local_test_sample = json.dumps({\"data\": data.tolist()})\n",
    "local_test_sample = bytes(local_test_sample, encoding='utf8')\n",
    "\n",
    "result = service.run(input_data= local_test_sample)[0]\n",
    "print('Result is:', cifar10_label[result])"
   ]
  },
  {
   "cell_type": "markdown",
   "metadata": {},
   "source": [
    "---\n",
    "수고하셨습니다 🕊"
   ]
  }
 ],
 "metadata": {
  "kernelspec": {
   "display_name": "Python 3.6 - AzureML",
   "language": "python",
   "name": "python3-azureml"
  },
  "language_info": {
   "codemirror_mode": {
    "name": "ipython",
    "version": 3
   },
   "file_extension": ".py",
   "mimetype": "text/x-python",
   "name": "python",
   "nbconvert_exporter": "python",
   "pygments_lexer": "ipython3",
   "version": "3.6.8"
  }
 },
 "nbformat": 4,
 "nbformat_minor": 2
}
