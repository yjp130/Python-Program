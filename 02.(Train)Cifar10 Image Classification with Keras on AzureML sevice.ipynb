{
 "cells": [
  {
   "cell_type": "markdown",
   "metadata": {},
   "source": [
    "# SBA 빅데이터 사이언스 실무연계 프로젝트 🏫\n",
    "\n",
    "## Machine Learning sevice on DSVM ☁️ - 두 번째\n",
    "---\n",
    "### 02. Cifar10 Image Classification with Keras on Azure ML service\n",
    "* [Azure Machine Learning이란?](https://docs.microsoft.com/ko-kr/azure/machine-learning/service/overview-what-is-azure-ml/?WT.mc_id=AI-MVP-5003262)  \n",
    "* [Azure Machine Learning을 사용하여 모델 학습](https://docs.microsoft.com/ko-kr/azure/machine-learning/service/concept-train-machine-learning-model/?WT.mc_id=AI-MVP-5003262)"
   ]
  },
  {
   "cell_type": "markdown",
   "metadata": {},
   "source": [
    "##### 전미정 | 2019.11.21. | ninevincentg@gmail.com\n",
    "---"
   ]
  },
  {
   "cell_type": "markdown",
   "metadata": {},
   "source": [
    "## Part1. 개발 환경 설정\n",
    "\n",
    "1. Workspace 연결\n",
    "2. Experiment 생성\n",
    "3. 학습에 사용할 remote compute 생성\n",
    "4. 데이터 준비"
   ]
  },
  {
   "cell_type": "markdown",
   "metadata": {},
   "source": [
    "### 1-1. Workspace 연결"
   ]
  },
  {
   "cell_type": "code",
   "execution_count": null,
   "metadata": {},
   "outputs": [],
   "source": [
    "import azureml\n",
    "from azureml.core import Workspace\n",
    "\n",
    "# Azure core SDK version 확인\n",
    "print(\"Azure ML SDK Version: \", azureml.core.VERSION)"
   ]
  },
  {
   "cell_type": "code",
   "execution_count": null,
   "metadata": {},
   "outputs": [],
   "source": [
    "# 다운 받은 config.json에서 복붙해주세요!\n",
    "\n",
    "subscription_id = 'subscription_id'\n",
    "resource_group  = 'resource_group'\n",
    "workspace_name  = 'workspace_name'\n",
    "\n",
    "try:\n",
    "    ws = Workspace(subscription_id = subscription_id, resource_group = resource_group, workspace_name = workspace_name)\n",
    "    ws.write_config()\n",
    "    print('Library configuration succeeded')\n",
    "except:\n",
    "    print('Workspace not found')\n",
    "    \n",
    "# 계정 인증문구가 뜨면 하단에 영문과 숫자로 이루어진 코드 9자리를 복사한 후 링크(https://microsoft.com/devicelogin)을 클릭해 붙여넣어주세요."
   ]
  },
  {
   "cell_type": "markdown",
   "metadata": {},
   "source": [
    "### 1-2. Experiment 생성"
   ]
  },
  {
   "cell_type": "code",
   "execution_count": null,
   "metadata": {},
   "outputs": [],
   "source": [
    "from azureml.core import Experiment\n",
    "\n",
    "exp = Experiment(workspace=ws, name='keras_cifar10')"
   ]
  },
  {
   "cell_type": "markdown",
   "metadata": {},
   "source": [
    "### 1-3. 학습에 사용할 remote compute 생성 🌟⭐️🌟\n",
    "\n",
    "**참고자료**  \n",
    "[Azure Machine Learning에서 계산 대상 이란?](https://docs.microsoft.com/ko-kr/azure/machine-learning/service/concept-compute-target/?WT.mc_id=AI-MVP-5003262)"
   ]
  },
  {
   "cell_type": "code",
   "execution_count": null,
   "metadata": {},
   "outputs": [],
   "source": [
    "from azureml.core.compute import AmlCompute\n",
    "from azureml.core.compute import ComputeTarget\n",
    "import os\n",
    "\n",
    "# cluster의 이름 설정\n",
    "# compute_name = os.environ.get(\"AML_COMPUTE_CLUSTER_NAME\", \"cpucluster\")\n",
    "# # cluster의 최소/최대 노드 수 설정\n",
    "# compute_min_nodes = os.environ.get(\"AML_COMPUTE_CLUSTER_MIN_NODES\", 0)\n",
    "# compute_max_nodes = os.environ.get(\"AML_COMPUTE_CLUSTER_MAX_NODES\", 4)\n",
    "\n",
    "# # 기본 VM size: STANDARD_D2_V2\n",
    "# vm_size = os.environ.get(\"AML_COMPUTE_CLUSTER_SKU\", \"STANDARD_D2_V2\")\n",
    "\n",
    "# # ----- GPU를 사용하려면 아래 4줄 코드를 주석 해제해주세요. -----#\n",
    "compute_name = os.environ.get(\"AML_COMPUTE_CLUSTER_NAME\", \"gpucluster\")\n",
    "compute_min_nodes = os.environ.get(\"AML_COMPUTE_CLUSTER_MIN_NODES\", 0)\n",
    "compute_max_nodes = os.environ.get(\"AML_COMPUTE_CLUSTER_MAX_NODES\", 4)\n",
    "\n",
    "vm_size = os.environ.get(\"AML_COMPUTE_CLUSTER_SKU\", \"STANDARD_NC12\")\n",
    "\n",
    "\n",
    "if compute_name in ws.compute_targets:\n",
    "    compute_target = ws.compute_targets[compute_name]\n",
    "    if compute_target and type(compute_target) is AmlCompute:\n",
    "        print('found compute target. just use it. ' + compute_name)\n",
    "else:\n",
    "    print('creating a new compute target...')\n",
    "    provisioning_config = AmlCompute.provisioning_configuration(vm_size = vm_size,\n",
    "                                                                min_nodes = compute_min_nodes, \n",
    "                                                                max_nodes = compute_max_nodes)\n",
    "\n",
    "    # compute 생성\n",
    "    compute_target = ComputeTarget.create(ws, compute_name, provisioning_config)\n",
    "    \n",
    "    # can poll for a minimum number of nodes and for a specific timeout. \n",
    "    # if no min node count is provided it will use the scale settings for the cluster\n",
    "    compute_target.wait_for_completion(show_output=True, min_node_count=None, timeout_in_minutes=20)\n",
    "    "
   ]
  },
  {
   "cell_type": "code",
   "execution_count": null,
   "metadata": {},
   "outputs": [],
   "source": [
    "# Remote compute 목록 및 선택된 compute 확인 \n",
    "compute_targets = ws.compute_targets\n",
    "for name, ct in compute_targets.items():\n",
    "    print(name, ct.type, ct.provisioning_state)\n",
    "    \n",
    "print(\"Selected computer: \", compute_target.get_status().serialize()['vmSize'])"
   ]
  },
  {
   "cell_type": "markdown",
   "metadata": {},
   "source": [
    "### 1-4. 데이터 준비(Blob storage 연결)"
   ]
  },
  {
   "cell_type": "code",
   "execution_count": null,
   "metadata": {},
   "outputs": [],
   "source": [
    "# 데이터 다운로드\n",
    "import urllib\n",
    "\n",
    "os.makedirs('./data/', exist_ok=True)\n",
    "\n",
    "images_url = 'https://www.dropbox.com/s/ua5rtnb1k4mdzpz/dataset.npy?dl=1'\n",
    "label_url = 'https://www.dropbox.com/s/9apie8xg9vqylws/label.npy?dl=1'\n",
    "\n",
    "urllib.request.urlretrieve(images_url, filename='./data/images.npy')\n",
    "urllib.request.urlretrieve(label_url, filename='./data/label.npy')"
   ]
  },
  {
   "cell_type": "code",
   "execution_count": null,
   "metadata": {},
   "outputs": [],
   "source": [
    "# 데이터 확인\n",
    "from sklearn.model_selection import train_test_split\n",
    "import numpy as np\n",
    "\n",
    "images = np.load('./data/images.npy')\n",
    "label = np.load('./data/label.npy')\n",
    "\n",
    "X_train, X_test, y_train, y_test = train_test_split(images, label, test_size = 0.2)\n",
    "\n",
    "print(\"Total Images:\", images.shape)\n",
    "print(\"Total Label:\", label.shape)\n",
    "print(X_train.shape, y_train.shape, X_test.shape, y_test.shape, sep='\\n')"
   ]
  },
  {
   "cell_type": "code",
   "execution_count": null,
   "metadata": {},
   "outputs": [],
   "source": [
    "# 이미지, 레이블 확인\n",
    "\n",
    "%matplotlib inline\n",
    "\n",
    "import matplotlib.pyplot as plt\n",
    "\n",
    "cifar10_label = [\"airplane\", \"automobile\", \"bird\", \"cat\", \"deer\", \"dog\", \"frog\", \"horse\", \"ship\", \"truck\"]\n",
    "\n",
    "count = 0\n",
    "sample_size = 10\n",
    "plt.figure(figsize = (16, 6))\n",
    "for i in np.random.permutation(images.shape[0])[:sample_size]:\n",
    "    count = count + 1\n",
    "    plt.subplot(1, sample_size, count)\n",
    "    plt.axhline('')\n",
    "    plt.axvline('')\n",
    "    plt.text(x=10, y=-10, s=cifar10_label[label[i]], fontsize=15)\n",
    "    plt.imshow(images[i], cmap=plt.cm.Greys)\n",
    "\n",
    "plt.show()"
   ]
  },
  {
   "cell_type": "code",
   "execution_count": null,
   "metadata": {},
   "outputs": [],
   "source": [
    "# Workspace와 연결된 datastore 가져오기 🌟⭐️🌟\n",
    "\n",
    "ds = ws.get_default_datastore()\n",
    "print(ds)"
   ]
  },
  {
   "cell_type": "code",
   "execution_count": null,
   "metadata": {},
   "outputs": [],
   "source": [
    "# datastore에 이미지 파일 업로드 🌟⭐️🌟\n",
    "\n",
    "ds.upload(src_dir='./data', target_path='cifar10', overwrite=True, show_progress=True)"
   ]
  },
  {
   "cell_type": "markdown",
   "metadata": {},
   "source": [
    "---\n",
    "## Part2. 모델 학습 환경 설정 🌟⭐️🌟\n",
    "\n",
    "1. 원격 리소스로 전달할 파일 디렉토리 생성\n",
    "2. 학습 스크립트 설정\n",
    "3. Estimator 생성 및 스크립트 파라미터 설정\n",
    "4. Estimator 제출\n",
    "\n",
    "**참고자료**  \n",
    "[Azure Machine Learning에서 MNIST 데이터와 scikit-learn을 사용하여 이미지 분류 모델 학습](https://docs.microsoft.com/ko-kr/azure/machine-learning/service/tutorial-train-models-with-aml/?WT.mc_id=AI-MVP-5003262)"
   ]
  },
  {
   "cell_type": "markdown",
   "metadata": {},
   "source": [
    "### 2-1. 디렉토리 생성"
   ]
  },
  {
   "cell_type": "code",
   "execution_count": null,
   "metadata": {},
   "outputs": [],
   "source": [
    "import os\n",
    "import shutil\n",
    "\n",
    "# 스크립트를 저장할 디렉토리 생성\n",
    "script_folder = './keras_cifar10'\n",
    "os.makedirs(script_folder, exist_ok=True)\n",
    "\n",
    "# 학습 스크립트 복사\n",
    "shutil.copy('./cifar10_train.py', script_folder)"
   ]
  },
  {
   "cell_type": "markdown",
   "metadata": {},
   "source": [
    "### 2-2. 학습 스크립트 복사"
   ]
  },
  {
   "cell_type": "code",
   "execution_count": null,
   "metadata": {},
   "outputs": [],
   "source": [
    "# 학습 스크립트 복사 및 확인\n",
    "with open(os.path.join(script_folder, './cifar10_train.py'), 'r') as f:\n",
    "    print(f.read())"
   ]
  },
  {
   "cell_type": "markdown",
   "metadata": {},
   "source": [
    "### 2-3. Estimator 생성 및 파라미터 설정"
   ]
  },
  {
   "cell_type": "code",
   "execution_count": null,
   "metadata": {},
   "outputs": [],
   "source": [
    "from azureml.train.dnn import TensorFlow\n",
    "\n",
    "script_params = {\n",
    "    '--data-folder': ds.path('cifar10').as_mount(),\n",
    "    '--batch-size': 32,\n",
    "    '--epoch' : 50,\n",
    "    '--first-dropout': 0.2,\n",
    "    '--second-dropout': 0.5,\n",
    "    '--learning-rate': 0.01\n",
    "}\n",
    "\n",
    "est = TensorFlow(source_directory=script_folder,\n",
    "                 script_params=script_params,\n",
    "                 compute_target=compute_target, \n",
    "                 pip_packages=['keras', 'matplotlib', 'sklearn'],\n",
    "                 entry_script='cifar10_train.py', \n",
    "                 use_gpu=True)"
   ]
  },
  {
   "cell_type": "markdown",
   "metadata": {},
   "source": [
    "### 2-4. Estimator 제출"
   ]
  },
  {
   "cell_type": "code",
   "execution_count": null,
   "metadata": {},
   "outputs": [],
   "source": [
    "run = exp.submit(est)"
   ]
  },
  {
   "cell_type": "markdown",
   "metadata": {},
   "source": [
    "---\n",
    "## Part3. 원격 학습 모니터링\n",
    "`run` 객체 결과 보기"
   ]
  },
  {
   "cell_type": "markdown",
   "metadata": {},
   "source": [
    "### 3-1. Jupyter Widget으로 실행 상태 확인"
   ]
  },
  {
   "cell_type": "code",
   "execution_count": null,
   "metadata": {},
   "outputs": [],
   "source": [
    "from azureml.widgets import RunDetails\n",
    "RunDetails(run).show()"
   ]
  },
  {
   "cell_type": "markdown",
   "metadata": {},
   "source": [
    "### 3-2. 완료시 로그 확인"
   ]
  },
  {
   "cell_type": "code",
   "execution_count": null,
   "metadata": {},
   "outputs": [],
   "source": [
    "run.wait_for_completion(show_output=True)"
   ]
  },
  {
   "cell_type": "code",
   "execution_count": null,
   "metadata": {},
   "outputs": [],
   "source": [
    "run.get_details()"
   ]
  },
  {
   "cell_type": "code",
   "execution_count": null,
   "metadata": {},
   "outputs": [],
   "source": [
    "run.get_file_names()"
   ]
  },
  {
   "cell_type": "markdown",
   "metadata": {},
   "source": [
    "---\n",
    "## Part4. 모델 불러오기 및 테스트"
   ]
  },
  {
   "cell_type": "markdown",
   "metadata": {},
   "source": [
    "### 4-1. 클러스터에 저장된 모델 내려받기"
   ]
  },
  {
   "cell_type": "code",
   "execution_count": null,
   "metadata": {},
   "outputs": [],
   "source": [
    "# create a model folder in the current directory\n",
    "os.makedirs('./model', exist_ok=True)\n",
    "\n",
    "for f in run.get_file_names():\n",
    "    if f.startswith('outputs/model'):\n",
    "        output_file_path = os.path.join('./model', f.split('/')[-1])\n",
    "        print('Downloading from {} to {} ...'.format(f, output_file_path))\n",
    "        run.download_file(name=f, output_file_path=output_file_path)"
   ]
  },
  {
   "cell_type": "markdown",
   "metadata": {},
   "source": [
    "### 4-2. 로컬 테스트"
   ]
  },
  {
   "cell_type": "code",
   "execution_count": null,
   "metadata": {},
   "outputs": [],
   "source": [
    "import keras\n",
    "import tensorflow as tf\n",
    "\n",
    "print(\"Keras version:\", keras.__version__)\n",
    "print(\"Tensorflow version:\", tf.__version__)"
   ]
  },
  {
   "cell_type": "code",
   "execution_count": null,
   "metadata": {},
   "outputs": [],
   "source": [
    "# 저장된 모델 디스크에 불러오기\n",
    "from keras.models import model_from_json\n",
    "\n",
    "json_file = open('model/model.json', 'r')\n",
    "loaded_model_json = json_file.read()\n",
    "json_file.close()\n",
    "loaded_model = model_from_json(loaded_model_json)\n",
    "\n",
    "loaded_model.load_weights(\"model/model.h5\")\n",
    "print(\"Model loaded from disk.\")"
   ]
  },
  {
   "cell_type": "code",
   "execution_count": null,
   "metadata": {},
   "outputs": [],
   "source": [
    "# X_train/y_train 로컬 테스트\n",
    "loaded_model.compile(loss='binary_crossentropy', optimizer='rmsprop', metrics=['accuracy'])\n",
    "\n",
    "\n",
    "y_test_ = np.eye(10)[y_test.reshape(-1)]\n",
    "for index in np.random.choice(len(y_test_), 5, replace = False):\n",
    "    predicted = loaded_model.predict(X_test[index:index + 1]/255.0)[0]\n",
    "    label = y_test_[index]\n",
    "    result_label = np.where(label == np.amax(label))\n",
    "    result_predicted = np.where(predicted == np.amax(predicted))\n",
    "    \n",
    "    title = \"Label value = %s  Predicted value = %s \" % (cifar10_label[result_label[0][0]],  cifar10_label[result_predicted[0][0]])\n",
    "    fig = plt.figure(1, figsize = (3,3))\n",
    "    ax1 = fig.add_axes((0,0,.8,.8))\n",
    "    ax1.set_title(title)\n",
    "    images = X_test\n",
    "    plt.imshow(images[index], cmap = plt.cm.gray_r, interpolation = 'nearest')\n",
    "    plt.show()"
   ]
  },
  {
   "cell_type": "markdown",
   "metadata": {},
   "source": [
    "## Part5. AML에 모델 등록하기"
   ]
  },
  {
   "cell_type": "code",
   "execution_count": null,
   "metadata": {},
   "outputs": [],
   "source": [
    "# 작업 수행 ID 확인\n",
    "print(run.id)"
   ]
  },
  {
   "cell_type": "code",
   "execution_count": null,
   "metadata": {},
   "outputs": [],
   "source": [
    "# 실험에서 생성된 모델 파일 Azure Machine Learning Service에 등록\n",
    "model = run.register_model(model_name = 'keras_cifar10_gpu', model_path = 'outputs/model')"
   ]
  },
  {
   "cell_type": "markdown",
   "metadata": {},
   "source": [
    "---\n",
    "🥳"
   ]
  }
 ],
 "metadata": {
  "kernelspec": {
   "display_name": "Python 3.6 - AzureML",
   "language": "python",
   "name": "python3-azureml"
  },
  "language_info": {
   "codemirror_mode": {
    "name": "ipython",
    "version": 3
   },
   "file_extension": ".py",
   "mimetype": "text/x-python",
   "name": "python",
   "nbconvert_exporter": "python",
   "pygments_lexer": "ipython3",
   "version": "3.6.8"
  }
 },
 "nbformat": 4,
 "nbformat_minor": 2
}
