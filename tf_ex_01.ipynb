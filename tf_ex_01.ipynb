{
  "cells": [
    {
      "metadata": {
        "trusted": true
      },
      "cell_type": "code",
      "source": "%pwd",
      "execution_count": 1,
      "outputs": [
        {
          "output_type": "execute_result",
          "execution_count": 1,
          "data": {
            "text/plain": "'/home/nbuser/library/mldl'"
          },
          "metadata": {}
        }
      ]
    },
    {
      "metadata": {
        "trusted": true
      },
      "cell_type": "code",
      "source": "import tensorflow as tf",
      "execution_count": 7,
      "outputs": []
    },
    {
      "metadata": {
        "trusted": true
      },
      "cell_type": "code",
      "source": "tf.__version__",
      "execution_count": null,
      "outputs": []
    },
    {
      "metadata": {
        "trusted": true
      },
      "cell_type": "code",
      "source": "# Create a constant op\n# This op is added as a node to the default graph\nhello = tf.constant(\"Hello, TensorFlow!\")\n\n# seart a TF session\nsess = tf.Session()",
      "execution_count": 14,
      "outputs": []
    },
    {
      "metadata": {
        "trusted": true
      },
      "cell_type": "code",
      "source": "hello",
      "execution_count": 15,
      "outputs": [
        {
          "output_type": "execute_result",
          "execution_count": 15,
          "data": {
            "text/plain": "<tf.Tensor 'Const_1:0' shape=() dtype=string>"
          },
          "metadata": {}
        }
      ]
    },
    {
      "metadata": {
        "trusted": true
      },
      "cell_type": "code",
      "source": "# run the op and get result\nsess.run(hello)",
      "execution_count": 16,
      "outputs": [
        {
          "output_type": "execute_result",
          "execution_count": 16,
          "data": {
            "text/plain": "b'Hello, TensorFlow!'"
          },
          "metadata": {}
        }
      ]
    },
    {
      "metadata": {
        "trusted": true
      },
      "cell_type": "code",
      "source": "result = sess.run(hello)\ntype(result)",
      "execution_count": 17,
      "outputs": [
        {
          "output_type": "execute_result",
          "execution_count": 17,
          "data": {
            "text/plain": "bytes"
          },
          "metadata": {}
        }
      ]
    },
    {
      "metadata": {
        "trusted": true
      },
      "cell_type": "code",
      "source": "type(hello)",
      "execution_count": 18,
      "outputs": [
        {
          "output_type": "execute_result",
          "execution_count": 18,
          "data": {
            "text/plain": "tensorflow.python.framework.ops.Tensor"
          },
          "metadata": {}
        }
      ]
    },
    {
      "metadata": {
        "trusted": true
      },
      "cell_type": "code",
      "source": "type(sess)",
      "execution_count": 19,
      "outputs": [
        {
          "output_type": "execute_result",
          "execution_count": 19,
          "data": {
            "text/plain": "tensorflow.python.client.session.Session"
          },
          "metadata": {}
        }
      ]
    },
    {
      "metadata": {
        "trusted": true
      },
      "cell_type": "code",
      "source": "# ? tf.constant\n# Creates a constant tensor.",
      "execution_count": 20,
      "outputs": []
    },
    {
      "metadata": {},
      "cell_type": "markdown",
      "source": "# Computational Graph"
    },
    {
      "metadata": {
        "trusted": true
      },
      "cell_type": "code",
      "source": "# node1 = tf.constant(3.0, tf.float32)\nnode1 = tf.constant(3.0)\nnode2 = tf.constant(4.0)            # also tf.float32 implicitly\nnode3 = tf.add(node1, node2)\n# node3 = node1 + node2",
      "execution_count": 21,
      "outputs": []
    },
    {
      "metadata": {
        "trusted": true
      },
      "cell_type": "code",
      "source": "print(\"node1 :\", node1)\nprint(\"node2 :\", node2)\nprint(\"node3 :\", node3)",
      "execution_count": 22,
      "outputs": [
        {
          "output_type": "stream",
          "text": "node1 : Tensor(\"Const_2:0\", shape=(), dtype=float32)\nnode2 : Tensor(\"Const_3:0\", shape=(), dtype=float32)\nnode3 : Tensor(\"Add:0\", shape=(), dtype=float32)\n",
          "name": "stdout"
        }
      ]
    },
    {
      "metadata": {
        "trusted": true
      },
      "cell_type": "code",
      "source": "sess = tf.Session()\nprint(\"sess.run(node1, node2)\\t: \", sess.run([node1, node2]))\nprint(\"sess.run(adder_node)  \\t: \", sess.run(node3))",
      "execution_count": 23,
      "outputs": [
        {
          "output_type": "stream",
          "text": "sess.run(node1, node2)\t:  [3.0, 4.0]\nsess.run(adder_node)  \t:  7.0\n",
          "name": "stdout"
        }
      ]
    },
    {
      "metadata": {
        "trusted": true
      },
      "cell_type": "code",
      "source": "type(node3)",
      "execution_count": 24,
      "outputs": [
        {
          "output_type": "execute_result",
          "execution_count": 24,
          "data": {
            "text/plain": "tensorflow.python.framework.ops.Tensor"
          },
          "metadata": {}
        }
      ]
    },
    {
      "metadata": {
        "trusted": true
      },
      "cell_type": "code",
      "source": "type(sess.run(node3))",
      "execution_count": 25,
      "outputs": [
        {
          "output_type": "execute_result",
          "execution_count": 25,
          "data": {
            "text/plain": "numpy.float32"
          },
          "metadata": {}
        }
      ]
    },
    {
      "metadata": {},
      "cell_type": "markdown",
      "source": "# Placeholder"
    },
    {
      "metadata": {
        "trusted": true
      },
      "cell_type": "code",
      "source": "a=tf.placeholder(tf.float32)\nb=tf.placeholder(tf.float32)\n\nadder_node=a+b",
      "execution_count": 26,
      "outputs": []
    },
    {
      "metadata": {
        "trusted": true
      },
      "cell_type": "code",
      "source": "sess.run(adder_node,feed_dict={a:3, b:4.5})",
      "execution_count": 28,
      "outputs": [
        {
          "output_type": "execute_result",
          "execution_count": 28,
          "data": {
            "text/plain": "7.5"
          },
          "metadata": {}
        }
      ]
    },
    {
      "metadata": {
        "trusted": true
      },
      "cell_type": "code",
      "source": "sess.run(adder_node, feed_dict={a: [1,3], b: [2, 4]})",
      "execution_count": 29,
      "outputs": [
        {
          "output_type": "execute_result",
          "execution_count": 29,
          "data": {
            "text/plain": "array([3., 7.], dtype=float32)"
          },
          "metadata": {}
        }
      ]
    },
    {
      "metadata": {
        "trusted": true
      },
      "cell_type": "code",
      "source": "add_and_triple = adder_node * 3.",
      "execution_count": 30,
      "outputs": []
    },
    {
      "metadata": {
        "trusted": true
      },
      "cell_type": "code",
      "source": "sess.run(add_and_triple, feed_dict={a: 3, b:4.5})",
      "execution_count": 31,
      "outputs": [
        {
          "output_type": "execute_result",
          "execution_count": 31,
          "data": {
            "text/plain": "22.5"
          },
          "metadata": {}
        }
      ]
    },
    {
      "metadata": {
        "trusted": true
      },
      "cell_type": "code",
      "source": "import tensorflow as tf\n\n# 변수 a, b는 동적으로 지정\n# a = tf.placeholder(\"float32\")\n# b = tf.placeholder(\"float32\")\na = tf.placeholder(\"int32\")\nb = tf.placeholder(\"int32\")\n\n# multiply 함수는 입력된 정수 a와 b의 곱셈을 반환한다.\n# y = tf.mul(a,b)\ny = tf.multiply(a,b)\n\nsess = tf.Session()\n\nprint(\"tf.mul({a},{b}) : {y}\".format(\n    a = 20, b = 30,\n    y = sess.run(y , feed_dict={a: 20, b: 30})\n))",
      "execution_count": 39,
      "outputs": [
        {
          "output_type": "stream",
          "text": "tf.mul(20,30) : 600\n",
          "name": "stdout"
        }
      ]
    },
    {
      "metadata": {},
      "cell_type": "markdown",
      "source": "# Constant & Variable"
    },
    {
      "metadata": {
        "trusted": true
      },
      "cell_type": "code",
      "source": "#first_session_only_tensorflow.py\nimport tensorflow as tf\n\nx = tf.constant(100, name='x')\ny = tf.Variable(x*2, name='y')\n\n# model = tf.global_variables_initializer()\nmodel = tf.initialize_all_variables()\n\nwith tf.Session() as sess:\n    sess.run(model)\n    print(\"Check the variable : \\n- constant x : {x} \\n- Variable y : {y}\".format(\n        x = sess.run(x), \n        y = sess.run(y)\n    ))",
      "execution_count": 40,
      "outputs": [
        {
          "output_type": "stream",
          "text": "WARNING:tensorflow:From /home/nbuser/anaconda3_501/lib/python3.6/site-packages/tensorflow/python/util/tf_should_use.py:189: initialize_all_variables (from tensorflow.python.ops.variables) is deprecated and will be removed after 2017-03-02.\nInstructions for updating:\nUse `tf.global_variables_initializer` instead.\nCheck the variable : \n- constant x : 100 \n- Variable y : 200\n",
          "name": "stdout"
        }
      ]
    },
    {
      "metadata": {},
      "cell_type": "markdown",
      "source": "## Everything is Tensor"
    },
    {
      "metadata": {
        "trusted": true
      },
      "cell_type": "code",
      "source": "rank0 = 3\nrank0",
      "execution_count": 41,
      "outputs": [
        {
          "output_type": "execute_result",
          "execution_count": 41,
          "data": {
            "text/plain": "3"
          },
          "metadata": {}
        }
      ]
    },
    {
      "metadata": {
        "trusted": true
      },
      "cell_type": "code",
      "source": "rank1 = [1. ,2., 3.]\nrank1",
      "execution_count": 42,
      "outputs": [
        {
          "output_type": "execute_result",
          "execution_count": 42,
          "data": {
            "text/plain": "[1.0, 2.0, 3.0]"
          },
          "metadata": {}
        }
      ]
    },
    {
      "metadata": {
        "trusted": true
      },
      "cell_type": "code",
      "source": "rank2 = [[1., 2., 3.], \n         [4., 5., 6.]]\nrank2",
      "execution_count": 43,
      "outputs": [
        {
          "output_type": "execute_result",
          "execution_count": 43,
          "data": {
            "text/plain": "[[1.0, 2.0, 3.0], [4.0, 5.0, 6.0]]"
          },
          "metadata": {}
        }
      ]
    },
    {
      "metadata": {
        "trusted": true
      },
      "cell_type": "code",
      "source": "rank3 = [\n            [\n                [1., 2., 3.]\n            ], \n            [\n                [7., 8., 9.]\n            ]\n] \nrank3",
      "execution_count": 44,
      "outputs": [
        {
          "output_type": "execute_result",
          "execution_count": 44,
          "data": {
            "text/plain": "[[[1.0, 2.0, 3.0]], [[7.0, 8.0, 9.0]]]"
          },
          "metadata": {}
        }
      ]
    },
    {
      "metadata": {},
      "cell_type": "markdown",
      "source": "# 텐서플로우 연산"
    },
    {
      "metadata": {
        "trusted": true
      },
      "cell_type": "code",
      "source": "import tensorflow as tf \nimport numpy as np",
      "execution_count": 45,
      "outputs": []
    },
    {
      "metadata": {
        "trusted": true
      },
      "cell_type": "code",
      "source": "tensor_1d = np.array([1.2, 3.4, 5.6, 7.8])\ntensor_1d",
      "execution_count": 46,
      "outputs": [
        {
          "output_type": "execute_result",
          "execution_count": 46,
          "data": {
            "text/plain": "array([1.2, 3.4, 5.6, 7.8])"
          },
          "metadata": {}
        }
      ]
    },
    {
      "metadata": {
        "trusted": true
      },
      "cell_type": "code",
      "source": "tensor_2d = np.arange(16).reshape((4,4))\ntensor_2d",
      "execution_count": 47,
      "outputs": [
        {
          "output_type": "execute_result",
          "execution_count": 47,
          "data": {
            "text/plain": "array([[ 0,  1,  2,  3],\n       [ 4,  5,  6,  7],\n       [ 8,  9, 10, 11],\n       [12, 13, 14, 15]])"
          },
          "metadata": {}
        }
      ]
    },
    {
      "metadata": {
        "trusted": true
      },
      "cell_type": "code",
      "source": "sess = tf.Session()\ntf_tensor_1d = tf.convert_to_tensor(tensor_1d,dtype=tf.float64)\ntf_tensor_2d = tf.convert_to_tensor(tensor_2d,dtype=tf.float64)",
      "execution_count": 48,
      "outputs": []
    },
    {
      "metadata": {
        "trusted": true
      },
      "cell_type": "code",
      "source": "sess.run(tf_tensor_1d)",
      "execution_count": 49,
      "outputs": [
        {
          "output_type": "execute_result",
          "execution_count": 49,
          "data": {
            "text/plain": "array([1.2, 3.4, 5.6, 7.8])"
          },
          "metadata": {}
        }
      ]
    },
    {
      "metadata": {
        "trusted": true
      },
      "cell_type": "code",
      "source": "sess.run(tf_tensor_1d[0])",
      "execution_count": 50,
      "outputs": [
        {
          "output_type": "execute_result",
          "execution_count": 50,
          "data": {
            "text/plain": "1.2"
          },
          "metadata": {}
        }
      ]
    },
    {
      "metadata": {
        "trusted": true
      },
      "cell_type": "code",
      "source": "sess.run(tf_tensor_1d[2:])",
      "execution_count": 51,
      "outputs": [
        {
          "output_type": "execute_result",
          "execution_count": 51,
          "data": {
            "text/plain": "array([5.6, 7.8])"
          },
          "metadata": {}
        }
      ]
    },
    {
      "metadata": {
        "trusted": true
      },
      "cell_type": "code",
      "source": "sess.run(tf_tensor_2d)",
      "execution_count": 52,
      "outputs": [
        {
          "output_type": "execute_result",
          "execution_count": 52,
          "data": {
            "text/plain": "array([[ 0.,  1.,  2.,  3.],\n       [ 4.,  5.,  6.,  7.],\n       [ 8.,  9., 10., 11.],\n       [12., 13., 14., 15.]])"
          },
          "metadata": {}
        }
      ]
    },
    {
      "metadata": {
        "trusted": true
      },
      "cell_type": "code",
      "source": "#sess.run(tf_tensor_2d[3][3])\nsess.run(tf_tensor_2d[3, 3])",
      "execution_count": 53,
      "outputs": [
        {
          "output_type": "execute_result",
          "execution_count": 53,
          "data": {
            "text/plain": "15.0"
          },
          "metadata": {}
        }
      ]
    },
    {
      "metadata": {
        "trusted": true
      },
      "cell_type": "code",
      "source": "sess.run(tf_tensor_2d[1:3, 1:3])",
      "execution_count": 54,
      "outputs": [
        {
          "output_type": "execute_result",
          "execution_count": 54,
          "data": {
            "text/plain": "array([[ 5.,  6.],\n       [ 9., 10.]])"
          },
          "metadata": {}
        }
      ]
    },
    {
      "metadata": {
        "trusted": true
      },
      "cell_type": "code",
      "source": "import tensorflow as tf\nimport numpy as np\n\n# 3x3 행렬\nmatrix1 = np.array([(1, 1, 1), (1, 1, 1), (1, 1, 1)])\nmatrix2 = np.array([(2, 2, 2), (2, 2, 2), (2, 2, 2)])\n\n# constant, 텐서 자료 구조로 변환\n# matrix1 = tf.constant(matrix1)\n# matrix2 = tf.constant(matrix2)\nmatrix1 = tf.constant(matrix1, dtype='int32')\nmatrix2 = tf.constant(matrix2, dtype='int32')\n\n# 행렬곱과 행렬합 계산\nmatrix_mul = tf.matmul(matrix1, matrix2)\nmatrix_sum = tf.add(matrix1, matrix2)\n\n# 행렬의 행렬식(determinant)\nmatrix3 = np.array([(2, 7, 2), (1, 4, 2), (9, 0, 2)], dtype='float32')\nprint('matrix3 = {}'.format(matrix3))\n\nmatrix_dtm = tf.matrix_determinant(matrix3)\nprint('matrix_dtm = {}'.format(matrix_dtm))",
      "execution_count": 55,
      "outputs": [
        {
          "output_type": "stream",
          "text": "matrix3 = [[2. 7. 2.]\n [1. 4. 2.]\n [9. 0. 2.]]\nmatrix_dtm = Tensor(\"MatrixDeterminant:0\", shape=(), dtype=float32)\n",
          "name": "stdout"
        }
      ]
    },
    {
      "metadata": {
        "trusted": true
      },
      "cell_type": "code",
      "source": "# 세션을 열고 그래프 연산\nwith tf.Session() as sess:\n    result1 = sess.run(matrix_mul)\n    result2 = sess.run(matrix_sum)\n    result3 = sess.run(matrix_dtm)\n    \n    # tensorboard for graph\n    # writer = tf.summary.FileWriter(\"./graph/sect01\", sess.graph)\n\n# 연산 결과 출력\nprint('matrix_mul = {}'.format(result1))\nprint('matrix_sum = {}'.format(result2))\nprint('matrix_dtm = {}'.format(result3))",
      "execution_count": 56,
      "outputs": [
        {
          "output_type": "stream",
          "text": "matrix_mul = [[6 6 6]\n [6 6 6]\n [6 6 6]]\nmatrix_sum = [[3 3 3]\n [3 3 3]\n [3 3 3]]\nmatrix_dtm = 56.00001907348633\n",
          "name": "stdout"
        }
      ]
    },
    {
      "metadata": {
        "trusted": true
      },
      "cell_type": "code",
      "source": "",
      "execution_count": null,
      "outputs": []
    }
  ],
  "metadata": {
    "kernelspec": {
      "name": "python36",
      "display_name": "Python 3.6",
      "language": "python"
    },
    "language_info": {
      "mimetype": "text/x-python",
      "nbconvert_exporter": "python",
      "name": "python",
      "pygments_lexer": "ipython3",
      "version": "3.6.6",
      "file_extension": ".py",
      "codemirror_mode": {
        "version": 3,
        "name": "ipython"
      }
    }
  },
  "nbformat": 4,
  "nbformat_minor": 2
}