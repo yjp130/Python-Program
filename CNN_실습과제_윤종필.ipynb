{
  "nbformat": 4,
  "nbformat_minor": 0,
  "metadata": {
    "colab": {
      "name": "CNN 실습과제_윤종필.ipynb",
      "provenance": []
    },
    "kernelspec": {
      "name": "python3",
      "display_name": "Python 3"
    }
  },
  "cells": [
    {
      "cell_type": "code",
      "metadata": {
        "id": "PL5J4E71_AsS",
        "colab_type": "code",
        "colab": {
          "base_uri": "https://localhost:8080/",
          "height": 87
        },
        "outputId": "54d452d5-d641-4e1b-f903-66c5ee33ef49"
      },
      "source": [
        "# tensorflow import\n",
        "import tensorflow as tf\n",
        "# 데이터 불러오기\n",
        "from tensorflow.examples.tutorials.mnist import input_data\n",
        "mnist = input_data.read_data_sets('./mnist/data/', one_hot=True)"
      ],
      "execution_count": 36,
      "outputs": [
        {
          "output_type": "stream",
          "text": [
            "Extracting ./mnist/data/train-images-idx3-ubyte.gz\n",
            "Extracting ./mnist/data/train-labels-idx1-ubyte.gz\n",
            "Extracting ./mnist/data/t10k-images-idx3-ubyte.gz\n",
            "Extracting ./mnist/data/t10k-labels-idx1-ubyte.gz\n"
          ],
          "name": "stdout"
        }
      ]
    },
    {
      "cell_type": "code",
      "metadata": {
        "id": "QR3zHa4CZ37u",
        "colab_type": "code",
        "colab": {}
      },
      "source": [
        "\n",
        "X = tf.placeholder(tf.float32, [None,28, 28, 1])\n",
        "Y = tf.placeholder(tf.float32, [None, 10])\n",
        "keep_prob = tf.placeholder(tf.float32)"
      ],
      "execution_count": 0,
      "outputs": []
    },
    {
      "cell_type": "code",
      "metadata": {
        "id": "cnTZiKDSaPJ_",
        "colab_type": "code",
        "colab": {}
      },
      "source": [
        "W1 = tf.Variable(tf.random_normal([5, 5, 1, 20], stddev=0.01))\n",
        "\n",
        "L1 = tf.nn.conv2d(X, W1, strides=[1, 1, 1, 1], padding='SAME')\n",
        "\n"
      ],
      "execution_count": 0,
      "outputs": []
    },
    {
      "cell_type": "code",
      "metadata": {
        "id": "8qEqkIXnaeIX",
        "colab_type": "code",
        "colab": {
          "base_uri": "https://localhost:8080/",
          "height": 52
        },
        "outputId": "bd5b3f39-51ef-4c31-ac7a-bad05b2ed2fd"
      },
      "source": [
        "print(W1)\n",
        "print(L1)"
      ],
      "execution_count": 39,
      "outputs": [
        {
          "output_type": "stream",
          "text": [
            "<tf.Variable 'Variable_6:0' shape=(5, 5, 1, 20) dtype=float32_ref>\n",
            "Tensor(\"Conv2D_6:0\", shape=(?, 28, 28, 20), dtype=float32)\n"
          ],
          "name": "stdout"
        }
      ]
    },
    {
      "cell_type": "code",
      "metadata": {
        "id": "7Jso2QuQbHFN",
        "colab_type": "code",
        "colab": {
          "base_uri": "https://localhost:8080/",
          "height": 34
        },
        "outputId": "644d07db-2bb1-4609-dd3c-47efd67974a9"
      },
      "source": [
        "\n",
        "L1 = tf.nn.max_pool(L1, ksize=[1,4,4,1], strides=[1,2,2,1], padding='SAME')\n",
        "print(L1)"
      ],
      "execution_count": 40,
      "outputs": [
        {
          "output_type": "stream",
          "text": [
            "Tensor(\"MaxPool_12:0\", shape=(?, 14, 14, 20), dtype=float32)\n"
          ],
          "name": "stdout"
        }
      ]
    },
    {
      "cell_type": "code",
      "metadata": {
        "id": "Xu2SgzyhcD7y",
        "colab_type": "code",
        "colab": {
          "base_uri": "https://localhost:8080/",
          "height": 34
        },
        "outputId": "a672fdfa-e6eb-44e4-c908-7c2362d5f182"
      },
      "source": [
        "\n",
        "W2 = tf.Variable(tf.random_normal([5, 5, 20, 53], stddev = 0.01))\n",
        "L2 = tf.nn.conv2d(L1, W2, strides=[1, 1, 1, 1], padding='SAME')\n",
        "L2 = tf.nn.relu(L2)\n",
        "L2 = tf.nn.max_pool(L2, ksize=[1, 2, 2, 1], strides=[1,2,2,1], padding='SAME')\n",
        "print(L2)"
      ],
      "execution_count": 42,
      "outputs": [
        {
          "output_type": "stream",
          "text": [
            "Tensor(\"MaxPool_13:0\", shape=(?, 7, 7, 53), dtype=float32)\n"
          ],
          "name": "stdout"
        }
      ]
    },
    {
      "cell_type": "code",
      "metadata": {
        "id": "qn6LfjbmeSyT",
        "colab_type": "code",
        "colab": {
          "base_uri": "https://localhost:8080/",
          "height": 107
        },
        "outputId": "eadf2308-df5f-42fe-d5ef-15989d793599"
      },
      "source": [
        "\n",
        "W3 = tf.Variable(tf.random_normal([7*7*53, 20], stddev=0.01))\n",
        "L3 = tf.reshape(L2, [-1, 7* 7* 53])\n",
        "L3 = tf.matmul(L3, W3)\n",
        "L3 = tf.nn.relu(L3)\n",
        "L3 = tf.nn.dropout(L3, keep_prob)\n",
        "print(L3)"
      ],
      "execution_count": 44,
      "outputs": [
        {
          "output_type": "stream",
          "text": [
            "WARNING:tensorflow:From <ipython-input-44-42964d3ea8af>:11: calling dropout (from tensorflow.python.ops.nn_ops) with keep_prob is deprecated and will be removed in a future version.\n",
            "Instructions for updating:\n",
            "Please use `rate` instead of `keep_prob`. Rate should be set to `rate = 1 - keep_prob`.\n",
            "Tensor(\"dropout/mul_1:0\", shape=(?, 20), dtype=float32)\n"
          ],
          "name": "stdout"
        }
      ]
    },
    {
      "cell_type": "code",
      "metadata": {
        "id": "8BOhjf8efxI5",
        "colab_type": "code",
        "colab": {}
      },
      "source": [
        "\n",
        "W4 = tf.Variable(tf.random_normal([20, 10], stddev=0.01))\n",
        "model = tf.matmul(L3, W4)\n",
        "loss = tf.reduce_mean(tf.nn.softmax_cross_entropy_with_logits_v2(logits=model, labels=Y))\n",
        "optimizer = tf.train.AdamOptimizer(0.001).minimize(loss)"
      ],
      "execution_count": 0,
      "outputs": []
    },
    {
      "cell_type": "code",
      "metadata": {
        "id": "9uug8qvlgjAy",
        "colab_type": "code",
        "colab": {
          "base_uri": "https://localhost:8080/",
          "height": 193
        },
        "outputId": "d4834160-f146-432e-bf3b-9a0185bb0c20"
      },
      "source": [
        "\n",
        "sess = tf.Session()\n",
        "init = tf.global_variables_initializer()\n",
        "sess.run(init)\n",
        "batch_size = 500\n",
        "total_batch = int(mnist.train.num_examples / batch_size)\n",
        "for epoch in range(3):\n",
        "  %%time\n",
        "  total_loss = 0  \n",
        "  for i in range(total_batch):\n",
        "    batch_xs, batch_ys = mnist.train.next_batch(batch_size)\n",
        "    batch_xs = batch_xs.reshape(-1, 28,28, 1)\n",
        "    _, loss_val = sess.run([optimizer, loss],\n",
        "      feed_dict = {X:batch_xs, Y:batch_ys, keep_prob:0.7}\n",
        "      )\n",
        "    total_loss += loss_val\n",
        "  print('Epoch:', '%04d' %(epoch + 1),\n",
        "    'Avg. loss = ', '{:.3f}'.format(total_loss / total_batch))\n",
        "print('최적화 완료!')"
      ],
      "execution_count": 50,
      "outputs": [
        {
          "output_type": "stream",
          "text": [
            "CPU times: user 3 µs, sys: 0 ns, total: 3 µs\n",
            "Wall time: 5.48 µs\n",
            "Epoch: 0001 Avg. loss =  1.350\n",
            "CPU times: user 3 µs, sys: 0 ns, total: 3 µs\n",
            "Wall time: 6.44 µs\n",
            "Epoch: 0002 Avg. loss =  0.688\n",
            "CPU times: user 2 µs, sys: 0 ns, total: 2 µs\n",
            "Wall time: 5.72 µs\n",
            "Epoch: 0003 Avg. loss =  0.502\n",
            "최적화 완료!\n"
          ],
          "name": "stdout"
        }
      ]
    },
    {
      "cell_type": "code",
      "metadata": {
        "id": "oBhaiz94hVUV",
        "colab_type": "code",
        "colab": {}
      },
      "source": [
        ""
      ],
      "execution_count": 0,
      "outputs": []
    }
  ]
}