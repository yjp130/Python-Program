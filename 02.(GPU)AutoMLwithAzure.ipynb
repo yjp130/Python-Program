{
 "cells": [
  {
   "cell_type": "markdown",
   "metadata": {},
   "source": [
    "**[2019.11.21.] Azure와 함께하는 AutoML || SBA 빅데이터 사이언스 실무연계 프로젝트 || 전미정**"
   ]
  },
  {
   "cell_type": "markdown",
   "metadata": {},
   "source": [
    "# Azure와 함께하는 Automated Machine Learning_GPU 💻\n",
    "**Naver 영화 리뷰 감정 분석 모델**\n",
    "\n",
    "<img src=\"http://dl.dropbox.com/s/mkya7ana2z0y2vt/Screen%20Shot%202019-10-02%20at%2012.50.29%20PM.png\" width=\"800\">"
   ]
  },
  {
   "cell_type": "markdown",
   "metadata": {},
   "source": [
    "\n",
    "\n",
    "* **Part1. 개발 환경 설정**  \n",
    "* **Part2. 학습 데이터 가져오기**  \n",
    "* **Part3. 모델 학습**  \n",
    "* **Part4. 모델 결과**  \n",
    "* **Part5. 모델 테스트**  "
   ]
  },
  {
   "cell_type": "markdown",
   "metadata": {},
   "source": [
    "---\n",
    "\n",
    "## Part1. 개발 환경 설정\n",
    "\n",
    "1. Workspace 연결\n",
    "2. Experiment 생성\n",
    "3. 학습에 사용할 remote compute 생성\n",
    "4. RunConfig 설정"
   ]
  },
  {
   "cell_type": "code",
   "execution_count": null,
   "metadata": {},
   "outputs": [],
   "source": [
    "!pip install azureml-sdk[notebooks,automl]==1.0.57"
   ]
  },
  {
   "cell_type": "markdown",
   "metadata": {},
   "source": [
    "### 1-1. Workspace 연결"
   ]
  },
  {
   "cell_type": "code",
   "execution_count": null,
   "metadata": {},
   "outputs": [],
   "source": [
    "import logging\n",
    "\n",
    "from matplotlib import pyplot as plt\n",
    "import pandas as pd\n",
    "import os\n",
    "\n",
    "import azureml.core\n",
    "from azureml.core.experiment import Experiment\n",
    "from azureml.core.workspace import Workspace\n",
    "from azureml.core.dataset import Dataset\n",
    "from azureml.train.automl import AutoMLConfig\n",
    "\n",
    "# Azure core SDK version 확인\n",
    "print(\"Azure ML SDK Version: \", azureml.core.VERSION)"
   ]
  },
  {
   "cell_type": "code",
   "execution_count": null,
   "metadata": {},
   "outputs": [],
   "source": [
    "# config.json에서 복붙해주세요!\n",
    "\n",
    "subscription_id = 'subscription_id'\n",
    "resource_group  = 'resource_group'\n",
    "workspace_name  = 'workspace_name'\n",
    "\n",
    "try:\n",
    "    ws = Workspace(subscription_id = subscription_id, resource_group = resource_group, workspace_name = workspace_name)\n",
    "    ws.write_config()\n",
    "    print('Library configuration succeeded')\n",
    "except:\n",
    "    print('Workspace not found')\n",
    "    "
   ]
  },
  {
   "cell_type": "markdown",
   "metadata": {},
   "source": [
    "### 1-2. Experiment 생성"
   ]
  },
  {
   "cell_type": "code",
   "execution_count": null,
   "metadata": {},
   "outputs": [],
   "source": [
    "# 실험명 및 프로젝트 파일 디렉토리 설정\n",
    "experiment_name = 'automl-classification-movie-review'\n",
    "\n",
    "experiment=Experiment(ws, experiment_name)\n",
    "\n",
    "output = {}\n",
    "output['SDK version'] = azureml.core.VERSION\n",
    "output['Subscription ID'] = ws.subscription_id\n",
    "output['Workspace'] = ws.name\n",
    "output['Resource Group'] = ws.resource_group\n",
    "output['Location'] = ws.location\n",
    "output['Experiment Name'] = experiment.name\n",
    "pd.set_option('display.max_colwidth', -1)\n",
    "outputDf = pd.DataFrame(data = output, index = [''])\n",
    "outputDf.T"
   ]
  },
  {
   "cell_type": "markdown",
   "metadata": {},
   "source": [
    "### 1-3.학습에 사용할 remote compute 생성\n",
    "\n",
    "* Azure Machine Learning(Aml) compute 생성에 5분 가량 소요됩니다.  \n",
    "* GPU를 활용하기 위해서는 리소스 region을 EastUS로 설정해주세요!\n",
    "\n",
    "\n",
    "**참고자료**  \n",
    "[Azure Machine Learning에서 계산 대상이란?](https://docs.microsoft.com/ko-kr/azure/machine-learning/service/concept-compute-target/?WT.mc_id=AI-MVP-5003262)  \n",
    "[Azure Machine Learning compute 설정하기](https://docs.microsoft.com/ko-kr/azure/machine-learning/service/how-to-set-up-training-targets/?WT.mc_id=AI-MVP-5003262)"
   ]
  },
  {
   "cell_type": "code",
   "execution_count": null,
   "metadata": {},
   "outputs": [],
   "source": [
    "from azureml.core.compute import AmlCompute\n",
    "from azureml.core.compute import ComputeTarget\n",
    "\n",
    "# 생성할 Compute cluster 이름 지정\n",
    "amlcompute_cluster_name = \"gpucluster\"\n",
    "\n",
    "found = False\n",
    "# 이미 동일한 이름의 compute cluster 존재 여부 확인\n",
    "cts = ws.compute_targets\n",
    "if amlcompute_cluster_name in cts and cts[amlcompute_cluster_name].type == 'AmlCompute':\n",
    "    found = True\n",
    "    print('Found existing compute target.')\n",
    "    compute_target = cts[amlcompute_cluster_name]\n",
    "    \n",
    "if not found:\n",
    "    print('Creating a new compute target...')\n",
    "    provisioning_config = AmlCompute.provisioning_configuration(vm_size = \"STANDARD_NC12\",\n",
    "                                                                # STANDARD_NC12 ==  NVIDIA Tesla K80 GPU\n",
    "                                                                max_nodes = 4)\n",
    "\n",
    "    # compute 생성\n",
    "    compute_target = ComputeTarget.create(ws, amlcompute_cluster_name, provisioning_config)\n",
    "    \n",
    "    compute_target.wait_for_completion(show_output = True, min_node_count = None, timeout_in_minutes = 20)\n",
    "\n",
    "print(compute_target.get_status())"
   ]
  },
  {
   "cell_type": "markdown",
   "metadata": {},
   "source": [
    "### 1-4. RunConfig 생성 및 설정\n"
   ]
  },
  {
   "cell_type": "code",
   "execution_count": null,
   "metadata": {},
   "outputs": [],
   "source": [
    "from azureml.core.runconfig import RunConfiguration\n",
    "from azureml.core.conda_dependencies import CondaDependencies\n",
    "import pkg_resources\n",
    "\n",
    "# python 기반의 RunConfig 객체 생성\n",
    "conda_run_config = RunConfiguration(framework=\"python\")\n",
    "\n",
    "# 1-3에서 생성한 compute target 설정\n",
    "conda_run_config.target = compute_target\n",
    "conda_run_config.environment.docker.enabled = True\n",
    "\n",
    "cd = CondaDependencies.create(conda_packages=['numpy','py-xgboost<=0.80'])\n",
    "conda_run_config.environment.python.conda_dependencies = cd\n",
    "print('Conda setting finished')"
   ]
  },
  {
   "cell_type": "markdown",
   "metadata": {},
   "source": [
    "---\n",
    "\n",
    "## Part2. 학습 데이터 가져오기\n",
    "\n",
    "네이버 영화 리뷰 데이터 가져오기\n",
    "\n",
    "* [Lucy Park님의 github](https://github.com/e9t/nsmc) 데이터를 활용했습니다.\n",
    "* 전체 데이터 200K 중 30K를 학습 데이터로 사용했습니다.\n",
    "* 데이터를 불러오는데 약 5분 가량 소요됩니다."
   ]
  },
  {
   "cell_type": "code",
   "execution_count": null,
   "metadata": {},
   "outputs": [],
   "source": [
    "# Dataset 형태로 데이터 가져오기 🌟⭐️🌟\n",
    "data = 'https://www.dropbox.com/s/n6kfxnsymw28ov6/review_train_30K.csv?dl=1'\n",
    "dataset = Dataset.Tabular.from_delimited_files(data)\n",
    "dataset.take(10).to_pandas_dataframe()"
   ]
  },
  {
   "cell_type": "code",
   "execution_count": null,
   "metadata": {},
   "outputs": [],
   "source": [
    "# X_train/y_train으로 데이터 분류\n",
    "X_train = dataset.drop_columns(columns=['label'])\n",
    "y_train = dataset.keep_columns(columns=['label'], validate=True)"
   ]
  },
  {
   "cell_type": "markdown",
   "metadata": {},
   "source": [
    "---\n",
    "\n",
    "## Part3. 모델 학습"
   ]
  },
  {
   "cell_type": "markdown",
   "metadata": {},
   "source": [
    "`AutoMLConfig` 객체 생성\n",
    "\n",
    "Experiment를 실행하는데 사용되는 설정값 및 데이터 정의\n",
    "\n",
    "|Property|Description|\n",
    "|-|-|\n",
    "|**task**|classification/regression/forecast|\n",
    "|**X**|(sparse) array-like, shape = [n_samples, n_features]|\n",
    "|**y**|(sparse) array-like, shape = [n_samples, ], 다중 클래스|\n",
    "|**primary_metric**|<i>accuracy</i><br><i>AUC_weighted</i><br><i>average_precision_score_weighted</i><br><i>norm_macro_recall</i><br><i>precision_score_weighted</i>|\n",
    "|**iteration_timeout_minutes**|iteration 1회 소요 시간제한(분)|\n",
    "|**max_time_sec**|최대 학습 시간(초)(will be deprecated)|\n",
    "|**iterations**|학습 반복 횟수|\n",
    "|**preprocess**|데이터 전처리 여부|\n",
    "|**blacklist_models**|사용하지 않을 모델|\n",
    "|**whitelist_models**|꼭 사용할 모델|\n",
    "\n",
    "\n",
    "**primary_metric에 대한 자세한 내용은 [여기](https://docs.microsoft.com/en-us/azure/machine-learning/service/how-to-configure-auto-train#primary-metric/?WT.mc_id=AI-MVP-5003262)를 참고해주세요** \n",
    "\n",
    "**Task에 따른 model 종류는 [여기](https://docs.microsoft.com/en-us/azure/machine-learning/service/how-to-configure-auto-train#select-your-experiment-type/?WT.mc_id=AI-MVP-5003262)를 참고해주세요**"
   ]
  },
  {
   "cell_type": "code",
   "execution_count": null,
   "metadata": {},
   "outputs": [],
   "source": [
    "whitelist_models=[\"SGD\"]\n",
    "\n",
    "automl_settings = {\n",
    "    \"iterations\": 5,\n",
    "    \"n_cross_validations\": 2,\n",
    "    \"primary_metric\": 'AUC_weighted',\n",
    "    \"preprocess\": True,\n",
    "    \"max_concurrent_iterations\": 5,\n",
    "    \"verbosity\": logging.INFO,\n",
    "    \"whitelist_models\" : whitelist_models\n",
    "}\n",
    "\n",
    "automl_config = AutoMLConfig(task = 'classification',\n",
    "                             debug_log = 'automl_errors.log',\n",
    "                             run_configuration=conda_run_config,\n",
    "                             X = X_train,\n",
    "                             y = y_train,\n",
    "                             **automl_settings\n",
    "                            )"
   ]
  },
  {
   "cell_type": "code",
   "execution_count": null,
   "metadata": {},
   "outputs": [],
   "source": [
    "# submit method\n",
    "remote_run = experiment.submit(automl_config, show_output = True)"
   ]
  },
  {
   "cell_type": "code",
   "execution_count": null,
   "metadata": {},
   "outputs": [],
   "source": [
    "# remote computre의 run 객체를 취소하고 싶을 때 아래 코드를 사용하세요.\n",
    "\n",
    "# remote_run.cancel()\n",
    "# print(remote_run.status)"
   ]
  },
  {
   "cell_type": "markdown",
   "metadata": {},
   "source": [
    "---\n",
    "\n",
    "## Part4. 학습 결과"
   ]
  },
  {
   "cell_type": "markdown",
   "metadata": {},
   "source": [
    "`widgets`은 1분에 한번씩 업데이트됩니다.  \n",
    "위젯 아래쪽에 세부 정보를 확인할 수 있는 링크가 제공됩니다."
   ]
  },
  {
   "cell_type": "code",
   "execution_count": null,
   "metadata": {},
   "outputs": [],
   "source": [
    "# Azure Run 위젯 실행\n",
    "from azureml.widgets import RunDetails\n",
    "RunDetails(remote_run).show() "
   ]
  },
  {
   "cell_type": "code",
   "execution_count": null,
   "metadata": {},
   "outputs": [],
   "source": [
    "# 베스트 모델 확인\n",
    "best_run, fitted_model = remote_run.get_output()\n",
    "print(\"Best Model:\", best_run)\n",
    "print(\"=========\")\n",
    "print(\"Fitted Model:\", fitted_model)"
   ]
  },
  {
   "cell_type": "markdown",
   "metadata": {},
   "source": [
    "---\n",
    "\n",
    "## Part5. 모델 테스트"
   ]
  },
  {
   "cell_type": "code",
   "execution_count": null,
   "metadata": {},
   "outputs": [],
   "source": [
    "# 테스트 데이터 불러오기\n",
    "data = \"https://www.dropbox.com/s/akq6a9h7mmmv8px/review_test_0.5K.csv?dl=1\"\n",
    "dataset = Dataset.Tabular.from_delimited_files(data)\n",
    "dataset.take(10).to_pandas_dataframe()"
   ]
  },
  {
   "cell_type": "code",
   "execution_count": null,
   "metadata": {},
   "outputs": [],
   "source": [
    "X_test = dataset.drop_columns(columns=['label'])\n",
    "y_test = dataset.keep_columns(columns=['label'], validate=True)"
   ]
  },
  {
   "cell_type": "code",
   "execution_count": null,
   "metadata": {},
   "outputs": [],
   "source": [
    "X_test_df = X_test.to_pandas_dataframe()\n",
    "y_test_df = y_test.to_pandas_dataframe()"
   ]
  },
  {
   "cell_type": "code",
   "execution_count": null,
   "metadata": {},
   "outputs": [],
   "source": [
    "import numpy as np\n",
    "\n",
    "y_pred = fitted_model.predict(X_test_df)\n",
    "actual = np.array(y_test_df)\n",
    "actual = actual[:,0]\n",
    "X_test_df = X_test_df['document']\n",
    "print(y_pred.shape, \" \", actual.shape)"
   ]
  },
  {
   "cell_type": "code",
   "execution_count": null,
   "metadata": {},
   "outputs": [],
   "source": [
    "# 랜덤으로 10개 선택 및 테스트\n",
    "count = 0\n",
    "sample_size = 10\n",
    "for index in np.random.choice(len(actual), sample_size, replace = False):\n",
    "    count = count + 1\n",
    "    label = actual[index]\n",
    "    review = X_test_df[index]\n",
    "    pred = y_pred[index]\n",
    "    print(\"리뷰: {} \\n 예측 값: {} || 실제 값: {}\".format(review, pred, label))"
   ]
  },
  {
   "cell_type": "markdown",
   "metadata": {},
   "source": [
    "리뷰 분석 모델! 정말 재미있지 않나요? 🤗 👏🏻 🥳\n",
    "\n",
    "---"
   ]
  }
 ],
 "metadata": {
  "authors": [
   {
    "name": "v-rasav"
   }
  ],
  "categories": [
   "how-to-use-azureml",
   "automated-machine-learning"
  ],
  "kernelspec": {
   "display_name": "Python 3.6 - AzureML",
   "language": "python",
   "name": "python3-azureml"
  },
  "language_info": {
   "codemirror_mode": {
    "name": "ipython",
    "version": 3
   },
   "file_extension": ".py",
   "mimetype": "text/x-python",
   "name": "python",
   "nbconvert_exporter": "python",
   "pygments_lexer": "ipython3",
   "version": "3.6.8"
  }
 },
 "nbformat": 4,
 "nbformat_minor": 2
}
