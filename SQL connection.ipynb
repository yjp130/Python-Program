{
 "cells": [
  {
   "cell_type": "code",
   "execution_count": 1,
   "metadata": {},
   "outputs": [],
   "source": [
    "import pymysql\n"
   ]
  },
  {
   "cell_type": "code",
   "execution_count": 2,
   "metadata": {},
   "outputs": [],
   "source": [
    "import pandas as pd\n"
   ]
  },
  {
   "cell_type": "code",
   "execution_count": 13,
   "metadata": {},
   "outputs": [],
   "source": [
    "conn=pymysql.connect(\n",
    "    host='localhost',\n",
    "    user='root',\n",
    "    password='1111',\n",
    "    db='study')"
   ]
  },
  {
   "cell_type": "raw",
   "metadata": {},
   "source": [
    "SQL=\"SELECT * FROM film LIMIT 1\"\n",
    "df=pd.read_sql(SQL, conn)"
   ]
  },
  {
   "cell_type": "code",
   "execution_count": 15,
   "metadata": {},
   "outputs": [
    {
     "data": {
      "text/html": [
       "<div>\n",
       "<style scoped>\n",
       "    .dataframe tbody tr th:only-of-type {\n",
       "        vertical-align: middle;\n",
       "    }\n",
       "\n",
       "    .dataframe tbody tr th {\n",
       "        vertical-align: top;\n",
       "    }\n",
       "\n",
       "    .dataframe thead th {\n",
       "        text-align: right;\n",
       "    }\n",
       "</style>\n",
       "<table border=\"1\" class=\"dataframe\">\n",
       "  <thead>\n",
       "    <tr style=\"text-align: right;\">\n",
       "      <th></th>\n",
       "      <th>film_id</th>\n",
       "      <th>title</th>\n",
       "      <th>description</th>\n",
       "      <th>release_year</th>\n",
       "      <th>language_id</th>\n",
       "      <th>original_language_id</th>\n",
       "      <th>rental_duration</th>\n",
       "      <th>rental_rate</th>\n",
       "      <th>length</th>\n",
       "      <th>replacement_cost</th>\n",
       "      <th>rating</th>\n",
       "      <th>special_features</th>\n",
       "      <th>last_update</th>\n",
       "    </tr>\n",
       "  </thead>\n",
       "  <tbody>\n",
       "    <tr>\n",
       "      <th>0</th>\n",
       "      <td>1</td>\n",
       "      <td>ACADEMY DINOSAUR</td>\n",
       "      <td>A Epic Drama of a Feminist And a Mad Scientist...</td>\n",
       "      <td>2006</td>\n",
       "      <td>1</td>\n",
       "      <td>None</td>\n",
       "      <td>6</td>\n",
       "      <td>0.99</td>\n",
       "      <td>86</td>\n",
       "      <td>20.99</td>\n",
       "      <td>PG</td>\n",
       "      <td>Deleted Scenes,Behind the Scenes</td>\n",
       "      <td>2006-02-15 05:03:42</td>\n",
       "    </tr>\n",
       "  </tbody>\n",
       "</table>\n",
       "</div>"
      ],
      "text/plain": [
       "   film_id             title  \\\n",
       "0        1  ACADEMY DINOSAUR   \n",
       "\n",
       "                                         description  release_year  \\\n",
       "0  A Epic Drama of a Feminist And a Mad Scientist...          2006   \n",
       "\n",
       "   language_id original_language_id  rental_duration  rental_rate  length  \\\n",
       "0            1                 None                6         0.99      86   \n",
       "\n",
       "   replacement_cost rating                  special_features  \\\n",
       "0             20.99     PG  Deleted Scenes,Behind the Scenes   \n",
       "\n",
       "          last_update  \n",
       "0 2006-02-15 05:03:42  "
      ]
     },
     "execution_count": 15,
     "metadata": {},
     "output_type": "execute_result"
    }
   ],
   "source": [
    "df"
   ]
  },
  {
   "cell_type": "code",
   "execution_count": 16,
   "metadata": {},
   "outputs": [],
   "source": [
    "cur=conn.cursor()"
   ]
  },
  {
   "cell_type": "code",
   "execution_count": 19,
   "metadata": {},
   "outputs": [
    {
     "name": "stdout",
     "output_type": "stream",
     "text": [
      "(1, '20090101', '아이언맨', 'IDE', '01112345678', 1)\n",
      "(2, '20100102', '캡틴', 'CSE', '01123435343', 4)\n",
      "(10, '20110103', '헐크', 'MSE', '01121342443', 1)\n",
      "(11, '20100102', '캡틴', 'CSE', '01123435343', 4)\n",
      "(12, '20100204', '토르', 'ESE', '01123424343', 2)\n",
      "(13, '20100204', '토르', 'ESE', '01123424343', 2)\n",
      "(14, '20110106', '스파이더맨', 'IME', '01134343222', 0)\n",
      "(15, '20080104', '블랙위도우', 'IDE', '01123432432', 6)\n",
      "(16, '20090105', '호크아이', 'CSE', '01112342433', 8)\n",
      "(17, '20090301', '스트레인지', 'ESE', '01132424244', 5)\n",
      "(18, '20090302', '퀵실버', 'IDE', '01112321313', 3)\n",
      "(19, '20100505', '스칼릿위치', 'CSE', '01123534644', 2)\n",
      "(20, '20110506', '비전', 'MSE', '01121334525', 8)\n",
      "(21, '20100507', '팔콘', 'ESE', '01123423623', 0)\n",
      "(22, '20110502', '블렉펜서', 'IME', '01134332634', 1)\n",
      "(23, '20080501', '타노스', 'IDE', '01123436346', 2)\n",
      "(24, '20090503', '앤트맨', 'CSE', '01113634645', 3)\n",
      "(25, '20090509', '윈터솔져', 'ESE', '01132427535', 0)\n"
     ]
    }
   ],
   "source": [
    "cur.execute('SELECT * FROM avengers')\n",
    "rows=cur.fetchall()\n",
    "for data in rows:\n",
    "    print(data)"
   ]
  },
  {
   "cell_type": "code",
   "execution_count": null,
   "metadata": {},
   "outputs": [],
   "source": []
  },
  {
   "cell_type": "code",
   "execution_count": null,
   "metadata": {},
   "outputs": [],
   "source": []
  }
 ],
 "metadata": {
  "kernelspec": {
   "display_name": "Python 3",
   "language": "python",
   "name": "python3"
  },
  "language_info": {
   "codemirror_mode": {
    "name": "ipython",
    "version": 3
   },
   "file_extension": ".py",
   "mimetype": "text/x-python",
   "name": "python",
   "nbconvert_exporter": "python",
   "pygments_lexer": "ipython3",
   "version": "3.7.3"
  }
 },
 "nbformat": 4,
 "nbformat_minor": 2
}
