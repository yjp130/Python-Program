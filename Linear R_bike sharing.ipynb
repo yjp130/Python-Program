{
 "cells": [
  {
   "cell_type": "code",
   "execution_count": 1,
   "metadata": {},
   "outputs": [],
   "source": [
    "import pandas as pd"
   ]
  },
  {
   "cell_type": "code",
   "execution_count": 8,
   "metadata": {},
   "outputs": [
    {
     "name": "stdout",
     "output_type": "stream",
     "text": [
      "<class 'pandas.core.frame.DataFrame'>\n",
      "RangeIndex: 10886 entries, 0 to 10885\n",
      "Data columns (total 12 columns):\n",
      "datetime      10886 non-null object\n",
      "season        10886 non-null int64\n",
      "holiday       10886 non-null int64\n",
      "workingday    10886 non-null int64\n",
      "weather       10886 non-null int64\n",
      "temp          10886 non-null float64\n",
      "atemp         10886 non-null float64\n",
      "humidity      10886 non-null int64\n",
      "windspeed     10886 non-null float64\n",
      "casual        10886 non-null int64\n",
      "registered    10886 non-null int64\n",
      "count         10886 non-null int64\n",
      "dtypes: float64(3), int64(8), object(1)\n",
      "memory usage: 1020.6+ KB\n"
     ]
    }
   ],
   "source": [
    "#데이터 불러오기\n",
    "df=pd.read_csv(\"C:/Users/ktm/Desktop/R-Program/R/bike-sharing-demand/train.csv\")\n",
    "df.info()"
   ]
  },
  {
   "cell_type": "code",
   "execution_count": 9,
   "metadata": {},
   "outputs": [],
   "source": [
    "#데이터 컬럼 나누기\n",
    "#data에는 예측하고자 하는 'count'는 제외\n",
    "#'casual','registered' 과적합 일어나므로 제외\n",
    "# datetime 컬럼도 데이터 형태가 datetime object라서 일단, 제외\n",
    "data=df.drop(['count','datetime','casual','registered'], axis=1)"
   ]
  },
  {
   "cell_type": "code",
   "execution_count": 10,
   "metadata": {},
   "outputs": [],
   "source": [
    "target=df['count']"
   ]
  },
  {
   "cell_type": "code",
   "execution_count": 11,
   "metadata": {},
   "outputs": [],
   "source": [
    "# sklearn 라이브러리에서 train_test_split 불러오기\n",
    "from sklearn.model_selection import train_test_split\n"
   ]
  },
  {
   "cell_type": "code",
   "execution_count": 12,
   "metadata": {},
   "outputs": [],
   "source": [
    "# train_test_split으로 train 데이터, test데이터를 나눈다.\n",
    "X_train, X_test, y_train, y_test = train_test_split(data,target,random_state=0)"
   ]
  },
  {
   "cell_type": "code",
   "execution_count": 13,
   "metadata": {},
   "outputs": [],
   "source": [
    "#sklearn에서 LinearRegression을 불러오기\n",
    "from sklearn.linear_model import LinearRegression"
   ]
  },
  {
   "cell_type": "code",
   "execution_count": 14,
   "metadata": {},
   "outputs": [],
   "source": [
    "#train 데이터로 LinearRegression 모델 만들기\n",
    "model=LinearRegression().fit(X_train,y_train)"
   ]
  },
  {
   "cell_type": "code",
   "execution_count": 15,
   "metadata": {},
   "outputs": [
    {
     "data": {
      "text/plain": [
       "array([194.80699865, 151.39614101, 170.46567048, ..., 124.00349743,\n",
       "       300.19309867, 120.38550688])"
      ]
     },
     "execution_count": 15,
     "metadata": {},
     "output_type": "execute_result"
    }
   ],
   "source": [
    "#만들어진 모델로 test 데이터 예측하기\n",
    "pred=model.predict(X_test)\n",
    "pred"
   ]
  },
  {
   "cell_type": "code",
   "execution_count": 18,
   "metadata": {},
   "outputs": [
    {
     "data": {
      "text/html": [
       "<div>\n",
       "<style scoped>\n",
       "    .dataframe tbody tr th:only-of-type {\n",
       "        vertical-align: middle;\n",
       "    }\n",
       "\n",
       "    .dataframe tbody tr th {\n",
       "        vertical-align: top;\n",
       "    }\n",
       "\n",
       "    .dataframe thead th {\n",
       "        text-align: right;\n",
       "    }\n",
       "</style>\n",
       "<table border=\"1\" class=\"dataframe\">\n",
       "  <thead>\n",
       "    <tr style=\"text-align: right;\">\n",
       "      <th></th>\n",
       "      <th>y_test</th>\n",
       "      <th>prediction</th>\n",
       "      <th>diff</th>\n",
       "    </tr>\n",
       "  </thead>\n",
       "  <tbody>\n",
       "    <tr>\n",
       "      <th>6638</th>\n",
       "      <td>244</td>\n",
       "      <td>194.806999</td>\n",
       "      <td>49.193001</td>\n",
       "    </tr>\n",
       "    <tr>\n",
       "      <th>7975</th>\n",
       "      <td>239</td>\n",
       "      <td>151.396141</td>\n",
       "      <td>87.603859</td>\n",
       "    </tr>\n",
       "    <tr>\n",
       "      <th>5915</th>\n",
       "      <td>229</td>\n",
       "      <td>170.465670</td>\n",
       "      <td>58.534330</td>\n",
       "    </tr>\n",
       "    <tr>\n",
       "      <th>8050</th>\n",
       "      <td>467</td>\n",
       "      <td>299.406880</td>\n",
       "      <td>167.593120</td>\n",
       "    </tr>\n",
       "    <tr>\n",
       "      <th>5894</th>\n",
       "      <td>335</td>\n",
       "      <td>203.104639</td>\n",
       "      <td>131.895361</td>\n",
       "    </tr>\n",
       "  </tbody>\n",
       "</table>\n",
       "</div>"
      ],
      "text/plain": [
       "      y_test  prediction        diff\n",
       "6638     244  194.806999   49.193001\n",
       "7975     239  151.396141   87.603859\n",
       "5915     229  170.465670   58.534330\n",
       "8050     467  299.406880  167.593120\n",
       "5894     335  203.104639  131.895361"
      ]
     },
     "execution_count": 18,
     "metadata": {},
     "output_type": "execute_result"
    }
   ],
   "source": [
    "#보기 좋게 데이터 프레임으로 만들기\n",
    "dat=pd.DataFrame({'y_test': y_test, 'prediction':pred, 'diff':y_test-pred})\n",
    "dat.head()"
   ]
  },
  {
   "cell_type": "code",
   "execution_count": 19,
   "metadata": {},
   "outputs": [
    {
     "data": {
      "text/plain": [
       "116.89028273321584"
      ]
     },
     "execution_count": 19,
     "metadata": {},
     "output_type": "execute_result"
    }
   ],
   "source": [
    "# MAE(mean absolute error, 평균 절대값 오차)\n",
    "sum(abs(dat['diff']))/len(dat['diff'])"
   ]
  },
  {
   "cell_type": "code",
   "execution_count": 21,
   "metadata": {},
   "outputs": [
    {
     "data": {
      "text/plain": [
       "24056.02243185304"
      ]
     },
     "execution_count": 21,
     "metadata": {},
     "output_type": "execute_result"
    }
   ],
   "source": [
    "# MSE(mean squared error, 평균 제곱 오차)\n",
    "mse_value=sum(dat['diff']**2)/len(dat['diff'])\n",
    "mse_value"
   ]
  },
  {
   "cell_type": "code",
   "execution_count": 24,
   "metadata": {},
   "outputs": [],
   "source": [
    "import numpy as np"
   ]
  },
  {
   "cell_type": "code",
   "execution_count": 25,
   "metadata": {},
   "outputs": [
    {
     "data": {
      "text/plain": [
       "155.1000400768905"
      ]
     },
     "execution_count": 25,
     "metadata": {},
     "output_type": "execute_result"
    }
   ],
   "source": [
    "# RMSE(root mean square error, 평균 제곱근 오차)\n",
    "result = np.sqrt (mse_value)\n",
    "result"
   ]
  },
  {
   "cell_type": "code",
   "execution_count": 26,
   "metadata": {},
   "outputs": [
    {
     "name": "stdout",
     "output_type": "stream",
     "text": [
      "훈련 데이터 세트 정수: 0.26\n",
      "테스트 데이터 세트 정수: 0.27\n"
     ]
    }
   ],
   "source": [
    "#훈련 데이터셋과 테스트 데이터셋 점수 확인\n",
    "print('훈련 데이터 세트 정수: {:.2f}'.format(model.score(X_train, y_train)))\n",
    "print('테스트 데이터 세트 정수: {:.2f}'.format(model.score(X_test, y_test)))"
   ]
  },
  {
   "cell_type": "code",
   "execution_count": null,
   "metadata": {},
   "outputs": [],
   "source": []
  }
 ],
 "metadata": {
  "kernelspec": {
   "display_name": "Python 3",
   "language": "python",
   "name": "python3"
  },
  "language_info": {
   "codemirror_mode": {
    "name": "ipython",
    "version": 3
   },
   "file_extension": ".py",
   "mimetype": "text/x-python",
   "name": "python",
   "nbconvert_exporter": "python",
   "pygments_lexer": "ipython3",
   "version": "3.7.3"
  }
 },
 "nbformat": 4,
 "nbformat_minor": 2
}
