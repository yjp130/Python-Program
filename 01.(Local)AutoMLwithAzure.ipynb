{
 "cells": [
  {
   "cell_type": "markdown",
   "metadata": {},
   "source": [
    "**[2019.11.21.] Azure와 함께하는 AutoML || SBA 빅데이터 사이언스 실무연계 프로젝트 || 전미정**"
   ]
  },
  {
   "cell_type": "markdown",
   "metadata": {},
   "source": [
    "# Azure와 함께하는 Automated Machine Learning_LocalMachine 💻\n",
    "**손글씨 이미지 분류 모델**\n",
    "\n",
    "<img src=\"https://upload.wikimedia.org/wikipedia/commons/2/27/MnistExamples.png\">\n"
   ]
  },
  {
   "cell_type": "markdown",
   "metadata": {},
   "source": [
    "* **Part1. 개발 환경 설정**  \n",
    "* **Part2. 학습 데이터 가져오기**  \n",
    "* **Part3. 모델 학습**  \n",
    "* **Part4. 모델 결과**  \n",
    "* **Part5. 모델 테스트**  "
   ]
  },
  {
   "cell_type": "markdown",
   "metadata": {},
   "source": [
    "---\n",
    "\n",
    "## Part1. 개발 환경 설정\n",
    "\n",
    "1. Workspace 연결\n",
    "2. Experiment 생성"
   ]
  },
  {
   "cell_type": "markdown",
   "metadata": {},
   "source": [
    "### 1-1. Workspace 연결"
   ]
  },
  {
   "cell_type": "code",
   "execution_count": null,
   "metadata": {},
   "outputs": [],
   "source": [
    "import azureml\n",
    "from azureml.core import Workspace\n",
    "from azureml.core.runconfig import RunConfiguration\n",
    "\n",
    "# Azure core SDK version 확인\n",
    "print(\"Azure ML SDK Version: \", azureml.core.VERSION)"
   ]
  },
  {
   "cell_type": "code",
   "execution_count": null,
   "metadata": {},
   "outputs": [],
   "source": [
    "# 다운 받은 config.json에서 복붙해주세요!\n",
    "\n",
    "subscription_id = 'subscription_id'\n",
    "resource_group  = 'resource_group'\n",
    "workspace_name  = 'workspace_name'\n",
    "\n",
    "try:\n",
    "    ws = Workspace(subscription_id = subscription_id, resource_group = resource_group, workspace_name = workspace_name)\n",
    "    ws.write_config()\n",
    "    print('Library configuration succeeded')\n",
    "except:\n",
    "    print('Workspace not found')\n",
    "    \n",
    "# 계정 인증문구가 뜨면 하단에 영문과 숫자로 이루어진 코드 9자리를 복사한 후 링크(https://microsoft.com/devicelogin)을 클릭해 붙여넣어주세요."
   ]
  },
  {
   "cell_type": "markdown",
   "metadata": {},
   "source": [
    "### 1-2. Experiment 생성"
   ]
  },
  {
   "cell_type": "code",
   "execution_count": null,
   "metadata": {},
   "outputs": [],
   "source": [
    "from azureml.core.experiment import Experiment\n",
    "import pandas as pd\n",
    "\n",
    "# 실험명 및 프로젝트 파일 디렉토리 설정\n",
    "experiment_name = 'automl_digit'\n",
    "\n",
    "experiment = Experiment(ws, experiment_name)\n",
    "\n",
    "output = {}\n",
    "output['SDK version'] = azureml.core.VERSION\n",
    "output['Subscription ID'] = ws.subscription_id\n",
    "output['Workspace'] = ws.name\n",
    "output['Resource Group'] = ws.resource_group\n",
    "output['Location'] = ws.location\n",
    "output['Run History Name'] = experiment_name\n",
    "\n",
    "pd.set_option('display.max_colwidth', -1)\n",
    "outputDf = pd.DataFrame(data = output, index = [''])\n",
    "outputDf.T"
   ]
  },
  {
   "cell_type": "markdown",
   "metadata": {},
   "source": [
    "---\n",
    "\n",
    "## Part2. 학습 데이터 가져오기\n",
    "\n",
    "숫자 이미지 데이터 가져오기"
   ]
  },
  {
   "cell_type": "code",
   "execution_count": null,
   "metadata": {},
   "outputs": [],
   "source": [
    "# 학습 데이터 다운로드\n",
    "from sklearn import datasets\n",
    "from matplotlib import pyplot as plt\n",
    "import numpy as np\n",
    "\n",
    "digits = datasets.load_digits()\n",
    "\n",
    "X_train = digits.data[100:,:]\n",
    "y_train = digits.target[100:]\n",
    "images = digits.images[100:]"
   ]
  },
  {
   "cell_type": "code",
   "execution_count": null,
   "metadata": {},
   "outputs": [],
   "source": [
    "# 학습 데이터 확인\n",
    "\n",
    "count = 0\n",
    "sample_size = 10\n",
    "plt.figure(figsize = (8, 8))\n",
    "for index in np.random.choice(len(y_train), sample_size, replace = False):\n",
    "    count = count + 1\n",
    "    label = y_train[index]\n",
    "    plt.subplot(1, sample_size, count)\n",
    "    plt.axhline('')\n",
    "    plt.axvline('')\n",
    "    plt.text(x=2, y=12, s=label, fontsize=20)\n",
    "    plt.imshow(images[index], cmap=plt.cm.Greys)\n",
    "\n",
    "plt.show()"
   ]
  },
  {
   "cell_type": "markdown",
   "metadata": {},
   "source": [
    "---\n",
    "\n",
    "## Part3. 모델 학습"
   ]
  },
  {
   "cell_type": "markdown",
   "metadata": {},
   "source": [
    "`AutoMLConfig` 객체 생성\n",
    "\n",
    "Experiment를 실행하는데 사용되는 설정값 및 데이터 정의\n",
    "\n",
    "|Property|Description|\n",
    "|-|-|\n",
    "|**task**|classification/regression/forecast|\n",
    "|**X**|(sparse) array-like, shape = [n_samples, n_features]|\n",
    "|**y**|(sparse) array-like, shape = [n_samples, ], 다중 클래스|\n",
    "|**primary_metric**|<i>accuracy</i><br><i>AUC_weighted</i><br><i>average_precision_score_weighted</i><br><i>norm_macro_recall</i><br><i>precision_score_weighted</i>|\n",
    "|**iteration_timeout_minutes**|iteration 1회 소요 시간제한(분)|\n",
    "|**max_time_sec**|최대 학습 시간(초)(will be deprecated)|\n",
    "|**iterations**|학습 반복 횟수|\n",
    "|**preprocess**|데이터 전처리 여부|\n",
    "|**blacklist_models**|사용하지 않을 모델|\n",
    "|**whitelist_models**|꼭 사용할 모델|\n",
    "\n",
    "\n",
    "**primary_metric에 대한 자세한 내용은 [여기](https://docs.microsoft.com/en-us/azure/machine-learning/service/how-to-configure-auto-train#primary-metric/?WT.mc_id=AI-MVP-5003262)를 참고해주세요** \n",
    "\n",
    "**Task에 따른 model 종류는 [여기](https://docs.microsoft.com/en-us/azure/machine-learning/service/how-to-configure-auto-train#select-your-experiment-type/?WT.mc_id=AI-MVP-5003262)를 참고해주세요**"
   ]
  },
  {
   "cell_type": "code",
   "execution_count": null,
   "metadata": {},
   "outputs": [],
   "source": [
    "from azureml.train.automl import AutoMLConfig\n",
    "import logging\n",
    "\n",
    "automl_settings = {\n",
    "    \"iteration_timeout_minutes\": 5,\n",
    "    \"iterations\":10,\n",
    "    \"primary_metric\": 'AUC_weighted',\n",
    "    \"preprocess\": True,\n",
    "    \"max_concurrent_iterations\": 5,\n",
    "    \"verbosity\": logging.INFO,\n",
    "}\n",
    "\n",
    "automl_config = AutoMLConfig(task = 'classification',\n",
    "                             X = X_train,\n",
    "                             y = y_train,\n",
    "                             **automl_settings,\n",
    "                            )"
   ]
  },
  {
   "cell_type": "code",
   "execution_count": null,
   "metadata": {},
   "outputs": [],
   "source": [
    "# submit method\n",
    "\n",
    "local_run = experiment.submit(automl_config, show_output = True)"
   ]
  },
  {
   "cell_type": "markdown",
   "metadata": {},
   "source": [
    "---\n",
    "\n",
    "## Part4. 학습 결과"
   ]
  },
  {
   "cell_type": "markdown",
   "metadata": {},
   "source": [
    "`widgets`은 1분에 한번씩 업데이트됩니다.  \n",
    "위젯 아래쪽에 세부 정보를 확인할 수 있는 링크가 제공됩니다."
   ]
  },
  {
   "cell_type": "code",
   "execution_count": null,
   "metadata": {},
   "outputs": [],
   "source": [
    "# Azure Run 위젯 실행\n",
    "\n",
    "from azureml.widgets import RunDetails\n",
    "RunDetails(local_run).show()"
   ]
  },
  {
   "cell_type": "code",
   "execution_count": null,
   "metadata": {},
   "outputs": [],
   "source": [
    "# 베스트 모델 확인\n",
    "\n",
    "best_run, fitted_model = local_run.get_output()\n",
    "print(\"Best Model:\", best_run)\n",
    "print(\"=========\")\n",
    "print(\"Fitted Model:\", fitted_model)"
   ]
  },
  {
   "cell_type": "code",
   "execution_count": null,
   "metadata": {},
   "outputs": [],
   "source": [
    "# metric 종류에 따른 best run model\n",
    "\n",
    "lookup_metric = \"log_loss\"\n",
    "best_run, fitted_model = local_run.get_output(metric = lookup_metric)\n",
    "print(\"Best Model:\", best_run)\n",
    "print(\"=========\")\n",
    "print(\"Fitted Model:\", fitted_model)"
   ]
  },
  {
   "cell_type": "markdown",
   "metadata": {},
   "source": [
    "---\n",
    "\n",
    "## Part5. 모델 테스트"
   ]
  },
  {
   "cell_type": "code",
   "execution_count": null,
   "metadata": {},
   "outputs": [],
   "source": [
    "# 테스트 데이터 불러오기\n",
    "\n",
    "digits = datasets.load_digits()\n",
    "X_test = digits.data[:10, :]\n",
    "y_test = digits.target[:10]\n",
    "images = digits.images[:10]"
   ]
  },
  {
   "cell_type": "code",
   "execution_count": null,
   "metadata": {},
   "outputs": [],
   "source": [
    "predicted = fitted_model.predict(X_test)"
   ]
  },
  {
   "cell_type": "code",
   "execution_count": null,
   "metadata": {},
   "outputs": [],
   "source": [
    "# 랜덤으로 10개 선택 및 테스트\n",
    "  \n",
    "count = 0\n",
    "sample_size = 10\n",
    "plt.figure(figsize = (8, 8))\n",
    "for index in np.random.choice(len(y_test), sample_size, replace = False):\n",
    "    count = count + 1\n",
    "    label = y_test[index]\n",
    "    title = \"Label value = %d  Predicted value = %d \" % (label, predicted[index])\n",
    "    plt.subplot(1, sample_size, count)\n",
    "    plt.axhline('')\n",
    "    plt.axvline('')\n",
    "    plt.text(x=2, y=12, s=label, fontsize=20)\n",
    "    plt.imshow(images[index], cmap=plt.cm.Greys)\n",
    "plt.show()"
   ]
  },
  {
   "cell_type": "markdown",
   "metadata": {},
   "source": [
    "잘 되었나요? 수고하셨습니다! 🤗 👏🏻 🥳"
   ]
  },
  {
   "cell_type": "markdown",
   "metadata": {},
   "source": [
    "---"
   ]
  }
 ],
 "metadata": {
  "kernelspec": {
   "display_name": "Python 3.6 - AzureML",
   "language": "python",
   "name": "python3-azureml"
  },
  "language_info": {
   "codemirror_mode": {
    "name": "ipython",
    "version": 3
   },
   "file_extension": ".py",
   "mimetype": "text/x-python",
   "name": "python",
   "nbconvert_exporter": "python",
   "pygments_lexer": "ipython3",
   "version": "3.6.8"
  }
 },
 "nbformat": 4,
 "nbformat_minor": 2
}
