{
 "cells": [
  {
   "cell_type": "code",
   "execution_count": 2,
   "metadata": {},
   "outputs": [],
   "source": [
    "import pandas as pd\n",
    "import time\n",
    "import re\n",
    "\n",
    "from bs4 import BeautifulSoup \n",
    "from urllib.request import urlopen"
   ]
  },
  {
   "cell_type": "code",
   "execution_count": 21,
   "metadata": {},
   "outputs": [
    {
     "data": {
      "text/html": [
       "<div>\n",
       "<style scoped>\n",
       "    .dataframe tbody tr th:only-of-type {\n",
       "        vertical-align: middle;\n",
       "    }\n",
       "\n",
       "    .dataframe tbody tr th {\n",
       "        vertical-align: top;\n",
       "    }\n",
       "\n",
       "    .dataframe thead th {\n",
       "        text-align: right;\n",
       "    }\n",
       "</style>\n",
       "<table border=\"1\" class=\"dataframe\">\n",
       "  <thead>\n",
       "    <tr style=\"text-align: right;\">\n",
       "      <th></th>\n",
       "      <th>Unnamed: 0</th>\n",
       "      <th>랭킹</th>\n",
       "      <th>메뉴</th>\n",
       "      <th>카페</th>\n",
       "      <th>링크</th>\n",
       "    </tr>\n",
       "  </thead>\n",
       "  <tbody>\n",
       "    <tr>\n",
       "      <th>0</th>\n",
       "      <td>0</td>\n",
       "      <td>1</td>\n",
       "      <td>BLT</td>\n",
       "      <td>Old Oak Tap</td>\n",
       "      <td>http://www.chicagomag.com/Chicago-Magazine/Nov...</td>\n",
       "    </tr>\n",
       "    <tr>\n",
       "      <th>1</th>\n",
       "      <td>1</td>\n",
       "      <td>2</td>\n",
       "      <td>Fried Bologna</td>\n",
       "      <td>Au Cheval</td>\n",
       "      <td>http://www.chicagomag.com/Chicago-Magazine/Nov...</td>\n",
       "    </tr>\n",
       "    <tr>\n",
       "      <th>2</th>\n",
       "      <td>2</td>\n",
       "      <td>3</td>\n",
       "      <td>Woodland Mushroom</td>\n",
       "      <td>Xoco</td>\n",
       "      <td>http://www.chicagomag.com/Chicago-Magazine/Nov...</td>\n",
       "    </tr>\n",
       "    <tr>\n",
       "      <th>3</th>\n",
       "      <td>3</td>\n",
       "      <td>4</td>\n",
       "      <td>Roast Beef</td>\n",
       "      <td>Al’s Deli</td>\n",
       "      <td>http://www.chicagomag.com/Chicago-Magazine/Nov...</td>\n",
       "    </tr>\n",
       "    <tr>\n",
       "      <th>4</th>\n",
       "      <td>4</td>\n",
       "      <td>5</td>\n",
       "      <td>PB&amp;L</td>\n",
       "      <td>Publican Quality Meats</td>\n",
       "      <td>http://www.chicagomag.com/Chicago-Magazine/Nov...</td>\n",
       "    </tr>\n",
       "  </tbody>\n",
       "</table>\n",
       "</div>"
      ],
      "text/plain": [
       "   Unnamed: 0  랭킹                 메뉴                      카페  \\\n",
       "0           0   1                BLT             Old Oak Tap   \n",
       "1           1   2      Fried Bologna               Au Cheval   \n",
       "2           2   3  Woodland Mushroom                    Xoco   \n",
       "3           3   4         Roast Beef               Al’s Deli   \n",
       "4           4   5               PB&L  Publican Quality Meats   \n",
       "\n",
       "                                                  링크  \n",
       "0  http://www.chicagomag.com/Chicago-Magazine/Nov...  \n",
       "1  http://www.chicagomag.com/Chicago-Magazine/Nov...  \n",
       "2  http://www.chicagomag.com/Chicago-Magazine/Nov...  \n",
       "3  http://www.chicagomag.com/Chicago-Magazine/Nov...  \n",
       "4  http://www.chicagomag.com/Chicago-Magazine/Nov...  "
      ]
     },
     "execution_count": 21,
     "metadata": {},
     "output_type": "execute_result"
    }
   ],
   "source": [
    "df = pd.read_csv('C:/Users/ktm/Desktop/Python-Program/chicagomag_info.csv', encoding='utf-8')\n",
    "df.head()"
   ]
  },
  {
   "cell_type": "code",
   "execution_count": 22,
   "metadata": {},
   "outputs": [
    {
     "data": {
      "text/html": [
       "<div>\n",
       "<style scoped>\n",
       "    .dataframe tbody tr th:only-of-type {\n",
       "        vertical-align: middle;\n",
       "    }\n",
       "\n",
       "    .dataframe tbody tr th {\n",
       "        vertical-align: top;\n",
       "    }\n",
       "\n",
       "    .dataframe thead th {\n",
       "        text-align: right;\n",
       "    }\n",
       "</style>\n",
       "<table border=\"1\" class=\"dataframe\">\n",
       "  <thead>\n",
       "    <tr style=\"text-align: right;\">\n",
       "      <th></th>\n",
       "      <th>랭킹</th>\n",
       "      <th>메뉴</th>\n",
       "      <th>카페</th>\n",
       "      <th>링크</th>\n",
       "    </tr>\n",
       "  </thead>\n",
       "  <tbody>\n",
       "    <tr>\n",
       "      <th>0</th>\n",
       "      <td>1</td>\n",
       "      <td>BLT</td>\n",
       "      <td>Old Oak Tap</td>\n",
       "      <td>http://www.chicagomag.com/Chicago-Magazine/Nov...</td>\n",
       "    </tr>\n",
       "    <tr>\n",
       "      <th>1</th>\n",
       "      <td>2</td>\n",
       "      <td>Fried Bologna</td>\n",
       "      <td>Au Cheval</td>\n",
       "      <td>http://www.chicagomag.com/Chicago-Magazine/Nov...</td>\n",
       "    </tr>\n",
       "    <tr>\n",
       "      <th>2</th>\n",
       "      <td>3</td>\n",
       "      <td>Woodland Mushroom</td>\n",
       "      <td>Xoco</td>\n",
       "      <td>http://www.chicagomag.com/Chicago-Magazine/Nov...</td>\n",
       "    </tr>\n",
       "    <tr>\n",
       "      <th>3</th>\n",
       "      <td>4</td>\n",
       "      <td>Roast Beef</td>\n",
       "      <td>Al’s Deli</td>\n",
       "      <td>http://www.chicagomag.com/Chicago-Magazine/Nov...</td>\n",
       "    </tr>\n",
       "    <tr>\n",
       "      <th>4</th>\n",
       "      <td>5</td>\n",
       "      <td>PB&amp;L</td>\n",
       "      <td>Publican Quality Meats</td>\n",
       "      <td>http://www.chicagomag.com/Chicago-Magazine/Nov...</td>\n",
       "    </tr>\n",
       "  </tbody>\n",
       "</table>\n",
       "</div>"
      ],
      "text/plain": [
       "   랭킹                 메뉴                      카페  \\\n",
       "0   1                BLT             Old Oak Tap   \n",
       "1   2      Fried Bologna               Au Cheval   \n",
       "2   3  Woodland Mushroom                    Xoco   \n",
       "3   4         Roast Beef               Al’s Deli   \n",
       "4   5               PB&L  Publican Quality Meats   \n",
       "\n",
       "                                                  링크  \n",
       "0  http://www.chicagomag.com/Chicago-Magazine/Nov...  \n",
       "1  http://www.chicagomag.com/Chicago-Magazine/Nov...  \n",
       "2  http://www.chicagomag.com/Chicago-Magazine/Nov...  \n",
       "3  http://www.chicagomag.com/Chicago-Magazine/Nov...  \n",
       "4  http://www.chicagomag.com/Chicago-Magazine/Nov...  "
      ]
     },
     "execution_count": 22,
     "metadata": {},
     "output_type": "execute_result"
    }
   ],
   "source": [
    "del df['Unnamed: 0']\n",
    "df.head()"
   ]
  },
  {
   "cell_type": "code",
   "execution_count": 23,
   "metadata": {},
   "outputs": [
    {
     "data": {
      "text/html": [
       "<div>\n",
       "<style scoped>\n",
       "    .dataframe tbody tr th:only-of-type {\n",
       "        vertical-align: middle;\n",
       "    }\n",
       "\n",
       "    .dataframe tbody tr th {\n",
       "        vertical-align: top;\n",
       "    }\n",
       "\n",
       "    .dataframe thead th {\n",
       "        text-align: right;\n",
       "    }\n",
       "</style>\n",
       "<table border=\"1\" class=\"dataframe\">\n",
       "  <thead>\n",
       "    <tr style=\"text-align: right;\">\n",
       "      <th></th>\n",
       "      <th>메뉴</th>\n",
       "      <th>카페</th>\n",
       "      <th>링크</th>\n",
       "    </tr>\n",
       "    <tr>\n",
       "      <th>랭킹</th>\n",
       "      <th></th>\n",
       "      <th></th>\n",
       "      <th></th>\n",
       "    </tr>\n",
       "  </thead>\n",
       "  <tbody>\n",
       "    <tr>\n",
       "      <th>1</th>\n",
       "      <td>BLT</td>\n",
       "      <td>Old Oak Tap</td>\n",
       "      <td>http://www.chicagomag.com/Chicago-Magazine/Nov...</td>\n",
       "    </tr>\n",
       "    <tr>\n",
       "      <th>2</th>\n",
       "      <td>Fried Bologna</td>\n",
       "      <td>Au Cheval</td>\n",
       "      <td>http://www.chicagomag.com/Chicago-Magazine/Nov...</td>\n",
       "    </tr>\n",
       "    <tr>\n",
       "      <th>3</th>\n",
       "      <td>Woodland Mushroom</td>\n",
       "      <td>Xoco</td>\n",
       "      <td>http://www.chicagomag.com/Chicago-Magazine/Nov...</td>\n",
       "    </tr>\n",
       "    <tr>\n",
       "      <th>4</th>\n",
       "      <td>Roast Beef</td>\n",
       "      <td>Al’s Deli</td>\n",
       "      <td>http://www.chicagomag.com/Chicago-Magazine/Nov...</td>\n",
       "    </tr>\n",
       "    <tr>\n",
       "      <th>5</th>\n",
       "      <td>PB&amp;L</td>\n",
       "      <td>Publican Quality Meats</td>\n",
       "      <td>http://www.chicagomag.com/Chicago-Magazine/Nov...</td>\n",
       "    </tr>\n",
       "  </tbody>\n",
       "</table>\n",
       "</div>"
      ],
      "text/plain": [
       "                   메뉴                      카페  \\\n",
       "랭킹                                              \n",
       "1                 BLT             Old Oak Tap   \n",
       "2       Fried Bologna               Au Cheval   \n",
       "3   Woodland Mushroom                    Xoco   \n",
       "4          Roast Beef               Al’s Deli   \n",
       "5                PB&L  Publican Quality Meats   \n",
       "\n",
       "                                                   링크  \n",
       "랭킹                                                     \n",
       "1   http://www.chicagomag.com/Chicago-Magazine/Nov...  \n",
       "2   http://www.chicagomag.com/Chicago-Magazine/Nov...  \n",
       "3   http://www.chicagomag.com/Chicago-Magazine/Nov...  \n",
       "4   http://www.chicagomag.com/Chicago-Magazine/Nov...  \n",
       "5   http://www.chicagomag.com/Chicago-Magazine/Nov...  "
      ]
     },
     "execution_count": 23,
     "metadata": {},
     "output_type": "execute_result"
    }
   ],
   "source": [
    "df.set_index('랭킹', inplace=True)\n",
    "df.head()"
   ]
  },
  {
   "cell_type": "code",
   "execution_count": 24,
   "metadata": {},
   "outputs": [
    {
     "name": "stdout",
     "output_type": "stream",
     "text": [
      "<class 'pandas.core.frame.DataFrame'>\n",
      "Int64Index: 50 entries, 1 to 50\n",
      "Data columns (total 3 columns):\n",
      "메뉴    50 non-null object\n",
      "카페    50 non-null object\n",
      "링크    50 non-null object\n",
      "dtypes: object(3)\n",
      "memory usage: 1.6+ KB\n"
     ]
    }
   ],
   "source": [
    "df.info()"
   ]
  },
  {
   "cell_type": "code",
   "execution_count": 25,
   "metadata": {},
   "outputs": [
    {
     "data": {
      "text/plain": [
       "'BLT'"
      ]
     },
     "execution_count": 25,
     "metadata": {},
     "output_type": "execute_result"
    }
   ],
   "source": [
    "df['메뉴'][1]"
   ]
  },
  {
   "cell_type": "code",
   "execution_count": 26,
   "metadata": {},
   "outputs": [
    {
     "data": {
      "text/plain": [
       "'http://www.chicagomag.com/Chicago-Magazine/November-2012/Best-Sandwiches-in-Chicago-Old-Oak-Tap-BLT/'"
      ]
     },
     "execution_count": 26,
     "metadata": {},
     "output_type": "execute_result"
    }
   ],
   "source": [
    "df['링크'][1]"
   ]
  },
  {
   "cell_type": "code",
   "execution_count": 28,
   "metadata": {},
   "outputs": [],
   "source": [
    "site = df['링크'][1]\n",
    "html = urlopen(site)\n",
    "soup = BeautifulSoup(html, \"lxml\")"
   ]
  },
  {
   "cell_type": "code",
   "execution_count": 29,
   "metadata": {},
   "outputs": [
    {
     "data": {
      "text/plain": [
       "<title>\n",
       "  1. Old Oak Tap BLT |\n",
       "  Chicago magazine\n",
       "      |  November 2012\n",
       "    </title>"
      ]
     },
     "execution_count": 29,
     "metadata": {},
     "output_type": "execute_result"
    }
   ],
   "source": [
    "soup.title"
   ]
  },
  {
   "cell_type": "code",
   "execution_count": 30,
   "metadata": {},
   "outputs": [
    {
     "data": {
      "text/plain": [
       "<p class=\"addy\">\n",
       "<em>$10. 2109 W. Chicago Ave., 773-772-0406, <a href=\"http://www.theoldoaktap.com/\">theoldoaktap.com</a></em></p>"
      ]
     },
     "execution_count": 30,
     "metadata": {},
     "output_type": "execute_result"
    }
   ],
   "source": [
    "p_tag=soup.find('p','addy')\n",
    "p_tag"
   ]
  },
  {
   "cell_type": "code",
   "execution_count": 33,
   "metadata": {},
   "outputs": [
    {
     "name": "stdout",
     "output_type": "stream",
     "text": [
      "<p class=\"addy\">\n",
      " <em>\n",
      "  $10. 2109 W. Chicago Ave., 773-772-0406,\n",
      "  <a href=\"http://www.theoldoaktap.com/\">\n",
      "   theoldoaktap.com\n",
      "  </a>\n",
      " </em>\n",
      "</p>\n",
      "\n"
     ]
    }
   ],
   "source": [
    "print(p_tag.prettify())"
   ]
  },
  {
   "cell_type": "code",
   "execution_count": 35,
   "metadata": {},
   "outputs": [
    {
     "data": {
      "text/plain": [
       "'\\n$10. 2109 W. Chicago Ave., 773-772-0406, theoldoaktap.com'"
      ]
     },
     "execution_count": 35,
     "metadata": {},
     "output_type": "execute_result"
    }
   ],
   "source": [
    "taginfo=p_tag.get_text()\n",
    "taginfo"
   ]
  },
  {
   "cell_type": "code",
   "execution_count": 36,
   "metadata": {},
   "outputs": [
    {
     "data": {
      "text/plain": [
       "'$10. 2109 W. Chicago Ave., 773-772-0406, theoldoaktap.com'"
      ]
     },
     "execution_count": 36,
     "metadata": {},
     "output_type": "execute_result"
    }
   ],
   "source": [
    "taginfo=taginfo.strip()\n",
    "taginfo"
   ]
  },
  {
   "cell_type": "code",
   "execution_count": 40,
   "metadata": {},
   "outputs": [
    {
     "data": {
      "text/plain": [
       "'$10.'"
      ]
     },
     "execution_count": 40,
     "metadata": {},
     "output_type": "execute_result"
    }
   ],
   "source": [
    "menu_price=re.search('\\$\\d+\\.(\\d+)?',taginfo).group()\n",
    "menu_price"
   ]
  },
  {
   "cell_type": "code",
   "execution_count": 41,
   "metadata": {},
   "outputs": [],
   "source": [
    "cafe_addr=\"일단보류\""
   ]
  },
  {
   "cell_type": "code",
   "execution_count": 43,
   "metadata": {},
   "outputs": [
    {
     "data": {
      "text/plain": [
       "'773-772-0406'"
      ]
     },
     "execution_count": 43,
     "metadata": {},
     "output_type": "execute_result"
    }
   ],
   "source": [
    "cafe_tel=re.search('\\d{3}[-]\\d{3}[-]\\d{4}', taginfo)\n",
    "if cafe_tel is not None:\n",
    "    cafe_tel =cafe_tel.group()\n",
    "else:\n",
    "    cafe_tel='No Contact'\n",
    "    \n",
    "cafe_tel"
   ]
  },
  {
   "cell_type": "code",
   "execution_count": 44,
   "metadata": {},
   "outputs": [
    {
     "data": {
      "text/plain": [
       "'$10. 2109 W. Chicago Ave., 773-772-0406, theoldoaktap.com'"
      ]
     },
     "execution_count": 44,
     "metadata": {},
     "output_type": "execute_result"
    }
   ],
   "source": [
    "taginfo"
   ]
  },
  {
   "cell_type": "code",
   "execution_count": 45,
   "metadata": {},
   "outputs": [
    {
     "data": {
      "text/plain": [
       "['$10. 2109 W. Chicago Ave.', ' 773-772-0406', ' theoldoaktap.com']"
      ]
     },
     "execution_count": 45,
     "metadata": {},
     "output_type": "execute_result"
    }
   ],
   "source": [
    "info_list=taginfo.split(',')\n",
    "info_list"
   ]
  },
  {
   "cell_type": "code",
   "execution_count": 49,
   "metadata": {},
   "outputs": [
    {
     "data": {
      "text/plain": [
       "' theoldoaktap.com'"
      ]
     },
     "execution_count": 49,
     "metadata": {},
     "output_type": "execute_result"
    }
   ],
   "source": [
    "if info_list[-1].endswith('.com') or info_list[-1].endswith('.net'):\n",
    "    home_page=info_list[-1]\n",
    "else:\n",
    "    home_page='No Homepage'\n",
    "home_page"
   ]
  },
  {
   "cell_type": "code",
   "execution_count": 50,
   "metadata": {},
   "outputs": [
    {
     "data": {
      "text/plain": [
       "'$10. 2109 W. Chicago Ave.'"
      ]
     },
     "execution_count": 50,
     "metadata": {},
     "output_type": "execute_result"
    }
   ],
   "source": [
    "info_list[0]"
   ]
  },
  {
   "cell_type": "code",
   "execution_count": 51,
   "metadata": {},
   "outputs": [
    {
     "data": {
      "text/plain": [
       "'$10.'"
      ]
     },
     "execution_count": 51,
     "metadata": {},
     "output_type": "execute_result"
    }
   ],
   "source": [
    "menu_price"
   ]
  },
  {
   "cell_type": "code",
   "execution_count": 52,
   "metadata": {},
   "outputs": [
    {
     "data": {
      "text/plain": [
       "'2109 W. Chicago Ave.'"
      ]
     },
     "execution_count": 52,
     "metadata": {},
     "output_type": "execute_result"
    }
   ],
   "source": [
    "idx=len(menu_price)\n",
    "cafe_addr=info_list[0][idx:].strip()\n",
    "cafe_addr"
   ]
  },
  {
   "cell_type": "code",
   "execution_count": 53,
   "metadata": {},
   "outputs": [
    {
     "name": "stdout",
     "output_type": "stream",
     "text": [
      "Top1:http://www.chicagomag.com/Chicago-Magazine/November-2012/Best-Sandwiches-in-Chicago-Old-Oak-Tap-BLT/\n",
      "Top2:http://www.chicagomag.com/Chicago-Magazine/November-2012/Best-Sandwiches-in-Chicago-Au-Cheval-Fried-Bologna/\n",
      "Top3:http://www.chicagomag.com/Chicago-Magazine/November-2012/Best-Sandwiches-in-Chicago-Xoco-Woodland-Mushroom/\n",
      "Top4:http://www.chicagomag.com/Chicago-Magazine/November-2012/Best-Sandwiches-in-Chicago-Als-Deli-Roast-Beef/\n",
      "Top5:http://www.chicagomag.com/Chicago-Magazine/November-2012/Best-Sandwiches-in-Chicago-Publican-Quality-Meats-PB-L/\n"
     ]
    }
   ],
   "source": [
    "for ranking in df.index[:5]:\n",
    "    sub_link=df['링크'][ranking]\n",
    "    print('Top{}:{}'.format(ranking, sub_link))"
   ]
  },
  {
   "cell_type": "code",
   "execution_count": 55,
   "metadata": {},
   "outputs": [
    {
     "name": "stdout",
     "output_type": "stream",
     "text": [
      "Top1 Page : Crawling is completed.\n",
      "Top2 Page : Crawling is completed.\n",
      "Top3 Page : Crawling is completed.\n",
      "Top4 Page : Crawling is completed.\n",
      "Top5 Page : Crawling is completed.\n",
      "--------------------------------------------------\n",
      "크롤링 완료!!!\n"
     ]
    }
   ],
   "source": [
    "price_list = list()\n",
    "cfadd_list = list()\n",
    "cftel_list = list()\n",
    "homep_list = list()\n",
    "\n",
    "for ranking in df.index[:5]:\n",
    "    sub_link = df['링크'][ranking]\n",
    "    # print('{} : {}'.format(idx, sub_link))\n",
    "    html = urlopen(sub_link)\n",
    "    soup = BeautifulSoup(html, \"lxml\")\n",
    "    \n",
    "    p_tag = soup.find('p', 'addy')\n",
    "    taginfo = p_tag.get_text()\n",
    "    taginfo = taginfo.strip()\n",
    "\n",
    "    # 메뉴가격\n",
    "    menu_price = re.search('\\$\\d+\\.(\\d+)?', taginfo).group()\n",
    "\n",
    "    # 카페주소\n",
    "    cafe_addr = '일단보류' \n",
    "\n",
    "    # 전화번호\n",
    "    cafe_tel = re.search('\\d{3}[-]\\d{3}[-]\\d{4}', taginfo)\n",
    "    if cafe_tel is not None:\n",
    "        cafe_tel = cafe_tel.group()\n",
    "    else:\n",
    "        cafe_tel = 'No Contact'\n",
    "\n",
    "    info_list = taginfo.split(', ')\n",
    "\n",
    "    # 홈페이지\n",
    "    if info_list[-1].endswith('.com') or info_list[-1].endswith('.net'):\n",
    "        home_page = info_list[-1]\n",
    "    else:\n",
    "        home_page = 'No Homepage'\n",
    "\n",
    "    # 카페주소\n",
    "    idx = len(menu_price)\n",
    "    cafe_addr = info_list[0][idx:].strip()\n",
    "\n",
    "    price_list.append(menu_price)\n",
    "    cfadd_list.append(cafe_addr )\n",
    "    cftel_list.append(cafe_tel  )\n",
    "    homep_list.append(home_page )\n",
    "    \n",
    "    print('Top{} Page : Crawling is completed.'.format(ranking))\n",
    "else:\n",
    "    print('-'*50)\n",
    "    print('크롤링 완료!!!')\n",
    "    "
   ]
  },
  {
   "cell_type": "code",
   "execution_count": 56,
   "metadata": {},
   "outputs": [
    {
     "data": {
      "text/plain": [
       "['2109 W. Chicago Ave.',\n",
       " '800 W. Randolph St.',\n",
       " '. 445 N. Clark St.',\n",
       " '. 914 Noyes St.',\n",
       " '825 W. Fulton Mkt.']"
      ]
     },
     "execution_count": 56,
     "metadata": {},
     "output_type": "execute_result"
    }
   ],
   "source": [
    "cfadd_list"
   ]
  },
  {
   "cell_type": "code",
   "execution_count": 57,
   "metadata": {},
   "outputs": [
    {
     "data": {
      "text/plain": [
       "['$10.', '$9.', '$9.50', '$9.40', '$10.']"
      ]
     },
     "execution_count": 57,
     "metadata": {},
     "output_type": "execute_result"
    }
   ],
   "source": [
    "price_list"
   ]
  },
  {
   "cell_type": "code",
   "execution_count": 58,
   "metadata": {},
   "outputs": [
    {
     "data": {
      "text/plain": [
       "'$10'"
      ]
     },
     "execution_count": 58,
     "metadata": {},
     "output_type": "execute_result"
    }
   ],
   "source": [
    "menu_price=price_list[0]\n",
    "if menu_price.endswith('.'):\n",
    "    menu_price=menu_price[:-1]\n",
    "menu_price"
   ]
  },
  {
   "cell_type": "code",
   "execution_count": 59,
   "metadata": {},
   "outputs": [
    {
     "data": {
      "text/plain": [
       "'445 N. Clark St.'"
      ]
     },
     "execution_count": 59,
     "metadata": {},
     "output_type": "execute_result"
    }
   ],
   "source": [
    "cafe_addr=cfadd_list[2]\n",
    "if cafe_addr.startswith('.'):\n",
    "    cafe_addr=cafe_addr[1:].strip()\n",
    "cafe_addr"
   ]
  },
  {
   "cell_type": "code",
   "execution_count": 60,
   "metadata": {},
   "outputs": [],
   "source": [
    "from tqdm import tqdm_notebook\n",
    "\n",
    "def getSubpagesData(df):\n",
    "\n",
    "    ret_dict  = dict()\n",
    "    columns   = [ '메뉴가격', '카페주소', '전화번호', '홈페이지' ]\n",
    "    price_list = list()\n",
    "    cfadd_list = list()\n",
    "    cftel_list = list()\n",
    "    homep_list = list()\n",
    "\n",
    "    for ranking in tqdm_notebook(df.index):\n",
    "        \n",
    "        sub_link = df['링크'][ranking]\n",
    "        html = urlopen(sub_link)\n",
    "        soup = BeautifulSoup(html, \"lxml\")\n",
    "\n",
    "        p_tag = soup.find('p', 'addy')\n",
    "        taginfo = p_tag.get_text()\n",
    "        taginfo = taginfo.strip()\n",
    "\n",
    "        # 메뉴가격\n",
    "        menu_price = re.search('\\$\\d+\\.(\\d+)?', taginfo).group()\n",
    "\n",
    "        # 카페주소\n",
    "        # cafe_addr = '일단보류' \n",
    "\n",
    "        # 전화번호\n",
    "        cafe_tel = re.search('\\d{3}[-]\\d{3}[-]\\d{4}', taginfo)\n",
    "        if cafe_tel is not None:\n",
    "            cafe_tel = cafe_tel.group()\n",
    "        else:\n",
    "            cafe_tel = 'No Contact'\n",
    "\n",
    "        info_list = taginfo.split(', ')\n",
    "\n",
    "        # 홈페이지\n",
    "        if info_list[-1].endswith('.com') or info_list[-1].endswith('.net'):\n",
    "            home_page = info_list[-1]\n",
    "        else:\n",
    "            home_page = 'No Homepage'\n",
    "\n",
    "        # 카페주소\n",
    "        idx = len(menu_price)\n",
    "        cafe_addr = info_list[0][idx:].strip()\n",
    "        \n",
    "        # 리펙토링\n",
    "        menu_price = menu_price[:-1] if menu_price.endswith('.') else menu_price\n",
    "        cafe_addr  = cafe_addr[1:].strip() if cafe_addr.startswith('.') else cafe_addr\n",
    "        \n",
    "        # if menu_price.endswith('.'):\n",
    "        #     menu_price = menu_price[:-1]\n",
    "        # if cafe_addr.startswith('.'):\n",
    "        #     cafe_addr = cafe_addr[1:].strip()\n",
    "        \n",
    "\n",
    "        price_list.append(menu_price)\n",
    "        cfadd_list.append(cafe_addr )\n",
    "        cftel_list.append(cafe_tel  )\n",
    "        homep_list.append(home_page )\n",
    "\n",
    "        # print('Ranking{} subpage crawling is completed.'.format(ranking))\n",
    "        separator = ' |\\n' if ranking%5==0 else ' | '\n",
    "        print('Top{0:2d} 완료'.format(ranking), end=separator)\n",
    "    else:\n",
    "        print(); print('-'*100);\n",
    "        print('모든 서브페이지 크롤링 완료!!!')\n",
    "\n",
    "    ret_dict[columns[0]] = price_list\n",
    "    ret_dict[columns[1]] = cfadd_list\n",
    "    ret_dict[columns[2]] = cftel_list\n",
    "    ret_dict[columns[3]] = homep_list\n",
    "    \n",
    "    return ret_dict"
   ]
  },
  {
   "cell_type": "code",
   "execution_count": 61,
   "metadata": {},
   "outputs": [
    {
     "data": {
      "application/vnd.jupyter.widget-view+json": {
       "model_id": "7fbcd4faec344eddb73ef4c94de937dd",
       "version_major": 2,
       "version_minor": 0
      },
      "text/plain": [
       "HBox(children=(IntProgress(value=0, max=50), HTML(value='')))"
      ]
     },
     "metadata": {},
     "output_type": "display_data"
    },
    {
     "name": "stdout",
     "output_type": "stream",
     "text": [
      "Top 1 완료 | Top 2 완료 | Top 3 완료 | Top 4 완료 | Top 5 완료 |\n",
      "Top 6 완료 | Top 7 완료 | Top 8 완료 | Top 9 완료 | Top10 완료 |\n",
      "Top11 완료 | Top12 완료 | Top13 완료 | Top14 완료 | Top15 완료 |\n",
      "Top16 완료 | Top17 완료 | Top18 완료 | Top19 완료 | Top20 완료 |\n",
      "Top21 완료 | Top22 완료 | Top23 완료 | Top24 완료 | Top25 완료 |\n",
      "Top26 완료 | Top27 완료 | Top28 완료 | Top29 완료 | Top30 완료 |\n",
      "Top31 완료 | Top32 완료 | Top33 완료 | Top34 완료 | Top35 완료 |\n",
      "Top36 완료 | Top37 완료 | Top38 완료 | Top39 완료 | Top40 완료 |\n",
      "Top41 완료 | Top42 완료 | Top43 완료 | Top44 완료 | Top45 완료 |\n",
      "Top46 완료 | Top47 완료 | Top48 완료 | Top49 완료 | Top50 완료 |\n",
      "\n",
      "\n",
      "----------------------------------------------------------------------------------------------------\n",
      "모든 서브페이지 크롤링 완료!!!\n"
     ]
    }
   ],
   "source": [
    "ret_dict = getSubpagesData(df)"
   ]
  },
  {
   "cell_type": "code",
   "execution_count": null,
   "metadata": {},
   "outputs": [],
   "source": []
  }
 ],
 "metadata": {
  "kernelspec": {
   "display_name": "Python 3",
   "language": "python",
   "name": "python3"
  },
  "language_info": {
   "codemirror_mode": {
    "name": "ipython",
    "version": 3
   },
   "file_extension": ".py",
   "mimetype": "text/x-python",
   "name": "python",
   "nbconvert_exporter": "python",
   "pygments_lexer": "ipython3",
   "version": "3.7.3"
  }
 },
 "nbformat": 4,
 "nbformat_minor": 2
}
