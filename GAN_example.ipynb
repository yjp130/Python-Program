{
  "nbformat": 4,
  "nbformat_minor": 0,
  "metadata": {
    "colab": {
      "name": "GAN_example.ipynb",
      "provenance": []
    },
    "kernelspec": {
      "name": "python3",
      "display_name": "Python 3"
    }
  },
  "cells": [
    {
      "cell_type": "code",
      "metadata": {
        "id": "ITqazvKDc-F6",
        "colab_type": "code",
        "colab": {}
      },
      "source": [
        "import tensorflow as tf\n",
        "import matplotlib.pyplot as plt\n",
        "import numpy as np"
      ],
      "execution_count": 0,
      "outputs": []
    },
    {
      "cell_type": "code",
      "metadata": {
        "id": "q3UUvuLpdCWn",
        "colab_type": "code",
        "colab": {
          "base_uri": "https://localhost:8080/",
          "height": 87
        },
        "outputId": "c7663ec2-514d-4ddd-81a5-ea821db242a6"
      },
      "source": [
        "from tensorflow.examples.tutorials.mnist import input_data\n",
        "mnist=input_data.read_data_sets(\"./mnist/data/\", one_hot=True)\n"
      ],
      "execution_count": 51,
      "outputs": [
        {
          "output_type": "stream",
          "text": [
            "Extracting ./mnist/data/train-images-idx3-ubyte.gz\n",
            "Extracting ./mnist/data/train-labels-idx1-ubyte.gz\n",
            "Extracting ./mnist/data/t10k-images-idx3-ubyte.gz\n",
            "Extracting ./mnist/data/t10k-labels-idx1-ubyte.gz\n"
          ],
          "name": "stdout"
        }
      ]
    },
    {
      "cell_type": "code",
      "metadata": {
        "id": "N4atnNSqdDs2",
        "colab_type": "code",
        "colab": {}
      },
      "source": [
        "n_input=28*28\n",
        "n_noise=128\n",
        "\n",
        "n_hidden =256 # 은닉층 노드수\n",
        "\n",
        "#\n",
        "total_epoch=100\n",
        "batch_size=20 #배치 사이즈\n",
        "learning_rate=0.0002 #학습률"
      ],
      "execution_count": 0,
      "outputs": []
    },
    {
      "cell_type": "code",
      "metadata": {
        "id": "QWgg_kpjdFBm",
        "colab_type": "code",
        "colab": {}
      },
      "source": [
        "X=tf.placeholder(tf.float32, [None, n_input])\n",
        "# 생성망에 들어갈 입력 데이터(정규분포를 따르는 128개의 데이터)\n",
        "Z=tf.placeholder(tf.float32, [None, n_noise])"
      ],
      "execution_count": 0,
      "outputs": []
    },
    {
      "cell_type": "markdown",
      "metadata": {
        "id": "7s5WJ5ikdKl6",
        "colab_type": "text"
      },
      "source": [
        "#생성자 신경망\n",
        "* W\n",
        "* b"
      ]
    },
    {
      "cell_type": "code",
      "metadata": {
        "id": "LzfHHLEYdJ2V",
        "colab_type": "code",
        "colab": {}
      },
      "source": [
        "# (생성자) 입력층 -> 은닉층으로\n",
        "G_W1=tf.Variable(tf.random_normal([n_noise, n_hidden], stddev=0.01))\n",
        "G_b1=tf.Variable(tf.zeros([n_hidden]))\n",
        "\n",
        "# 은닉층에서 출력층으로\n",
        "G_W2=tf.Variable(tf.random_normal([n_hidden, n_input], stddev=0.01))\n",
        "G_b2=tf.Variable(tf.zeros([n_input]))"
      ],
      "execution_count": 0,
      "outputs": []
    },
    {
      "cell_type": "code",
      "metadata": {
        "id": "Ae3TbBoHdN91",
        "colab_type": "code",
        "colab": {}
      },
      "source": [
        "# (판별망) 입력층 -> 은닉층으로\n",
        "D_W1=tf.Variable(tf.random_normal([n_input, n_hidden], stddev=0.01))\n",
        "D_b1=tf.Variable(tf.zeros([n_hidden]))\n",
        "\n",
        "# 은닉층에서 출력층으로\n",
        "D_W2=tf.Variable(tf.random_normal([n_hidden, 1], stddev=0.01))\n",
        "D_b2=tf.Variable(tf.zeros([1]))"
      ],
      "execution_count": 0,
      "outputs": []
    },
    {
      "cell_type": "markdown",
      "metadata": {
        "id": "z8rbjQkcdQ9w",
        "colab_type": "text"
      },
      "source": [
        "## 노이즈 데이터 발생을 위한 노이즈 생성함수\n",
        "*def get_noise(데이터 개수, 노이즈 개수"
      ]
    },
    {
      "cell_type": "code",
      "metadata": {
        "id": "UvJ1JHOPpi28",
        "colab_type": "code",
        "colab": {}
      },
      "source": [
        "def get_noise(batch_size, n_noise):\n",
        "    return np.random.normal(size=(batch_size, n_noise))"
      ],
      "execution_count": 0,
      "outputs": []
    },
    {
      "cell_type": "markdown",
      "metadata": {
        "id": "W2-VRYUxdYIJ",
        "colab_type": "text"
      },
      "source": [
        "## 생성자와 판별자의 신경망을 직접 구성"
      ]
    },
    {
      "cell_type": "code",
      "metadata": {
        "id": "F6LENo2KdYj0",
        "colab_type": "code",
        "colab": {}
      },
      "source": [
        "def generator(noise_z):\n",
        "    hidden = tf.nn.relu(tf.matmul(noise_z, G_W1)+G_b1)\n",
        "    output=tf.nn.sigmoid(tf.matmul(hidden, G_W2)+G_b2)\n",
        "    \n",
        "    return output"
      ],
      "execution_count": 0,
      "outputs": []
    },
    {
      "cell_type": "code",
      "metadata": {
        "id": "Xj9ytLPfddrU",
        "colab_type": "code",
        "colab": {}
      },
      "source": [
        "def discriminator(inputs):\n",
        "    hidden=tf.nn.relu(tf.matmul(inputs, D_W1)+D_b1)\n",
        "    output=tf.nn.sigmoid(tf.matmul(hidden, D_W2)+D_b2)\n",
        "    \n",
        "    return output"
      ],
      "execution_count": 0,
      "outputs": []
    },
    {
      "cell_type": "code",
      "metadata": {
        "id": "oz_jxaTSde8V",
        "colab_type": "code",
        "colab": {}
      },
      "source": [
        "# 생성자 신경망\n",
        "G=generator(Z)\n",
        "\n",
        "# 판별자 신경망\n",
        "D_fake= discriminator(G)\n",
        "\n",
        "# 진짜 이미지 \n",
        "D_real=discriminator(X)"
      ],
      "execution_count": 0,
      "outputs": []
    },
    {
      "cell_type": "markdown",
      "metadata": {
        "id": "Iqh0TqXhdh8J",
        "colab_type": "text"
      },
      "source": [
        "## 비용함수, 최적화 함수"
      ]
    },
    {
      "cell_type": "code",
      "metadata": {
        "id": "2_gz4ppYdjS8",
        "colab_type": "code",
        "colab": {}
      },
      "source": [
        "# 경찰관의 성능 -> 가능한 높은값\n",
        "loss_D= tf.reduce_mean(tf.log(D_real)+tf.log(1-D_fake))\n",
        "\n",
        "# 위조 지폐범의 성능 -> 가능한 높은값\n",
        "loss_G =tf.reduce_mean(tf.log(D_fake))"
      ],
      "execution_count": 0,
      "outputs": []
    },
    {
      "cell_type": "code",
      "metadata": {
        "id": "ZzYK_rGLdmGl",
        "colab_type": "code",
        "colab": {}
      },
      "source": [
        "# 사용하는 변수 리스트 화\n",
        "D_var_list=[D_W1, D_b1, D_W2, D_b2]\n",
        "G_var_list=[G_W1, G_b1, G_W2, G_b2]"
      ],
      "execution_count": 0,
      "outputs": []
    },
    {
      "cell_type": "code",
      "metadata": {
        "id": "eQpbLLrOdnSM",
        "colab_type": "code",
        "colab": {}
      },
      "source": [
        "### 오차 최소화가 아니라..\n",
        "### GAN은 loss_D와 loss_G를 최대화시키는 것이 목표다.\n"
      ],
      "execution_count": 0,
      "outputs": []
    },
    {
      "cell_type": "code",
      "metadata": {
        "id": "JzJ0pQkwdogk",
        "colab_type": "code",
        "colab": {}
      },
      "source": [
        "train_D=tf.train.AdamOptimizer(learning_rate).minimize(-loss_D, var_list=D_var_list)\n",
        "train_G=tf.train.AdamOptimizer(learning_rate).minimize(-loss_G, var_list=G_var_list)"
      ],
      "execution_count": 0,
      "outputs": []
    },
    {
      "cell_type": "code",
      "metadata": {
        "id": "2McYvf52dp4U",
        "colab_type": "code",
        "colab": {}
      },
      "source": [
        "## 모델 학습\n",
        "import numpy as np"
      ],
      "execution_count": 0,
      "outputs": []
    },
    {
      "cell_type": "code",
      "metadata": {
        "id": "PZUum_bldrA0",
        "colab_type": "code",
        "colab": {}
      },
      "source": [
        "sess=tf.Session()\n",
        "sess.run(tf.global_variables_initializer())\n",
        "\n",
        "total_batch=int(mnist.train.num_examples/batch_size)\n",
        "loss_val_D, loss_val_G =0,0"
      ],
      "execution_count": 0,
      "outputs": []
    },
    {
      "cell_type": "code",
      "metadata": {
        "id": "wyR95ExOdsNd",
        "colab_type": "code",
        "colab": {}
      },
      "source": [
        "for epoch in range(total_epoch):\n",
        "    for i in range(total_batch):\n",
        "        batch_xs, batch_ys = mnist.train.next_batch(batch_size) # 판별망의 데이터\n",
        "        noise=get_noise(batch_size, n_noise) # 생성망에 들어가는 입력\n",
        "        \n",
        "        _, loss_val_D=sess.run([train_D, loss_D], feed_dict={X:batch_xs, Z:noise})\n",
        "        _, loss_val_G=sess.run([train_G, loss_G], feed_dict={Z:noise})"
      ],
      "execution_count": 0,
      "outputs": []
    },
    {
      "cell_type": "code",
      "metadata": {
        "id": "cAaLhOu5jwgu",
        "colab_type": "code",
        "colab": {
          "base_uri": "https://localhost:8080/",
          "height": 34
        },
        "outputId": "ba921410-62b9-4412-9fda-a7faa3eb8908"
      },
      "source": [
        "!mkdir samples"
      ],
      "execution_count": 66,
      "outputs": [
        {
          "output_type": "stream",
          "text": [
            "mkdir: cannot create directory ‘samples’: File exists\n"
          ],
          "name": "stdout"
        }
      ]
    },
    {
      "cell_type": "code",
      "metadata": {
        "id": "xZFCE0bzdty8",
        "colab_type": "code",
        "colab": {
          "base_uri": "https://localhost:8080/",
          "height": 618
        },
        "outputId": "a7e82505-0a9c-4f05-ae0a-bac06686dcf5"
      },
      "source": [
        "for epoch in range(20):\n",
        "  for i in range(total_batch):\n",
        "    batch_xs, batch_ys = mnist.train.next_batch(batch_size) # 판별망의 데이터 \n",
        "    noise = get_noise(batch_size, n_noise) # 생성망에 들어가는 입력\n",
        "    \n",
        "    _, loss_val_D = sess.run([train_D, loss_D], \n",
        "                             feed_dict={X:batch_xs, Z:noise})\n",
        "    _, loss_val_G = sess.run([train_G, loss_G],\n",
        "                             feed_dict={Z:noise})\n",
        "    \n",
        "\n",
        "  if epoch == 0 or (epoch + 1) % 10 == 0:\n",
        "    sample_size = 10\n",
        "    noise = get_noise(sample_size, n_noise) # 노이즈 생성.\n",
        "    samples = sess.run(G, feed_dict={Z: noise})\n",
        "    fig, ax = plt.subplots(1, sample_size, figsize=(sample_size, 1))\n",
        "    \n",
        "    for i in range(sample_size):\n",
        "      ax[i].set_axis_off()\n",
        "      ax[i].imshow(np.reshape(samples[i], (28, 28)))\n",
        "      \n",
        "    plt.savefig('samples/{}.png'.format(str(epoch).zfill(3)), bbox_inches='tight')\n",
        "    plt.close(fig)\n",
        "\n",
        "  print(\"Epoch : {}, 판별망의 성능 : {:.4f}, 생성망의 성능 : {:.4f}\".format(epoch, \n",
        "                                                           loss_val_D,\n",
        "                                                           loss_val_G))\n",
        "    \n",
        "print(\"최적화 완료!\")"
      ],
      "execution_count": 67,
      "outputs": [
        {
          "output_type": "stream",
          "text": [
            "/usr/local/lib/python3.6/dist-packages/matplotlib/image.py:395: UserWarning: Warning: converting a masked element to nan.\n",
            "  dv = (np.float64(self.norm.vmax) -\n",
            "/usr/local/lib/python3.6/dist-packages/matplotlib/image.py:396: UserWarning: Warning: converting a masked element to nan.\n",
            "  np.float64(self.norm.vmin))\n",
            "/usr/local/lib/python3.6/dist-packages/matplotlib/image.py:403: UserWarning: Warning: converting a masked element to nan.\n",
            "  a_min = np.float64(newmin)\n",
            "/usr/local/lib/python3.6/dist-packages/matplotlib/image.py:408: UserWarning: Warning: converting a masked element to nan.\n",
            "  a_max = np.float64(newmax)\n",
            "/usr/local/lib/python3.6/dist-packages/matplotlib/colors.py:918: UserWarning: Warning: converting a masked element to nan.\n",
            "  dtype = np.min_scalar_type(value)\n",
            "/usr/local/lib/python3.6/dist-packages/numpy/ma/core.py:713: UserWarning: Warning: converting a masked element to nan.\n",
            "  data = np.array(a, copy=False, subok=subok)\n"
          ],
          "name": "stderr"
        },
        {
          "output_type": "stream",
          "text": [
            "Epoch : 0, 판별망의 성능 : nan, 생성망의 성능 : nan\n",
            "Epoch : 1, 판별망의 성능 : nan, 생성망의 성능 : nan\n",
            "Epoch : 2, 판별망의 성능 : nan, 생성망의 성능 : nan\n",
            "Epoch : 3, 판별망의 성능 : nan, 생성망의 성능 : nan\n",
            "Epoch : 4, 판별망의 성능 : nan, 생성망의 성능 : nan\n",
            "Epoch : 5, 판별망의 성능 : nan, 생성망의 성능 : nan\n",
            "Epoch : 6, 판별망의 성능 : nan, 생성망의 성능 : nan\n",
            "Epoch : 7, 판별망의 성능 : nan, 생성망의 성능 : nan\n",
            "Epoch : 8, 판별망의 성능 : nan, 생성망의 성능 : nan\n",
            "Epoch : 9, 판별망의 성능 : nan, 생성망의 성능 : nan\n",
            "Epoch : 10, 판별망의 성능 : nan, 생성망의 성능 : nan\n",
            "Epoch : 11, 판별망의 성능 : nan, 생성망의 성능 : nan\n",
            "Epoch : 12, 판별망의 성능 : nan, 생성망의 성능 : nan\n",
            "Epoch : 13, 판별망의 성능 : nan, 생성망의 성능 : nan\n",
            "Epoch : 14, 판별망의 성능 : nan, 생성망의 성능 : nan\n",
            "Epoch : 15, 판별망의 성능 : nan, 생성망의 성능 : nan\n",
            "Epoch : 16, 판별망의 성능 : nan, 생성망의 성능 : nan\n",
            "Epoch : 17, 판별망의 성능 : nan, 생성망의 성능 : nan\n",
            "Epoch : 18, 판별망의 성능 : nan, 생성망의 성능 : nan\n",
            "Epoch : 19, 판별망의 성능 : nan, 생성망의 성능 : nan\n",
            "최적화 완료!\n"
          ],
          "name": "stdout"
        }
      ]
    },
    {
      "cell_type": "code",
      "metadata": {
        "id": "08EF6pk6jtCT",
        "colab_type": "code",
        "colab": {}
      },
      "source": [
        ""
      ],
      "execution_count": 0,
      "outputs": []
    }
  ]
}