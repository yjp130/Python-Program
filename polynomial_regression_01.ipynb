{
 "cells": [
  {
   "cell_type": "code",
   "execution_count": 1,
   "metadata": {},
   "outputs": [],
   "source": [
    "import pandas as pd"
   ]
  },
  {
   "cell_type": "code",
   "execution_count": 2,
   "metadata": {},
   "outputs": [],
   "source": [
    "tr = pd.read_excel(\"E:/dataset/00_SBA_TeamProject/00_190916/train.xlsx\")\n",
    "test = pd.read_excel(\"E:/dataset/00_SBA_TeamProject/00_190916/test.xlsx\")"
   ]
  },
  {
   "cell_type": "code",
   "execution_count": 20,
   "metadata": {},
   "outputs": [
    {
     "name": "stdout",
     "output_type": "stream",
     "text": [
      "Index(['year', 'actual', 'vehicle', 'charging station', 'weight', 'article'], dtype='object')\n",
      "Index(['year', 'vehicle'], dtype='object')\n"
     ]
    },
    {
     "data": {
      "text/html": [
       "<div>\n",
       "<style scoped>\n",
       "    .dataframe tbody tr th:only-of-type {\n",
       "        vertical-align: middle;\n",
       "    }\n",
       "\n",
       "    .dataframe tbody tr th {\n",
       "        vertical-align: top;\n",
       "    }\n",
       "\n",
       "    .dataframe thead th {\n",
       "        text-align: right;\n",
       "    }\n",
       "</style>\n",
       "<table border=\"1\" class=\"dataframe\">\n",
       "  <thead>\n",
       "    <tr style=\"text-align: right;\">\n",
       "      <th></th>\n",
       "      <th>year</th>\n",
       "      <th>actual</th>\n",
       "      <th>vehicle</th>\n",
       "      <th>charging station</th>\n",
       "      <th>weight</th>\n",
       "      <th>article</th>\n",
       "    </tr>\n",
       "  </thead>\n",
       "  <tbody>\n",
       "    <tr>\n",
       "      <th>0</th>\n",
       "      <td>1</td>\n",
       "      <td>2011</td>\n",
       "      <td>338</td>\n",
       "      <td>33</td>\n",
       "      <td>60330</td>\n",
       "      <td>11888</td>\n",
       "    </tr>\n",
       "    <tr>\n",
       "      <th>1</th>\n",
       "      <td>2</td>\n",
       "      <td>2012</td>\n",
       "      <td>753</td>\n",
       "      <td>85</td>\n",
       "      <td>80480</td>\n",
       "      <td>8840</td>\n",
       "    </tr>\n",
       "    <tr>\n",
       "      <th>2</th>\n",
       "      <td>3</td>\n",
       "      <td>2013</td>\n",
       "      <td>780</td>\n",
       "      <td>59</td>\n",
       "      <td>100650</td>\n",
       "      <td>14588</td>\n",
       "    </tr>\n",
       "    <tr>\n",
       "      <th>3</th>\n",
       "      <td>4</td>\n",
       "      <td>2014</td>\n",
       "      <td>1075</td>\n",
       "      <td>60</td>\n",
       "      <td>120840</td>\n",
       "      <td>22462</td>\n",
       "    </tr>\n",
       "    <tr>\n",
       "      <th>4</th>\n",
       "      <td>5</td>\n",
       "      <td>2015</td>\n",
       "      <td>2907</td>\n",
       "      <td>100</td>\n",
       "      <td>141050</td>\n",
       "      <td>32971</td>\n",
       "    </tr>\n",
       "    <tr>\n",
       "      <th>5</th>\n",
       "      <td>6</td>\n",
       "      <td>2016</td>\n",
       "      <td>5914</td>\n",
       "      <td>154</td>\n",
       "      <td>161280</td>\n",
       "      <td>50272</td>\n",
       "    </tr>\n",
       "    <tr>\n",
       "      <th>6</th>\n",
       "      <td>7</td>\n",
       "      <td>2017</td>\n",
       "      <td>13826</td>\n",
       "      <td>442</td>\n",
       "      <td>181530</td>\n",
       "      <td>68660</td>\n",
       "    </tr>\n",
       "    <tr>\n",
       "      <th>7</th>\n",
       "      <td>8</td>\n",
       "      <td>2018</td>\n",
       "      <td>31696</td>\n",
       "      <td>766</td>\n",
       "      <td>201800</td>\n",
       "      <td>110078</td>\n",
       "    </tr>\n",
       "  </tbody>\n",
       "</table>\n",
       "</div>"
      ],
      "text/plain": [
       "   year  actual  vehicle  charging station  weight  article\n",
       "0     1    2011      338                33   60330    11888\n",
       "1     2    2012      753                85   80480     8840\n",
       "2     3    2013      780                59  100650    14588\n",
       "3     4    2014     1075                60  120840    22462\n",
       "4     5    2015     2907               100  141050    32971\n",
       "5     6    2016     5914               154  161280    50272\n",
       "6     7    2017    13826               442  181530    68660\n",
       "7     8    2018    31696               766  201800   110078"
      ]
     },
     "execution_count": 20,
     "metadata": {},
     "output_type": "execute_result"
    }
   ],
   "source": [
    "print(tr.columns)\n",
    "print(test.columns)\n",
    "tr"
   ]
  },
  {
   "cell_type": "code",
   "execution_count": 53,
   "metadata": {},
   "outputs": [],
   "source": [
    "sel = ['actual']\n",
    "X = tr[sel]\n",
    "y = tr['vehicle']\n",
    "# print(X[5:])"
   ]
  },
  {
   "cell_type": "code",
   "execution_count": 54,
   "metadata": {},
   "outputs": [],
   "source": [
    "from sklearn.linear_model import LinearRegression\n",
    "from sklearn.preprocessing import PolynomialFeatures"
   ]
  },
  {
   "cell_type": "code",
   "execution_count": 55,
   "metadata": {},
   "outputs": [
    {
     "data": {
      "text/plain": [
       "LinearRegression(copy_X=True, fit_intercept=True, n_jobs=1, normalize=False)"
      ]
     },
     "execution_count": 55,
     "metadata": {},
     "output_type": "execute_result"
    }
   ],
   "source": [
    "model = PolynomialFeatures(degree=2)\n",
    "x_poly = model.fit_transform(X)\n",
    "lin_reg_2 = LinearRegression()\n",
    "lin_reg_2.fit(x_poly, y)\n",
    "lin_reg_2"
   ]
  },
  {
   "cell_type": "code",
   "execution_count": 56,
   "metadata": {},
   "outputs": [],
   "source": [
    "import matplotlib.pyplot as plt"
   ]
  },
  {
   "cell_type": "code",
   "execution_count": 57,
   "metadata": {},
   "outputs": [
    {
     "data": {
      "text/plain": [
       "<matplotlib.collections.PathCollection at 0x222ade629e8>"
      ]
     },
     "execution_count": 57,
     "metadata": {},
     "output_type": "execute_result"
    },
    {
     "data": {
      "image/png": "[encoded data removed]",
      "text/plain": [
       "<Figure size 432x288 with 1 Axes>"
      ]
     },
     "metadata": {},
     "output_type": "display_data"
    }
   ],
   "source": [
    "plt.scatter(X, y, color='red')"
   ]
  },
  {
   "cell_type": "code",
   "execution_count": 59,
   "metadata": {},
   "outputs": [
    {
     "data": {
      "text/plain": [
       "Text(0,0.5,'vehicle')"
      ]
     },
     "execution_count": 59,
     "metadata": {},
     "output_type": "execute_result"
    },
    {
     "data": {
      "image/png": "[encoded data removed]",
      "text/plain": [
       "<Figure size 432x288 with 1 Axes>"
      ]
     },
     "metadata": {},
     "output_type": "display_data"
    }
   ],
   "source": [
    "pred = lin_reg_2.predict(x_poly)\n",
    "plt.scatter(X, y, color='red')\n",
    "plt.plot(X, pred, color= 'blue')\n",
    "plt.title('Truth of Bluff (Polynomial Regession)')\n",
    "plt.xlabel('year')\n",
    "plt.ylabel('vehicle')"
   ]
  },
  {
   "cell_type": "code",
   "execution_count": 60,
   "metadata": {},
   "outputs": [
    {
     "ename": "NameError",
     "evalue": "name 'np' is not defined",
     "output_type": "error",
     "traceback": [
      "\u001b[1;31m---------------------------------------------------------------------------\u001b[0m",
      "\u001b[1;31mNameError\u001b[0m                                 Traceback (most recent call last)",
      "\u001b[1;32m<ipython-input-60-8375aa5326a4>\u001b[0m in \u001b[0;36m<module>\u001b[1;34m()\u001b[0m\n\u001b[1;32m----> 1\u001b[1;33m \u001b[0myear_dat\u001b[0m \u001b[1;33m=\u001b[0m \u001b[0mnp\u001b[0m\u001b[1;33m.\u001b[0m\u001b[0marange\u001b[0m\u001b[1;33m(\u001b[0m\u001b[1;36m2019\u001b[0m\u001b[1;33m,\u001b[0m \u001b[1;36m2035\u001b[0m\u001b[1;33m)\u001b[0m\u001b[1;33m\u001b[0m\u001b[0m\n\u001b[0m\u001b[0;32m      2\u001b[0m \u001b[0mprint\u001b[0m\u001b[1;33m(\u001b[0m\u001b[0myear_dat\u001b[0m\u001b[1;33m)\u001b[0m\u001b[1;33m\u001b[0m\u001b[0m\n\u001b[0;32m      3\u001b[0m \u001b[0mnewdata\u001b[0m \u001b[1;33m=\u001b[0m \u001b[0mpd\u001b[0m\u001b[1;33m.\u001b[0m\u001b[0mDataFrame\u001b[0m\u001b[1;33m(\u001b[0m \u001b[1;33m{\u001b[0m\u001b[1;34m'year'\u001b[0m\u001b[1;33m:\u001b[0m\u001b[0myear_dat\u001b[0m\u001b[1;33m}\u001b[0m \u001b[1;33m)\u001b[0m\u001b[1;33m\u001b[0m\u001b[0m\n\u001b[0;32m      4\u001b[0m \u001b[1;31m# newdata = pd.DataFrame( {'year':[9, 10, 11,12,13,14,15,16, 17, 18, 19, 20]} )\u001b[0m\u001b[1;33m\u001b[0m\u001b[1;33m\u001b[0m\u001b[0m\n\u001b[0;32m      5\u001b[0m \u001b[0mx_poly_new\u001b[0m \u001b[1;33m=\u001b[0m \u001b[0mmodel\u001b[0m\u001b[1;33m.\u001b[0m\u001b[0mfit_transform\u001b[0m\u001b[1;33m(\u001b[0m\u001b[0mnewdata\u001b[0m\u001b[1;33m)\u001b[0m\u001b[1;33m\u001b[0m\u001b[0m\n",
      "\u001b[1;31mNameError\u001b[0m: name 'np' is not defined"
     ]
    }
   ],
   "source": [
    "year_dat = np.arange(2019, 2035)\n",
    "print(year_dat)\n",
    "newdata = pd.DataFrame( {'year':year_dat} )\n",
    "# newdata = pd.DataFrame( {'year':[9, 10, 11,12,13,14,15,16, 17, 18, 19, 20]} )\n",
    "x_poly_new = model.fit_transform(newdata)\n",
    "newdata"
   ]
  },
  {
   "cell_type": "code",
   "execution_count": 49,
   "metadata": {},
   "outputs": [
    {
     "data": {
      "text/plain": [
       "array([ 41097.55357143,  56528.86309524,  74327.13690476,  94492.375     ,\n",
       "       117024.57738095, 141923.74404762, 169189.875     , 198822.9702381 ,\n",
       "       230823.0297619 , 265190.05357143, 301924.04166667, 341024.99404762])"
      ]
     },
     "execution_count": 49,
     "metadata": {},
     "output_type": "execute_result"
    }
   ],
   "source": [
    "pred_new = lin_reg_2.predict(x_poly_new)\n",
    "pred_new"
   ]
  },
  {
   "cell_type": "code",
   "execution_count": 52,
   "metadata": {},
   "outputs": [
    {
     "data": {
      "text/plain": [
       "Text(0,0.5,'vehicle')"
      ]
     },
     "execution_count": 52,
     "metadata": {},
     "output_type": "execute_result"
    },
    {
     "data": {
      "image/png": "[encoded data removed]",
      "text/plain": [
       "<Figure size 432x288 with 1 Axes>"
      ]
     },
     "metadata": {},
     "output_type": "display_data"
    }
   ],
   "source": [
    "plt.scatter(X, y, color='red')\n",
    "plt.scatter(newdata, pred_new, color='orange')  # 예측\n",
    "\n",
    "plt.plot(X, pred, color= 'blue')\n",
    "plt.plot(newdata, pred_new, color= 'red')         # 예측\n",
    "\n",
    "plt.xlim(0, 22)\n",
    "plt.ylim(-10000, 500000)\n",
    "plt.title('Truth of Bluff (Polynomial Regession)')\n",
    "plt.xlabel('year')\n",
    "plt.ylabel('vehicle')\n"
   ]
  },
  {
   "cell_type": "code",
   "execution_count": 12,
   "metadata": {},
   "outputs": [
    {
     "data": {
      "text/plain": [
       "array([33008.8, 39665.2, 46321.6, 52978. , 59634.4, 66290.8])"
      ]
     },
     "execution_count": 12,
     "metadata": {},
     "output_type": "execute_result"
    }
   ],
   "source": []
  },
  {
   "cell_type": "code",
   "execution_count": 56,
   "metadata": {},
   "outputs": [
    {
     "name": "stdout",
     "output_type": "stream",
     "text": [
      "   actual\n",
      "5    2014\n",
      "6    2015\n",
      "7    2016\n",
      "8    2017\n",
      "9    2018\n",
      "5     2775\n",
      "6     5712\n",
      "7    10885\n",
      "8    13826\n",
      "9    32000\n",
      "Name: vehicle, dtype: int64\n"
     ]
    }
   ],
   "source": [
    "### actual를 활용했을 때\n",
    "sel = ['actual']\n",
    "X = tr[sel]\n",
    "y = tr['vehicle']\n",
    "print(X[5:])\n",
    "print(y[5:])"
   ]
  },
  {
   "cell_type": "code",
   "execution_count": 57,
   "metadata": {},
   "outputs": [],
   "source": [
    "import numpy as np"
   ]
  },
  {
   "cell_type": "code",
   "execution_count": 58,
   "metadata": {},
   "outputs": [
    {
     "name": "stdout",
     "output_type": "stream",
     "text": [
      "[2019 2020 2021 2022 2023 2024 2025 2026 2027 2028 2029 2030 2031 2032\n",
      " 2033 2034 2035 2036 2037 2038 2039 2040 2041 2042 2043 2044 2045 2046\n",
      " 2047 2048 2049 2050 2051]\n"
     ]
    },
    {
     "data": {
      "text/plain": [
       "array([33008.8, 39665.2, 46321.6, 52978. , 59634.4, 66290.8])"
      ]
     },
     "execution_count": 58,
     "metadata": {},
     "output_type": "execute_result"
    }
   ],
   "source": [
    "year_dat = np.arange(2019, 2052)\n",
    "print(year_dat)\n",
    "newdata = pd.DataFrame( {'year':[2019,2020,2021,2022,2023,2024]} )\n",
    "model = LinearRegression()\n",
    "model.fit(X[5:], y[5:])\n",
    "pred = model.predict(newdata)\n",
    "pred"
   ]
  },
  {
   "cell_type": "code",
   "execution_count": 64,
   "metadata": {},
   "outputs": [
    {
     "name": "stdout",
     "output_type": "stream",
     "text": [
      "<class 'pandas.core.series.Series'> <bound method Series.keys of Series([], Name: vehicle, dtype: int64)>\n"
     ]
    }
   ],
   "source": [
    "type(pred)\n",
    "y = y[5:]\n",
    "print(type(y), y.keys)\n",
    "#y.append(1)\n",
    "y"
   ]
  },
  {
   "cell_type": "code",
   "execution_count": 44,
   "metadata": {},
   "outputs": [
    {
     "data": {
      "text/plain": [
       "0    33008.8\n",
       "1    39665.2\n",
       "2    46321.6\n",
       "3    52978.0\n",
       "4    59634.4\n",
       "5    66290.8\n",
       "dtype: float64"
      ]
     },
     "execution_count": 44,
     "metadata": {},
     "output_type": "execute_result"
    }
   ],
   "source": [
    "pred_S = pd.Series(pred)\n",
    "pred_S"
   ]
  },
  {
   "cell_type": "code",
   "execution_count": null,
   "metadata": {},
   "outputs": [],
   "source": []
  }
 ],
 "metadata": {
  "kernelspec": {
   "display_name": "Python 3",
   "language": "python",
   "name": "python3"
  },
  "language_info": {
   "codemirror_mode": {
    "name": "ipython",
    "version": 3
   },
   "file_extension": ".py",
   "mimetype": "text/x-python",
   "name": "python",
   "nbconvert_exporter": "python",
   "pygments_lexer": "ipython3",
   "version": "3.7.3"
  }
 },
 "nbformat": 4,
 "nbformat_minor": 2
}
