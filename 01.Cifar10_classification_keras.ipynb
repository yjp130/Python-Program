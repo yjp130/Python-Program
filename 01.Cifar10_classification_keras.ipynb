{
 "cells": [
  {
   "cell_type": "markdown",
   "metadata": {
    "colab": {
     "base_uri": "https://localhost:8080/",
     "height": 130
    },
    "colab_type": "code",
    "id": "f9WbqXnbkIgh",
    "outputId": "a8e2aeaa-32ee-47d7-b150-88f4644199a5"
   },
   "source": [
    "# SBA 빅데이터 사이언스 실무연계 프로젝트 🏫\n",
    "## Machine Learning sevice on DSVM ☁️\n",
    "---\n",
    "\n",
    "### 01. Cifar10 Image Classification with Keras on VM\n",
    "\n",
    "* [Keras Document](http://keras.io/)  \n",
    "* [Cifar10 Dataset](https://www.cs.toronto.edu/~kriz/cifar.html)\n"
   ]
  },
  {
   "cell_type": "markdown",
   "metadata": {},
   "source": [
    "##### 전미정 | 2019.11.21. | ninevincentg@gmail.com"
   ]
  },
  {
   "cell_type": "markdown",
   "metadata": {
    "colab_type": "text",
    "id": "Ob3ZPcyYkeoe"
   },
   "source": [
    "## Part1. Data Preparing\n",
    "### 1. Cifar10 데이터 가져오기"
   ]
  },
  {
   "cell_type": "code",
   "execution_count": null,
   "metadata": {
    "colab": {
     "base_uri": "https://localhost:8080/",
     "height": 170
    },
    "colab_type": "code",
    "id": "MGjnYdMbkjdR",
    "outputId": "55062cd6-d4ad-4a9e-fb55-b0cc6be0e2c3"
   },
   "outputs": [],
   "source": [
    "# 데이터 다운로드\n",
    "import urllib.request\n",
    "import os\n",
    "\n",
    "os.makedirs('./data/', exist_ok=True)\n",
    "\n",
    "images_url = 'https://www.dropbox.com/s/ua5rtnb1k4mdzpz/dataset.npy?dl=1'\n",
    "label_url = 'https://www.dropbox.com/s/9apie8xg9vqylws/label.npy?dl=1'\n",
    "\n",
    "urllib.request.urlretrieve(images_url, filename='./data/images.npy')\n",
    "urllib.request.urlretrieve(label_url, filename='./data/label.npy')"
   ]
  },
  {
   "cell_type": "code",
   "execution_count": null,
   "metadata": {},
   "outputs": [],
   "source": [
    "# 데이터 확인\n",
    "from sklearn.model_selection import train_test_split\n",
    "import numpy as np\n",
    "\n",
    "images = np.load('./data/images.npy')\n",
    "label = np.load('./data/label.npy')\n",
    "\n",
    "X_train, X_test, y_train, y_test = train_test_split(images, label, test_size = 0.2)\n",
    "\n",
    "print(\"Total Images:\", images.shape)\n",
    "print(\"Total Label:\", label.shape)\n",
    "print(X_train.shape, y_train.shape, X_test.shape, y_test.shape, sep='\\n')"
   ]
  },
  {
   "cell_type": "markdown",
   "metadata": {
    "colab_type": "text",
    "id": "U8XmKuUgkoMG"
   },
   "source": [
    "### 2. 데이터 이미지 확인"
   ]
  },
  {
   "cell_type": "code",
   "execution_count": null,
   "metadata": {
    "colab": {
     "base_uri": "https://localhost:8080/",
     "height": 503
    },
    "colab_type": "code",
    "id": "qdRA32soktkk",
    "outputId": "aec70802-a524-4a8d-9f58-d1152b030dec"
   },
   "outputs": [],
   "source": [
    "# 이미지, 레이블 확인\n",
    "\n",
    "%matplotlib inline\n",
    "\n",
    "import matplotlib.pyplot as plt\n",
    "\n",
    "cifar10_label = [\"airplane\", \"automobile\", \"bird\", \"cat\", \"deer\", \"dog\", \"frog\", \"horse\", \"ship\", \"truck\"]\n",
    "\n",
    "count = 0\n",
    "sample_size = 10\n",
    "plt.figure(figsize = (16, 6))\n",
    "for i in np.random.permutation(images.shape[0])[:sample_size]:\n",
    "    count = count + 1\n",
    "    plt.subplot(1, sample_size, count)\n",
    "    plt.axhline('')\n",
    "    plt.axvline('')\n",
    "    plt.text(x=10, y=-10, s=cifar10_label[label[i]], fontsize=15)\n",
    "    plt.imshow(images[i], cmap=plt.cm.Greys)\n",
    "\n",
    "plt.show()"
   ]
  },
  {
   "cell_type": "markdown",
   "metadata": {
    "colab_type": "text",
    "id": "Ehrb-RkOkvre"
   },
   "source": [
    "### 3. 데이터 전처리"
   ]
  },
  {
   "cell_type": "code",
   "execution_count": null,
   "metadata": {
    "colab": {
     "base_uri": "https://localhost:8080/",
     "height": 34
    },
    "colab_type": "code",
    "id": "Eh0rTqGdk1He",
    "outputId": "ef58010e-3a93-4056-983d-48ca5ac61391"
   },
   "outputs": [],
   "source": [
    "# 이미지 전처리 : Normalize 0~255 -> 0~1 \n",
    "\n",
    "X_train = X_train.astype('float32')\n",
    "X_test = X_test.astype('float32')\n",
    "X_train = X_train/255\n",
    "X_test = X_test/255\n",
    "\n",
    "print('X_train shape:', X_train.shape)\n"
   ]
  },
  {
   "cell_type": "code",
   "execution_count": null,
   "metadata": {
    "colab": {
     "base_uri": "https://localhost:8080/",
     "height": 170
    },
    "colab_type": "code",
    "id": "2iqODnZCmwIa",
    "outputId": "02a7259c-0fb5-44f6-db62-2ec077081a53"
   },
   "outputs": [],
   "source": [
    "import keras.utils as utils\n",
    "\n",
    "# Label 전처리 : One hot encoding\n",
    "y_train = utils.to_categorical(y_train)\n",
    "y_test = utils.to_categorical(y_test)\n",
    "\n",
    "num_classes = y_test.shape[1]\n",
    "\n",
    "print(\"\\ny_train:\\n\")\n",
    "print(y_train.shape)\n",
    "\n",
    "print(\"\\ny_val:\\n\")\n",
    "print(y_test.shape)\n",
    "\n",
    "print('num_classes:', num_classes)"
   ]
  },
  {
   "cell_type": "markdown",
   "metadata": {
    "colab_type": "text",
    "id": "dDAlmxFKnJOj"
   },
   "source": [
    "---\n",
    "\n",
    "## Part2. Model Training\n",
    "### 4.CNN 모델 "
   ]
  },
  {
   "cell_type": "code",
   "execution_count": null,
   "metadata": {
    "colab": {
     "base_uri": "https://localhost:8080/",
     "height": 425
    },
    "colab_type": "code",
    "id": "1ZS41_ETnNHq",
    "outputId": "07bfe6c9-bf02-45c9-a685-febc2594b8a0"
   },
   "outputs": [],
   "source": [
    "import keras\n",
    "from keras.models import Sequential\n",
    "from keras.layers import Dense, Dropout, Activation, Flatten\n",
    "from keras.layers import Conv2D, MaxPooling2D\n",
    "from keras import optimizers\n",
    "\n",
    "# 모델 생성/레이어 쌓기\n",
    "model = Sequential()\n",
    "model.add(Conv2D(8, (3, 3), input_shape=(32, 32, 3), padding='same', activation='relu'))\n",
    "model.add(Dropout(0.2))\n",
    "model.add(Conv2D(32, (3, 3), activation='relu', padding='same'))\n",
    "model.add(MaxPooling2D(pool_size=(2, 2)))\n",
    "model.add(Flatten())\n",
    "model.add(Dense(64, activation='relu'))\n",
    "model.add(Dropout(0.5))\n",
    "model.add(Dense(num_classes, activation='softmax'))\n",
    "\n",
    "# 모델 compile\n",
    "sgd = keras.optimizers.SGD(lr=0.01, momentum=0.0, decay=0.0, nesterov=False)\n",
    "model.compile(loss='categorical_crossentropy', optimizer=sgd, metrics=['accuracy'])\n",
    "print(model.summary())"
   ]
  },
  {
   "cell_type": "markdown",
   "metadata": {
    "colab_type": "text",
    "id": "5gDw67_Po8GX"
   },
   "source": [
    "### 5. 모델 훈련"
   ]
  },
  {
   "cell_type": "code",
   "execution_count": null,
   "metadata": {
    "colab": {
     "base_uri": "https://localhost:8080/",
     "height": 1652
    },
    "colab_type": "code",
    "id": "GIpZ3fV2o8W5",
    "outputId": "7d02bdf0-b090-406c-a294-b1142e47c964"
   },
   "outputs": [],
   "source": [
    "batch_size = 32\n",
    "epochs = 10\n",
    "\n",
    "# 모델 훈련\n",
    "history = model.fit(X_train, y_train,\n",
    "                 epochs=epochs,\n",
    "                 verbose=1,\n",
    "                 validation_data=(X_test, y_test),\n",
    "                 shuffle=True)"
   ]
  },
  {
   "cell_type": "markdown",
   "metadata": {
    "colab_type": "text",
    "id": "7RFEJH9btUAI"
   },
   "source": [
    "---\n",
    "\n",
    "## Part3. Model Evaluate and Save\n",
    "### 6. 모델 평가 \n"
   ]
  },
  {
   "cell_type": "code",
   "execution_count": null,
   "metadata": {
    "colab": {},
    "colab_type": "code",
    "id": "CDEw8nOVtVyM"
   },
   "outputs": [],
   "source": [
    "# 훈련된 모델 평가\n",
    "scores = model.evaluate(X_test, y_test, verbose=0)\n",
    "print(\"Accuracy: %.2f%%\" % (scores[1]*100))"
   ]
  },
  {
   "cell_type": "markdown",
   "metadata": {
    "colab_type": "text",
    "id": "yPip2KM4taDZ"
   },
   "source": [
    "### 7. 모델 저장"
   ]
  },
  {
   "cell_type": "code",
   "execution_count": null,
   "metadata": {
    "colab": {},
    "colab_type": "code",
    "id": "f0ALCmpLtbSA"
   },
   "outputs": [],
   "source": [
    "# notebook 디렉토리에 모델 저장\n",
    "model.save('keras_cifar10_trained_model.h5')"
   ]
  },
  {
   "cell_type": "markdown",
   "metadata": {
    "colab_type": "text",
    "id": "LnoZIuyCtqjt"
   },
   "source": [
    "---\n",
    "\n",
    "## Part4. Visualize Training\n",
    "### 10. 훈련 과정 살펴보기"
   ]
  },
  {
   "cell_type": "code",
   "execution_count": null,
   "metadata": {
    "colab": {},
    "colab_type": "code",
    "id": "ui85N-GytwOH"
   },
   "outputs": [],
   "source": [
    "acc = history.history['acc']\n",
    "val_acc = history.history['val_acc']\n",
    "loss = history.history['loss']\n",
    "val_loss = history.history['val_loss']\n",
    "\n",
    "epochs = range(len(acc))\n",
    "\n",
    "plt.plot(epochs, acc, 'b', label='Training acc')\n",
    "plt.plot(epochs, val_acc, 'r', label='Validation acc')\n",
    "plt.title('Training and validation accuracy')\n",
    "plt.legend()\n",
    "\n",
    "plt.figure()\n",
    "\n",
    "plt.plot(epochs, loss, 'b', label='Training loss')\n",
    "plt.plot(epochs, val_loss, 'r', label='Validation loss')\n",
    "plt.title('Training and validation loss')\n",
    "plt.legend()\n",
    "\n",
    "plt.show()"
   ]
  },
  {
   "cell_type": "markdown",
   "metadata": {
    "colab_type": "text",
    "id": "LnoZIuyCtqjt"
   },
   "source": [
    "---\n",
    "\n",
    "## Part5. Test Model\n",
    "### 11. 랜덤 이미지로 모델 테스트"
   ]
  },
  {
   "cell_type": "code",
   "execution_count": null,
   "metadata": {},
   "outputs": [],
   "source": [
    "# 검증 셋 중 3장의 이미지를 랜덤으로 선택해 훈련된 모델로 예측\n",
    "import numpy\n",
    "for index in numpy.random.choice(len(y_test), 3, replace = False):\n",
    "    predicted = model.predict(X_test[index:index + 1])[0]\n",
    "    label = y_test[index]\n",
    "    result_label = numpy.where(label == numpy.amax(label))\n",
    "    result_predicted = numpy.where(predicted == numpy.amax(predicted))\n",
    "    title = \"Label value = %s  Predicted value = %s \" % (cifar10_label[int(result_label[0])],  cifar10_label[int(result_predicted[0])])\n",
    "    \n",
    "    fig = plt.figure(1, figsize = (3,3))\n",
    "    ax1 = fig.add_axes((0,0,.8,.8))\n",
    "    ax1.set_title(title)\n",
    "    images = X_test\n",
    "    plt.imshow(images[index], cmap = plt.cm.gray_r, interpolation = 'nearest')\n",
    "    plt.show()"
   ]
  },
  {
   "cell_type": "markdown",
   "metadata": {},
   "source": [
    "---\n",
    "수고하셨습니다 🕊"
   ]
  }
 ],
 "metadata": {
  "accelerator": "GPU",
  "colab": {
   "name": "Untitled0.ipynb",
   "provenance": [],
   "version": "0.3.2"
  },
  "kernelspec": {
   "display_name": "Python [default]",
   "language": "python",
   "name": "python3"
  },
  "language_info": {
   "codemirror_mode": {
    "name": "ipython",
    "version": 3
   },
   "file_extension": ".py",
   "mimetype": "text/x-python",
   "name": "python",
   "nbconvert_exporter": "python",
   "pygments_lexer": "ipython3",
   "version": "3.5.5"
  }
 },
 "nbformat": 4,
 "nbformat_minor": 1
}
